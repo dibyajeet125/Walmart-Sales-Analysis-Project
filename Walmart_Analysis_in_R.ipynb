{
  "nbformat": 4,
  "nbformat_minor": 0,
  "metadata": {
    "colab": {
      "provenance": []
    },
    "kernelspec": {
      "name": "ir",
      "display_name": "R"
    },
    "language_info": {
      "name": "R"
    }
  },
  "cells": [
    {
      "cell_type": "code",
      "execution_count": 1,
      "metadata": {
        "colab": {
          "base_uri": "https://localhost:8080/"
        },
        "id": "0PuKqF9rFIzY",
        "outputId": "a9376a2b-7a76-4707-8b5c-7392fef42d74"
      },
      "outputs": [
        {
          "output_type": "stream",
          "name": "stderr",
          "text": [
            "\n",
            "Attaching package: ‘dplyr’\n",
            "\n",
            "\n",
            "The following objects are masked from ‘package:stats’:\n",
            "\n",
            "    filter, lag\n",
            "\n",
            "\n",
            "The following objects are masked from ‘package:base’:\n",
            "\n",
            "    intersect, setdiff, setequal, union\n",
            "\n",
            "\n",
            "\n",
            "Attaching package: ‘lubridate’\n",
            "\n",
            "\n",
            "The following objects are masked from ‘package:base’:\n",
            "\n",
            "    date, intersect, setdiff, union\n",
            "\n",
            "\n"
          ]
        }
      ],
      "source": [
        "library(\"dplyr\")\n",
        "library(\"ggplot2\")\n",
        "library(\"lubridate\")\n",
        "library(\"scales\")"
      ]
    },
    {
      "cell_type": "code",
      "source": [
        "df=read.csv(\"/content/Copy of WALMART_SALES_DATA.csv\")"
      ],
      "metadata": {
        "id": "0IdSxAr2PMkh"
      },
      "execution_count": 2,
      "outputs": []
    },
    {
      "cell_type": "code",
      "source": [
        "summary(df)"
      ],
      "metadata": {
        "colab": {
          "base_uri": "https://localhost:8080/",
          "height": 260
        },
        "id": "usKtyFBMPls9",
        "outputId": "9b9c6ded-7786-434e-95e3-bbeb806f8352"
      },
      "execution_count": 3,
      "outputs": [
        {
          "output_type": "display_data",
          "data": {
            "text/plain": [
              "     Store        Date            Weekly_Sales      Holiday_Flag    \n",
              " Min.   : 1   Length:6435        Min.   : 209986   Min.   :0.00000  \n",
              " 1st Qu.:12   Class :character   1st Qu.: 553350   1st Qu.:0.00000  \n",
              " Median :23   Mode  :character   Median : 960746   Median :0.00000  \n",
              " Mean   :23                      Mean   :1046965   Mean   :0.06993  \n",
              " 3rd Qu.:34                      3rd Qu.:1420159   3rd Qu.:0.00000  \n",
              " Max.   :45                      Max.   :3818686   Max.   :1.00000  \n",
              "  Temperature       Fuel_Price         CPI         Unemployment   \n",
              " Min.   : -2.06   Min.   :2.472   Min.   :126.1   Min.   : 3.879  \n",
              " 1st Qu.: 47.46   1st Qu.:2.933   1st Qu.:131.7   1st Qu.: 6.891  \n",
              " Median : 62.67   Median :3.445   Median :182.6   Median : 7.874  \n",
              " Mean   : 60.66   Mean   :3.359   Mean   :171.6   Mean   : 7.999  \n",
              " 3rd Qu.: 74.94   3rd Qu.:3.735   3rd Qu.:212.7   3rd Qu.: 8.622  \n",
              " Max.   :100.14   Max.   :4.468   Max.   :227.2   Max.   :14.313  "
            ]
          },
          "metadata": {}
        }
      ]
    },
    {
      "cell_type": "code",
      "source": [
        "head(df)"
      ],
      "metadata": {
        "colab": {
          "base_uri": "https://localhost:8080/",
          "height": 286
        },
        "id": "eBBbmThQPlvx",
        "outputId": "be43340e-a63d-42eb-f32e-452527600cee"
      },
      "execution_count": 4,
      "outputs": [
        {
          "output_type": "display_data",
          "data": {
            "text/html": [
              "<table class=\"dataframe\">\n",
              "<caption>A data.frame: 6 × 8</caption>\n",
              "<thead>\n",
              "\t<tr><th></th><th scope=col>Store</th><th scope=col>Date</th><th scope=col>Weekly_Sales</th><th scope=col>Holiday_Flag</th><th scope=col>Temperature</th><th scope=col>Fuel_Price</th><th scope=col>CPI</th><th scope=col>Unemployment</th></tr>\n",
              "\t<tr><th></th><th scope=col>&lt;int&gt;</th><th scope=col>&lt;chr&gt;</th><th scope=col>&lt;dbl&gt;</th><th scope=col>&lt;int&gt;</th><th scope=col>&lt;dbl&gt;</th><th scope=col>&lt;dbl&gt;</th><th scope=col>&lt;dbl&gt;</th><th scope=col>&lt;dbl&gt;</th></tr>\n",
              "</thead>\n",
              "<tbody>\n",
              "\t<tr><th scope=row>1</th><td>1</td><td>05-02-2010</td><td>1643691</td><td>0</td><td>42.31</td><td>2.572</td><td>211.0964</td><td>8.106</td></tr>\n",
              "\t<tr><th scope=row>2</th><td>1</td><td>12-02-2010</td><td>1641957</td><td>1</td><td>38.51</td><td>2.548</td><td>211.2422</td><td>8.106</td></tr>\n",
              "\t<tr><th scope=row>3</th><td>1</td><td>19-02-2010</td><td>1611968</td><td>0</td><td>39.93</td><td>2.514</td><td>211.2891</td><td>8.106</td></tr>\n",
              "\t<tr><th scope=row>4</th><td>1</td><td>26-02-2010</td><td>1409728</td><td>0</td><td>46.63</td><td>2.561</td><td>211.3196</td><td>8.106</td></tr>\n",
              "\t<tr><th scope=row>5</th><td>1</td><td>05-03-2010</td><td>1554807</td><td>0</td><td>46.50</td><td>2.625</td><td>211.3501</td><td>8.106</td></tr>\n",
              "\t<tr><th scope=row>6</th><td>1</td><td>12-03-2010</td><td>1439542</td><td>0</td><td>57.79</td><td>2.667</td><td>211.3806</td><td>8.106</td></tr>\n",
              "</tbody>\n",
              "</table>\n"
            ],
            "text/markdown": "\nA data.frame: 6 × 8\n\n| <!--/--> | Store &lt;int&gt; | Date &lt;chr&gt; | Weekly_Sales &lt;dbl&gt; | Holiday_Flag &lt;int&gt; | Temperature &lt;dbl&gt; | Fuel_Price &lt;dbl&gt; | CPI &lt;dbl&gt; | Unemployment &lt;dbl&gt; |\n|---|---|---|---|---|---|---|---|---|\n| 1 | 1 | 05-02-2010 | 1643691 | 0 | 42.31 | 2.572 | 211.0964 | 8.106 |\n| 2 | 1 | 12-02-2010 | 1641957 | 1 | 38.51 | 2.548 | 211.2422 | 8.106 |\n| 3 | 1 | 19-02-2010 | 1611968 | 0 | 39.93 | 2.514 | 211.2891 | 8.106 |\n| 4 | 1 | 26-02-2010 | 1409728 | 0 | 46.63 | 2.561 | 211.3196 | 8.106 |\n| 5 | 1 | 05-03-2010 | 1554807 | 0 | 46.50 | 2.625 | 211.3501 | 8.106 |\n| 6 | 1 | 12-03-2010 | 1439542 | 0 | 57.79 | 2.667 | 211.3806 | 8.106 |\n\n",
            "text/latex": "A data.frame: 6 × 8\n\\begin{tabular}{r|llllllll}\n  & Store & Date & Weekly\\_Sales & Holiday\\_Flag & Temperature & Fuel\\_Price & CPI & Unemployment\\\\\n  & <int> & <chr> & <dbl> & <int> & <dbl> & <dbl> & <dbl> & <dbl>\\\\\n\\hline\n\t1 & 1 & 05-02-2010 & 1643691 & 0 & 42.31 & 2.572 & 211.0964 & 8.106\\\\\n\t2 & 1 & 12-02-2010 & 1641957 & 1 & 38.51 & 2.548 & 211.2422 & 8.106\\\\\n\t3 & 1 & 19-02-2010 & 1611968 & 0 & 39.93 & 2.514 & 211.2891 & 8.106\\\\\n\t4 & 1 & 26-02-2010 & 1409728 & 0 & 46.63 & 2.561 & 211.3196 & 8.106\\\\\n\t5 & 1 & 05-03-2010 & 1554807 & 0 & 46.50 & 2.625 & 211.3501 & 8.106\\\\\n\t6 & 1 & 12-03-2010 & 1439542 & 0 & 57.79 & 2.667 & 211.3806 & 8.106\\\\\n\\end{tabular}\n",
            "text/plain": [
              "  Store Date       Weekly_Sales Holiday_Flag Temperature Fuel_Price CPI     \n",
              "1 1     05-02-2010 1643691      0            42.31       2.572      211.0964\n",
              "2 1     12-02-2010 1641957      1            38.51       2.548      211.2422\n",
              "3 1     19-02-2010 1611968      0            39.93       2.514      211.2891\n",
              "4 1     26-02-2010 1409728      0            46.63       2.561      211.3196\n",
              "5 1     05-03-2010 1554807      0            46.50       2.625      211.3501\n",
              "6 1     12-03-2010 1439542      0            57.79       2.667      211.3806\n",
              "  Unemployment\n",
              "1 8.106       \n",
              "2 8.106       \n",
              "3 8.106       \n",
              "4 8.106       \n",
              "5 8.106       \n",
              "6 8.106       "
            ]
          },
          "metadata": {}
        }
      ]
    },
    {
      "cell_type": "code",
      "source": [
        "tail(df)"
      ],
      "metadata": {
        "colab": {
          "base_uri": "https://localhost:8080/",
          "height": 286
        },
        "id": "-TWULazAPlz6",
        "outputId": "c89efa05-5ef6-4058-db17-2af44c5cf54d"
      },
      "execution_count": 5,
      "outputs": [
        {
          "output_type": "display_data",
          "data": {
            "text/html": [
              "<table class=\"dataframe\">\n",
              "<caption>A data.frame: 6 × 8</caption>\n",
              "<thead>\n",
              "\t<tr><th></th><th scope=col>Store</th><th scope=col>Date</th><th scope=col>Weekly_Sales</th><th scope=col>Holiday_Flag</th><th scope=col>Temperature</th><th scope=col>Fuel_Price</th><th scope=col>CPI</th><th scope=col>Unemployment</th></tr>\n",
              "\t<tr><th></th><th scope=col>&lt;int&gt;</th><th scope=col>&lt;chr&gt;</th><th scope=col>&lt;dbl&gt;</th><th scope=col>&lt;int&gt;</th><th scope=col>&lt;dbl&gt;</th><th scope=col>&lt;dbl&gt;</th><th scope=col>&lt;dbl&gt;</th><th scope=col>&lt;dbl&gt;</th></tr>\n",
              "</thead>\n",
              "<tbody>\n",
              "\t<tr><th scope=row>6430</th><td>45</td><td>21-09-2012</td><td>723086.2</td><td>0</td><td>65.32</td><td>4.038</td><td>191.8567</td><td>8.684</td></tr>\n",
              "\t<tr><th scope=row>6431</th><td>45</td><td>28-09-2012</td><td>713173.9</td><td>0</td><td>64.88</td><td>3.997</td><td>192.0136</td><td>8.684</td></tr>\n",
              "\t<tr><th scope=row>6432</th><td>45</td><td>05-10-2012</td><td>733455.1</td><td>0</td><td>64.89</td><td>3.985</td><td>192.1704</td><td>8.667</td></tr>\n",
              "\t<tr><th scope=row>6433</th><td>45</td><td>12-10-2012</td><td>734464.4</td><td>0</td><td>54.47</td><td>4.000</td><td>192.3273</td><td>8.667</td></tr>\n",
              "\t<tr><th scope=row>6434</th><td>45</td><td>19-10-2012</td><td>718125.5</td><td>0</td><td>56.47</td><td>3.969</td><td>192.3309</td><td>8.667</td></tr>\n",
              "\t<tr><th scope=row>6435</th><td>45</td><td>26-10-2012</td><td>760281.4</td><td>0</td><td>58.85</td><td>3.882</td><td>192.3089</td><td>8.667</td></tr>\n",
              "</tbody>\n",
              "</table>\n"
            ],
            "text/markdown": "\nA data.frame: 6 × 8\n\n| <!--/--> | Store &lt;int&gt; | Date &lt;chr&gt; | Weekly_Sales &lt;dbl&gt; | Holiday_Flag &lt;int&gt; | Temperature &lt;dbl&gt; | Fuel_Price &lt;dbl&gt; | CPI &lt;dbl&gt; | Unemployment &lt;dbl&gt; |\n|---|---|---|---|---|---|---|---|---|\n| 6430 | 45 | 21-09-2012 | 723086.2 | 0 | 65.32 | 4.038 | 191.8567 | 8.684 |\n| 6431 | 45 | 28-09-2012 | 713173.9 | 0 | 64.88 | 3.997 | 192.0136 | 8.684 |\n| 6432 | 45 | 05-10-2012 | 733455.1 | 0 | 64.89 | 3.985 | 192.1704 | 8.667 |\n| 6433 | 45 | 12-10-2012 | 734464.4 | 0 | 54.47 | 4.000 | 192.3273 | 8.667 |\n| 6434 | 45 | 19-10-2012 | 718125.5 | 0 | 56.47 | 3.969 | 192.3309 | 8.667 |\n| 6435 | 45 | 26-10-2012 | 760281.4 | 0 | 58.85 | 3.882 | 192.3089 | 8.667 |\n\n",
            "text/latex": "A data.frame: 6 × 8\n\\begin{tabular}{r|llllllll}\n  & Store & Date & Weekly\\_Sales & Holiday\\_Flag & Temperature & Fuel\\_Price & CPI & Unemployment\\\\\n  & <int> & <chr> & <dbl> & <int> & <dbl> & <dbl> & <dbl> & <dbl>\\\\\n\\hline\n\t6430 & 45 & 21-09-2012 & 723086.2 & 0 & 65.32 & 4.038 & 191.8567 & 8.684\\\\\n\t6431 & 45 & 28-09-2012 & 713173.9 & 0 & 64.88 & 3.997 & 192.0136 & 8.684\\\\\n\t6432 & 45 & 05-10-2012 & 733455.1 & 0 & 64.89 & 3.985 & 192.1704 & 8.667\\\\\n\t6433 & 45 & 12-10-2012 & 734464.4 & 0 & 54.47 & 4.000 & 192.3273 & 8.667\\\\\n\t6434 & 45 & 19-10-2012 & 718125.5 & 0 & 56.47 & 3.969 & 192.3309 & 8.667\\\\\n\t6435 & 45 & 26-10-2012 & 760281.4 & 0 & 58.85 & 3.882 & 192.3089 & 8.667\\\\\n\\end{tabular}\n",
            "text/plain": [
              "     Store Date       Weekly_Sales Holiday_Flag Temperature Fuel_Price CPI     \n",
              "6430 45    21-09-2012 723086.2     0            65.32       4.038      191.8567\n",
              "6431 45    28-09-2012 713173.9     0            64.88       3.997      192.0136\n",
              "6432 45    05-10-2012 733455.1     0            64.89       3.985      192.1704\n",
              "6433 45    12-10-2012 734464.4     0            54.47       4.000      192.3273\n",
              "6434 45    19-10-2012 718125.5     0            56.47       3.969      192.3309\n",
              "6435 45    26-10-2012 760281.4     0            58.85       3.882      192.3089\n",
              "     Unemployment\n",
              "6430 8.684       \n",
              "6431 8.684       \n",
              "6432 8.667       \n",
              "6433 8.667       \n",
              "6434 8.667       \n",
              "6435 8.667       "
            ]
          },
          "metadata": {}
        }
      ]
    },
    {
      "cell_type": "code",
      "source": [
        "dim(df)"
      ],
      "metadata": {
        "colab": {
          "base_uri": "https://localhost:8080/",
          "height": 34
        },
        "id": "05vgEh1jPl26",
        "outputId": "f55089ad-01fa-4db9-84e9-907cb211b881"
      },
      "execution_count": 6,
      "outputs": [
        {
          "output_type": "display_data",
          "data": {
            "text/html": [
              "<style>\n",
              ".list-inline {list-style: none; margin:0; padding: 0}\n",
              ".list-inline>li {display: inline-block}\n",
              ".list-inline>li:not(:last-child)::after {content: \"\\00b7\"; padding: 0 .5ex}\n",
              "</style>\n",
              "<ol class=list-inline><li>6435</li><li>8</li></ol>\n"
            ],
            "text/markdown": "1. 6435\n2. 8\n\n\n",
            "text/latex": "\\begin{enumerate*}\n\\item 6435\n\\item 8\n\\end{enumerate*}\n",
            "text/plain": [
              "[1] 6435    8"
            ]
          },
          "metadata": {}
        }
      ]
    },
    {
      "cell_type": "code",
      "source": [
        "class(df)"
      ],
      "metadata": {
        "colab": {
          "base_uri": "https://localhost:8080/",
          "height": 34
        },
        "id": "ZvbLVbocPl5p",
        "outputId": "b9e4bce3-0e5b-4cfc-afe8-323c2408c637"
      },
      "execution_count": 7,
      "outputs": [
        {
          "output_type": "display_data",
          "data": {
            "text/html": [
              "'data.frame'"
            ],
            "text/markdown": "'data.frame'",
            "text/latex": "'data.frame'",
            "text/plain": [
              "[1] \"data.frame\""
            ]
          },
          "metadata": {}
        }
      ]
    },
    {
      "cell_type": "code",
      "source": [
        "table(df$Holiday_Flag)"
      ],
      "metadata": {
        "colab": {
          "base_uri": "https://localhost:8080/",
          "height": 69
        },
        "id": "sFgkeO96Pl8o",
        "outputId": "ccd25e30-9a61-4f05-951c-dba312517306"
      },
      "execution_count": 8,
      "outputs": [
        {
          "output_type": "display_data",
          "data": {
            "text/plain": [
              "\n",
              "   0    1 \n",
              "5985  450 "
            ]
          },
          "metadata": {}
        }
      ]
    },
    {
      "cell_type": "code",
      "source": [
        "table(df$Store)"
      ],
      "metadata": {
        "colab": {
          "base_uri": "https://localhost:8080/",
          "height": 138
        },
        "id": "8I6HbstwPl_E",
        "outputId": "2f11ac87-8a1e-41db-e1a8-f955b92b155b"
      },
      "execution_count": 9,
      "outputs": [
        {
          "output_type": "display_data",
          "data": {
            "text/plain": [
              "\n",
              "  1   2   3   4   5   6   7   8   9  10  11  12  13  14  15  16  17  18  19  20 \n",
              "143 143 143 143 143 143 143 143 143 143 143 143 143 143 143 143 143 143 143 143 \n",
              " 21  22  23  24  25  26  27  28  29  30  31  32  33  34  35  36  37  38  39  40 \n",
              "143 143 143 143 143 143 143 143 143 143 143 143 143 143 143 143 143 143 143 143 \n",
              " 41  42  43  44  45 \n",
              "143 143 143 143 143 "
            ]
          },
          "metadata": {}
        }
      ]
    },
    {
      "cell_type": "code",
      "source": [
        "sum(is.na(df))"
      ],
      "metadata": {
        "colab": {
          "base_uri": "https://localhost:8080/",
          "height": 34
        },
        "id": "YCRn_kIXPmBr",
        "outputId": "58839b58-cf5c-4944-c427-228efb1eaeb4"
      },
      "execution_count": 10,
      "outputs": [
        {
          "output_type": "display_data",
          "data": {
            "text/html": [
              "0"
            ],
            "text/markdown": "0",
            "text/latex": "0",
            "text/plain": [
              "[1] 0"
            ]
          },
          "metadata": {}
        }
      ]
    },
    {
      "cell_type": "code",
      "source": [
        "colSums(is.na(df))"
      ],
      "metadata": {
        "colab": {
          "base_uri": "https://localhost:8080/",
          "height": 34
        },
        "id": "rUSb631JPmEm",
        "outputId": "38720599-e4ec-4a6a-878b-93ec1504f084"
      },
      "execution_count": 11,
      "outputs": [
        {
          "output_type": "display_data",
          "data": {
            "text/html": [
              "<style>\n",
              ".dl-inline {width: auto; margin:0; padding: 0}\n",
              ".dl-inline>dt, .dl-inline>dd {float: none; width: auto; display: inline-block}\n",
              ".dl-inline>dt::after {content: \":\\0020\"; padding-right: .5ex}\n",
              ".dl-inline>dt:not(:first-of-type) {padding-left: .5ex}\n",
              "</style><dl class=dl-inline><dt>Store</dt><dd>0</dd><dt>Date</dt><dd>0</dd><dt>Weekly_Sales</dt><dd>0</dd><dt>Holiday_Flag</dt><dd>0</dd><dt>Temperature</dt><dd>0</dd><dt>Fuel_Price</dt><dd>0</dd><dt>CPI</dt><dd>0</dd><dt>Unemployment</dt><dd>0</dd></dl>\n"
            ],
            "text/markdown": "Store\n:   0Date\n:   0Weekly_Sales\n:   0Holiday_Flag\n:   0Temperature\n:   0Fuel_Price\n:   0CPI\n:   0Unemployment\n:   0\n\n",
            "text/latex": "\\begin{description*}\n\\item[Store] 0\n\\item[Date] 0\n\\item[Weekly\\textbackslash{}\\_Sales] 0\n\\item[Holiday\\textbackslash{}\\_Flag] 0\n\\item[Temperature] 0\n\\item[Fuel\\textbackslash{}\\_Price] 0\n\\item[CPI] 0\n\\item[Unemployment] 0\n\\end{description*}\n",
            "text/plain": [
              "       Store         Date Weekly_Sales Holiday_Flag  Temperature   Fuel_Price \n",
              "           0            0            0            0            0            0 \n",
              "         CPI Unemployment \n",
              "           0            0 "
            ]
          },
          "metadata": {}
        }
      ]
    },
    {
      "cell_type": "code",
      "source": [
        "all(duplicated(df)==TRUE)"
      ],
      "metadata": {
        "colab": {
          "base_uri": "https://localhost:8080/",
          "height": 34
        },
        "id": "JqR3bD59PmH2",
        "outputId": "3cdd0464-c1f4-41c8-94da-af98ffbd9e75"
      },
      "execution_count": 12,
      "outputs": [
        {
          "output_type": "display_data",
          "data": {
            "text/html": [
              "FALSE"
            ],
            "text/markdown": "FALSE",
            "text/latex": "FALSE",
            "text/plain": [
              "[1] FALSE"
            ]
          },
          "metadata": {}
        }
      ]
    },
    {
      "cell_type": "code",
      "source": [
        "# which store has maximum sales\n",
        "\n",
        "df$Store<-as.character(df$Store)\n",
        "df$Store<-factor(df$Store,levels=unique(df$Store))"
      ],
      "metadata": {
        "id": "im1n-VR7PmK6"
      },
      "execution_count": 13,
      "outputs": []
    },
    {
      "cell_type": "code",
      "source": [
        "Str_sales<-aggregate(Weekly_Sales~Store,data=df,sum)\n",
        "Str_sales"
      ],
      "metadata": {
        "colab": {
          "base_uri": "https://localhost:8080/",
          "height": 1000
        },
        "id": "N5DFlnylPmNp",
        "outputId": "125c9f23-da7a-4e5f-8534-ce7e6acdf255"
      },
      "execution_count": 14,
      "outputs": [
        {
          "output_type": "display_data",
          "data": {
            "text/html": [
              "<table class=\"dataframe\">\n",
              "<caption>A data.frame: 45 × 2</caption>\n",
              "<thead>\n",
              "\t<tr><th scope=col>Store</th><th scope=col>Weekly_Sales</th></tr>\n",
              "\t<tr><th scope=col>&lt;fct&gt;</th><th scope=col>&lt;dbl&gt;</th></tr>\n",
              "</thead>\n",
              "<tbody>\n",
              "\t<tr><td>1 </td><td>222402809</td></tr>\n",
              "\t<tr><td>2 </td><td>275382441</td></tr>\n",
              "\t<tr><td>3 </td><td> 57586735</td></tr>\n",
              "\t<tr><td>4 </td><td>299543953</td></tr>\n",
              "\t<tr><td>5 </td><td> 45475689</td></tr>\n",
              "\t<tr><td>6 </td><td>223756131</td></tr>\n",
              "\t<tr><td>7 </td><td> 81598275</td></tr>\n",
              "\t<tr><td>8 </td><td>129951181</td></tr>\n",
              "\t<tr><td>9 </td><td> 77789219</td></tr>\n",
              "\t<tr><td>10</td><td>271617714</td></tr>\n",
              "\t<tr><td>11</td><td>193962787</td></tr>\n",
              "\t<tr><td>12</td><td>144287230</td></tr>\n",
              "\t<tr><td>13</td><td>286517704</td></tr>\n",
              "\t<tr><td>14</td><td>288999911</td></tr>\n",
              "\t<tr><td>15</td><td> 89133684</td></tr>\n",
              "\t<tr><td>16</td><td> 74252425</td></tr>\n",
              "\t<tr><td>17</td><td>127782139</td></tr>\n",
              "\t<tr><td>18</td><td>155114734</td></tr>\n",
              "\t<tr><td>19</td><td>206634862</td></tr>\n",
              "\t<tr><td>20</td><td>301397792</td></tr>\n",
              "\t<tr><td>21</td><td>108117879</td></tr>\n",
              "\t<tr><td>22</td><td>147075649</td></tr>\n",
              "\t<tr><td>23</td><td>198750618</td></tr>\n",
              "\t<tr><td>24</td><td>194016021</td></tr>\n",
              "\t<tr><td>25</td><td>101061179</td></tr>\n",
              "\t<tr><td>26</td><td>143416394</td></tr>\n",
              "\t<tr><td>27</td><td>253855917</td></tr>\n",
              "\t<tr><td>28</td><td>189263681</td></tr>\n",
              "\t<tr><td>29</td><td> 77141554</td></tr>\n",
              "\t<tr><td>30</td><td> 62716885</td></tr>\n",
              "\t<tr><td>31</td><td>199613906</td></tr>\n",
              "\t<tr><td>32</td><td>166819246</td></tr>\n",
              "\t<tr><td>33</td><td> 37160222</td></tr>\n",
              "\t<tr><td>34</td><td>138249763</td></tr>\n",
              "\t<tr><td>35</td><td>131520672</td></tr>\n",
              "\t<tr><td>36</td><td> 53412215</td></tr>\n",
              "\t<tr><td>37</td><td> 74202740</td></tr>\n",
              "\t<tr><td>38</td><td> 55159626</td></tr>\n",
              "\t<tr><td>39</td><td>207445542</td></tr>\n",
              "\t<tr><td>40</td><td>137870310</td></tr>\n",
              "\t<tr><td>41</td><td>181341935</td></tr>\n",
              "\t<tr><td>42</td><td> 79565752</td></tr>\n",
              "\t<tr><td>43</td><td> 90565435</td></tr>\n",
              "\t<tr><td>44</td><td> 43293088</td></tr>\n",
              "\t<tr><td>45</td><td>112395341</td></tr>\n",
              "</tbody>\n",
              "</table>\n"
            ],
            "text/markdown": "\nA data.frame: 45 × 2\n\n| Store &lt;fct&gt; | Weekly_Sales &lt;dbl&gt; |\n|---|---|\n| 1  | 222402809 |\n| 2  | 275382441 |\n| 3  |  57586735 |\n| 4  | 299543953 |\n| 5  |  45475689 |\n| 6  | 223756131 |\n| 7  |  81598275 |\n| 8  | 129951181 |\n| 9  |  77789219 |\n| 10 | 271617714 |\n| 11 | 193962787 |\n| 12 | 144287230 |\n| 13 | 286517704 |\n| 14 | 288999911 |\n| 15 |  89133684 |\n| 16 |  74252425 |\n| 17 | 127782139 |\n| 18 | 155114734 |\n| 19 | 206634862 |\n| 20 | 301397792 |\n| 21 | 108117879 |\n| 22 | 147075649 |\n| 23 | 198750618 |\n| 24 | 194016021 |\n| 25 | 101061179 |\n| 26 | 143416394 |\n| 27 | 253855917 |\n| 28 | 189263681 |\n| 29 |  77141554 |\n| 30 |  62716885 |\n| 31 | 199613906 |\n| 32 | 166819246 |\n| 33 |  37160222 |\n| 34 | 138249763 |\n| 35 | 131520672 |\n| 36 |  53412215 |\n| 37 |  74202740 |\n| 38 |  55159626 |\n| 39 | 207445542 |\n| 40 | 137870310 |\n| 41 | 181341935 |\n| 42 |  79565752 |\n| 43 |  90565435 |\n| 44 |  43293088 |\n| 45 | 112395341 |\n\n",
            "text/latex": "A data.frame: 45 × 2\n\\begin{tabular}{ll}\n Store & Weekly\\_Sales\\\\\n <fct> & <dbl>\\\\\n\\hline\n\t 1  & 222402809\\\\\n\t 2  & 275382441\\\\\n\t 3  &  57586735\\\\\n\t 4  & 299543953\\\\\n\t 5  &  45475689\\\\\n\t 6  & 223756131\\\\\n\t 7  &  81598275\\\\\n\t 8  & 129951181\\\\\n\t 9  &  77789219\\\\\n\t 10 & 271617714\\\\\n\t 11 & 193962787\\\\\n\t 12 & 144287230\\\\\n\t 13 & 286517704\\\\\n\t 14 & 288999911\\\\\n\t 15 &  89133684\\\\\n\t 16 &  74252425\\\\\n\t 17 & 127782139\\\\\n\t 18 & 155114734\\\\\n\t 19 & 206634862\\\\\n\t 20 & 301397792\\\\\n\t 21 & 108117879\\\\\n\t 22 & 147075649\\\\\n\t 23 & 198750618\\\\\n\t 24 & 194016021\\\\\n\t 25 & 101061179\\\\\n\t 26 & 143416394\\\\\n\t 27 & 253855917\\\\\n\t 28 & 189263681\\\\\n\t 29 &  77141554\\\\\n\t 30 &  62716885\\\\\n\t 31 & 199613906\\\\\n\t 32 & 166819246\\\\\n\t 33 &  37160222\\\\\n\t 34 & 138249763\\\\\n\t 35 & 131520672\\\\\n\t 36 &  53412215\\\\\n\t 37 &  74202740\\\\\n\t 38 &  55159626\\\\\n\t 39 & 207445542\\\\\n\t 40 & 137870310\\\\\n\t 41 & 181341935\\\\\n\t 42 &  79565752\\\\\n\t 43 &  90565435\\\\\n\t 44 &  43293088\\\\\n\t 45 & 112395341\\\\\n\\end{tabular}\n",
            "text/plain": [
              "   Store Weekly_Sales\n",
              "1  1     222402809   \n",
              "2  2     275382441   \n",
              "3  3      57586735   \n",
              "4  4     299543953   \n",
              "5  5      45475689   \n",
              "6  6     223756131   \n",
              "7  7      81598275   \n",
              "8  8     129951181   \n",
              "9  9      77789219   \n",
              "10 10    271617714   \n",
              "11 11    193962787   \n",
              "12 12    144287230   \n",
              "13 13    286517704   \n",
              "14 14    288999911   \n",
              "15 15     89133684   \n",
              "16 16     74252425   \n",
              "17 17    127782139   \n",
              "18 18    155114734   \n",
              "19 19    206634862   \n",
              "20 20    301397792   \n",
              "21 21    108117879   \n",
              "22 22    147075649   \n",
              "23 23    198750618   \n",
              "24 24    194016021   \n",
              "25 25    101061179   \n",
              "26 26    143416394   \n",
              "27 27    253855917   \n",
              "28 28    189263681   \n",
              "29 29     77141554   \n",
              "30 30     62716885   \n",
              "31 31    199613906   \n",
              "32 32    166819246   \n",
              "33 33     37160222   \n",
              "34 34    138249763   \n",
              "35 35    131520672   \n",
              "36 36     53412215   \n",
              "37 37     74202740   \n",
              "38 38     55159626   \n",
              "39 39    207445542   \n",
              "40 40    137870310   \n",
              "41 41    181341935   \n",
              "42 42     79565752   \n",
              "43 43     90565435   \n",
              "44 44     43293088   \n",
              "45 45    112395341   "
            ]
          },
          "metadata": {}
        }
      ]
    },
    {
      "cell_type": "code",
      "source": [
        "colnames(Str_sales)[2]<-\"tot_sales_store\""
      ],
      "metadata": {
        "id": "VheFXRJYPmQ5"
      },
      "execution_count": 15,
      "outputs": []
    },
    {
      "cell_type": "code",
      "source": [
        "Str_sales<-arrange(Str_sales,desc(tot_sales_store))\n",
        "Str_sales"
      ],
      "metadata": {
        "colab": {
          "base_uri": "https://localhost:8080/",
          "height": 1000
        },
        "id": "QFzrnliWRSKq",
        "outputId": "018e268e-0106-4ece-e7b8-7bfdd3971319"
      },
      "execution_count": 16,
      "outputs": [
        {
          "output_type": "display_data",
          "data": {
            "text/html": [
              "<table class=\"dataframe\">\n",
              "<caption>A data.frame: 45 × 2</caption>\n",
              "<thead>\n",
              "\t<tr><th scope=col>Store</th><th scope=col>tot_sales_store</th></tr>\n",
              "\t<tr><th scope=col>&lt;fct&gt;</th><th scope=col>&lt;dbl&gt;</th></tr>\n",
              "</thead>\n",
              "<tbody>\n",
              "\t<tr><td>20</td><td>301397792</td></tr>\n",
              "\t<tr><td>4 </td><td>299543953</td></tr>\n",
              "\t<tr><td>14</td><td>288999911</td></tr>\n",
              "\t<tr><td>13</td><td>286517704</td></tr>\n",
              "\t<tr><td>2 </td><td>275382441</td></tr>\n",
              "\t<tr><td>10</td><td>271617714</td></tr>\n",
              "\t<tr><td>27</td><td>253855917</td></tr>\n",
              "\t<tr><td>6 </td><td>223756131</td></tr>\n",
              "\t<tr><td>1 </td><td>222402809</td></tr>\n",
              "\t<tr><td>39</td><td>207445542</td></tr>\n",
              "\t<tr><td>19</td><td>206634862</td></tr>\n",
              "\t<tr><td>31</td><td>199613906</td></tr>\n",
              "\t<tr><td>23</td><td>198750618</td></tr>\n",
              "\t<tr><td>24</td><td>194016021</td></tr>\n",
              "\t<tr><td>11</td><td>193962787</td></tr>\n",
              "\t<tr><td>28</td><td>189263681</td></tr>\n",
              "\t<tr><td>41</td><td>181341935</td></tr>\n",
              "\t<tr><td>32</td><td>166819246</td></tr>\n",
              "\t<tr><td>18</td><td>155114734</td></tr>\n",
              "\t<tr><td>22</td><td>147075649</td></tr>\n",
              "\t<tr><td>12</td><td>144287230</td></tr>\n",
              "\t<tr><td>26</td><td>143416394</td></tr>\n",
              "\t<tr><td>34</td><td>138249763</td></tr>\n",
              "\t<tr><td>40</td><td>137870310</td></tr>\n",
              "\t<tr><td>35</td><td>131520672</td></tr>\n",
              "\t<tr><td>8 </td><td>129951181</td></tr>\n",
              "\t<tr><td>17</td><td>127782139</td></tr>\n",
              "\t<tr><td>45</td><td>112395341</td></tr>\n",
              "\t<tr><td>21</td><td>108117879</td></tr>\n",
              "\t<tr><td>25</td><td>101061179</td></tr>\n",
              "\t<tr><td>43</td><td> 90565435</td></tr>\n",
              "\t<tr><td>15</td><td> 89133684</td></tr>\n",
              "\t<tr><td>7 </td><td> 81598275</td></tr>\n",
              "\t<tr><td>42</td><td> 79565752</td></tr>\n",
              "\t<tr><td>9 </td><td> 77789219</td></tr>\n",
              "\t<tr><td>29</td><td> 77141554</td></tr>\n",
              "\t<tr><td>16</td><td> 74252425</td></tr>\n",
              "\t<tr><td>37</td><td> 74202740</td></tr>\n",
              "\t<tr><td>30</td><td> 62716885</td></tr>\n",
              "\t<tr><td>3 </td><td> 57586735</td></tr>\n",
              "\t<tr><td>38</td><td> 55159626</td></tr>\n",
              "\t<tr><td>36</td><td> 53412215</td></tr>\n",
              "\t<tr><td>5 </td><td> 45475689</td></tr>\n",
              "\t<tr><td>44</td><td> 43293088</td></tr>\n",
              "\t<tr><td>33</td><td> 37160222</td></tr>\n",
              "</tbody>\n",
              "</table>\n"
            ],
            "text/markdown": "\nA data.frame: 45 × 2\n\n| Store &lt;fct&gt; | tot_sales_store &lt;dbl&gt; |\n|---|---|\n| 20 | 301397792 |\n| 4  | 299543953 |\n| 14 | 288999911 |\n| 13 | 286517704 |\n| 2  | 275382441 |\n| 10 | 271617714 |\n| 27 | 253855917 |\n| 6  | 223756131 |\n| 1  | 222402809 |\n| 39 | 207445542 |\n| 19 | 206634862 |\n| 31 | 199613906 |\n| 23 | 198750618 |\n| 24 | 194016021 |\n| 11 | 193962787 |\n| 28 | 189263681 |\n| 41 | 181341935 |\n| 32 | 166819246 |\n| 18 | 155114734 |\n| 22 | 147075649 |\n| 12 | 144287230 |\n| 26 | 143416394 |\n| 34 | 138249763 |\n| 40 | 137870310 |\n| 35 | 131520672 |\n| 8  | 129951181 |\n| 17 | 127782139 |\n| 45 | 112395341 |\n| 21 | 108117879 |\n| 25 | 101061179 |\n| 43 |  90565435 |\n| 15 |  89133684 |\n| 7  |  81598275 |\n| 42 |  79565752 |\n| 9  |  77789219 |\n| 29 |  77141554 |\n| 16 |  74252425 |\n| 37 |  74202740 |\n| 30 |  62716885 |\n| 3  |  57586735 |\n| 38 |  55159626 |\n| 36 |  53412215 |\n| 5  |  45475689 |\n| 44 |  43293088 |\n| 33 |  37160222 |\n\n",
            "text/latex": "A data.frame: 45 × 2\n\\begin{tabular}{ll}\n Store & tot\\_sales\\_store\\\\\n <fct> & <dbl>\\\\\n\\hline\n\t 20 & 301397792\\\\\n\t 4  & 299543953\\\\\n\t 14 & 288999911\\\\\n\t 13 & 286517704\\\\\n\t 2  & 275382441\\\\\n\t 10 & 271617714\\\\\n\t 27 & 253855917\\\\\n\t 6  & 223756131\\\\\n\t 1  & 222402809\\\\\n\t 39 & 207445542\\\\\n\t 19 & 206634862\\\\\n\t 31 & 199613906\\\\\n\t 23 & 198750618\\\\\n\t 24 & 194016021\\\\\n\t 11 & 193962787\\\\\n\t 28 & 189263681\\\\\n\t 41 & 181341935\\\\\n\t 32 & 166819246\\\\\n\t 18 & 155114734\\\\\n\t 22 & 147075649\\\\\n\t 12 & 144287230\\\\\n\t 26 & 143416394\\\\\n\t 34 & 138249763\\\\\n\t 40 & 137870310\\\\\n\t 35 & 131520672\\\\\n\t 8  & 129951181\\\\\n\t 17 & 127782139\\\\\n\t 45 & 112395341\\\\\n\t 21 & 108117879\\\\\n\t 25 & 101061179\\\\\n\t 43 &  90565435\\\\\n\t 15 &  89133684\\\\\n\t 7  &  81598275\\\\\n\t 42 &  79565752\\\\\n\t 9  &  77789219\\\\\n\t 29 &  77141554\\\\\n\t 16 &  74252425\\\\\n\t 37 &  74202740\\\\\n\t 30 &  62716885\\\\\n\t 3  &  57586735\\\\\n\t 38 &  55159626\\\\\n\t 36 &  53412215\\\\\n\t 5  &  45475689\\\\\n\t 44 &  43293088\\\\\n\t 33 &  37160222\\\\\n\\end{tabular}\n",
            "text/plain": [
              "   Store tot_sales_store\n",
              "1  20    301397792      \n",
              "2  4     299543953      \n",
              "3  14    288999911      \n",
              "4  13    286517704      \n",
              "5  2     275382441      \n",
              "6  10    271617714      \n",
              "7  27    253855917      \n",
              "8  6     223756131      \n",
              "9  1     222402809      \n",
              "10 39    207445542      \n",
              "11 19    206634862      \n",
              "12 31    199613906      \n",
              "13 23    198750618      \n",
              "14 24    194016021      \n",
              "15 11    193962787      \n",
              "16 28    189263681      \n",
              "17 41    181341935      \n",
              "18 32    166819246      \n",
              "19 18    155114734      \n",
              "20 22    147075649      \n",
              "21 12    144287230      \n",
              "22 26    143416394      \n",
              "23 34    138249763      \n",
              "24 40    137870310      \n",
              "25 35    131520672      \n",
              "26 8     129951181      \n",
              "27 17    127782139      \n",
              "28 45    112395341      \n",
              "29 21    108117879      \n",
              "30 25    101061179      \n",
              "31 43     90565435      \n",
              "32 15     89133684      \n",
              "33 7      81598275      \n",
              "34 42     79565752      \n",
              "35 9      77789219      \n",
              "36 29     77141554      \n",
              "37 16     74252425      \n",
              "38 37     74202740      \n",
              "39 30     62716885      \n",
              "40 3      57586735      \n",
              "41 38     55159626      \n",
              "42 36     53412215      \n",
              "43 5      45475689      \n",
              "44 44     43293088      \n",
              "45 33     37160222      "
            ]
          },
          "metadata": {}
        }
      ]
    },
    {
      "cell_type": "code",
      "source": [
        "Str_sales[1,]"
      ],
      "metadata": {
        "colab": {
          "base_uri": "https://localhost:8080/",
          "height": 129
        },
        "id": "DsVI5Hi3RSN3",
        "outputId": "3cb1b60d-aa7b-45d0-ef62-aaa2446cd2bd"
      },
      "execution_count": 17,
      "outputs": [
        {
          "output_type": "display_data",
          "data": {
            "text/html": [
              "<table class=\"dataframe\">\n",
              "<caption>A data.frame: 1 × 2</caption>\n",
              "<thead>\n",
              "\t<tr><th></th><th scope=col>Store</th><th scope=col>tot_sales_store</th></tr>\n",
              "\t<tr><th></th><th scope=col>&lt;fct&gt;</th><th scope=col>&lt;dbl&gt;</th></tr>\n",
              "</thead>\n",
              "<tbody>\n",
              "\t<tr><th scope=row>1</th><td>20</td><td>301397792</td></tr>\n",
              "</tbody>\n",
              "</table>\n"
            ],
            "text/markdown": "\nA data.frame: 1 × 2\n\n| <!--/--> | Store &lt;fct&gt; | tot_sales_store &lt;dbl&gt; |\n|---|---|---|\n| 1 | 20 | 301397792 |\n\n",
            "text/latex": "A data.frame: 1 × 2\n\\begin{tabular}{r|ll}\n  & Store & tot\\_sales\\_store\\\\\n  & <fct> & <dbl>\\\\\n\\hline\n\t1 & 20 & 301397792\\\\\n\\end{tabular}\n",
            "text/plain": [
              "  Store tot_sales_store\n",
              "1 20    301397792      "
            ]
          },
          "metadata": {}
        }
      ]
    },
    {
      "cell_type": "code",
      "source": [
        "ggplot(data=Str_sales,aes(x=reorder(Store, -tot_sales_store), y=tot_sales_store))+\n",
        "  geom_bar(stat=\"identity\",fill=\"steelblue\")"
      ],
      "metadata": {
        "colab": {
          "base_uri": "https://localhost:8080/",
          "height": 437
        },
        "id": "BSRLV1kkRSQ6",
        "outputId": "53a37f8f-0865-404d-e485-fb70d8312213"
      },
      "execution_count": 18,
      "outputs": [
        {
          "output_type": "display_data",
          "data": {
            "text/plain": [
              "plot without title"
            ],
            "image/png": "[encoded data removed]"
          },
          "metadata": {
            "image/png": {
              "width": 420,
              "height": 420
            }
          }
        }
      ]
    },
    {
      "cell_type": "code",
      "source": [
        "# which store has maximum standard deviation\n",
        "\n",
        "var<-summarise(group_by(df,Store),sd(Weekly_Sales),mean(Weekly_Sales))\n",
        "var"
      ],
      "metadata": {
        "colab": {
          "base_uri": "https://localhost:8080/",
          "height": 1000
        },
        "id": "Okbp-5AaRST1",
        "outputId": "74404ba3-23d1-47df-c329-ce075b2520ed"
      },
      "execution_count": 19,
      "outputs": [
        {
          "output_type": "display_data",
          "data": {
            "text/html": [
              "<table class=\"dataframe\">\n",
              "<caption>A tibble: 45 × 3</caption>\n",
              "<thead>\n",
              "\t<tr><th scope=col>Store</th><th scope=col>sd(Weekly_Sales)</th><th scope=col>mean(Weekly_Sales)</th></tr>\n",
              "\t<tr><th scope=col>&lt;fct&gt;</th><th scope=col>&lt;dbl&gt;</th><th scope=col>&lt;dbl&gt;</th></tr>\n",
              "</thead>\n",
              "<tbody>\n",
              "\t<tr><td>1 </td><td>155980.77</td><td>1555264.4</td></tr>\n",
              "\t<tr><td>2 </td><td>237683.69</td><td>1925751.3</td></tr>\n",
              "\t<tr><td>3 </td><td> 46319.63</td><td> 402704.4</td></tr>\n",
              "\t<tr><td>4 </td><td>266201.44</td><td>2094713.0</td></tr>\n",
              "\t<tr><td>5 </td><td> 37737.97</td><td> 318011.8</td></tr>\n",
              "\t<tr><td>6 </td><td>212525.86</td><td>1564728.2</td></tr>\n",
              "\t<tr><td>7 </td><td>112585.47</td><td> 570617.3</td></tr>\n",
              "\t<tr><td>8 </td><td>106280.83</td><td> 908749.5</td></tr>\n",
              "\t<tr><td>9 </td><td> 69028.67</td><td> 543980.6</td></tr>\n",
              "\t<tr><td>10</td><td>302262.06</td><td>1899424.6</td></tr>\n",
              "\t<tr><td>11</td><td>165833.89</td><td>1356383.1</td></tr>\n",
              "\t<tr><td>12</td><td>139166.87</td><td>1009001.6</td></tr>\n",
              "\t<tr><td>13</td><td>265507.00</td><td>2003620.3</td></tr>\n",
              "\t<tr><td>14</td><td>317569.95</td><td>2020978.4</td></tr>\n",
              "\t<tr><td>15</td><td>120538.65</td><td> 623312.5</td></tr>\n",
              "\t<tr><td>16</td><td> 85769.68</td><td> 519247.7</td></tr>\n",
              "\t<tr><td>17</td><td>112162.94</td><td> 893581.4</td></tr>\n",
              "\t<tr><td>18</td><td>176641.51</td><td>1084718.4</td></tr>\n",
              "\t<tr><td>19</td><td>191722.64</td><td>1444999.0</td></tr>\n",
              "\t<tr><td>20</td><td>275900.56</td><td>2107676.9</td></tr>\n",
              "\t<tr><td>21</td><td>128752.81</td><td> 756069.1</td></tr>\n",
              "\t<tr><td>22</td><td>161251.35</td><td>1028501.0</td></tr>\n",
              "\t<tr><td>23</td><td>249788.04</td><td>1389864.5</td></tr>\n",
              "\t<tr><td>24</td><td>167745.68</td><td>1356755.4</td></tr>\n",
              "\t<tr><td>25</td><td>112976.79</td><td> 706721.5</td></tr>\n",
              "\t<tr><td>26</td><td>110431.29</td><td>1002911.8</td></tr>\n",
              "\t<tr><td>27</td><td>239930.14</td><td>1775216.2</td></tr>\n",
              "\t<tr><td>28</td><td>181758.97</td><td>1323522.2</td></tr>\n",
              "\t<tr><td>29</td><td> 99120.14</td><td> 539451.4</td></tr>\n",
              "\t<tr><td>30</td><td> 22809.67</td><td> 438579.6</td></tr>\n",
              "\t<tr><td>31</td><td>125855.94</td><td>1395901.4</td></tr>\n",
              "\t<tr><td>32</td><td>138017.25</td><td>1166568.2</td></tr>\n",
              "\t<tr><td>33</td><td> 24132.93</td><td> 259861.7</td></tr>\n",
              "\t<tr><td>34</td><td>104630.16</td><td> 966781.6</td></tr>\n",
              "\t<tr><td>35</td><td>211243.46</td><td> 919725.0</td></tr>\n",
              "\t<tr><td>36</td><td> 60725.17</td><td> 373512.0</td></tr>\n",
              "\t<tr><td>37</td><td> 21837.46</td><td> 518900.3</td></tr>\n",
              "\t<tr><td>38</td><td> 42768.17</td><td> 385731.7</td></tr>\n",
              "\t<tr><td>39</td><td>217466.45</td><td>1450668.1</td></tr>\n",
              "\t<tr><td>40</td><td>119002.11</td><td> 964128.0</td></tr>\n",
              "\t<tr><td>41</td><td>187907.16</td><td>1268125.4</td></tr>\n",
              "\t<tr><td>42</td><td> 50262.93</td><td> 556403.9</td></tr>\n",
              "\t<tr><td>43</td><td> 40598.41</td><td> 633324.7</td></tr>\n",
              "\t<tr><td>44</td><td> 24762.83</td><td> 302748.9</td></tr>\n",
              "\t<tr><td>45</td><td>130168.53</td><td> 785981.4</td></tr>\n",
              "</tbody>\n",
              "</table>\n"
            ],
            "text/markdown": "\nA tibble: 45 × 3\n\n| Store &lt;fct&gt; | sd(Weekly_Sales) &lt;dbl&gt; | mean(Weekly_Sales) &lt;dbl&gt; |\n|---|---|---|\n| 1  | 155980.77 | 1555264.4 |\n| 2  | 237683.69 | 1925751.3 |\n| 3  |  46319.63 |  402704.4 |\n| 4  | 266201.44 | 2094713.0 |\n| 5  |  37737.97 |  318011.8 |\n| 6  | 212525.86 | 1564728.2 |\n| 7  | 112585.47 |  570617.3 |\n| 8  | 106280.83 |  908749.5 |\n| 9  |  69028.67 |  543980.6 |\n| 10 | 302262.06 | 1899424.6 |\n| 11 | 165833.89 | 1356383.1 |\n| 12 | 139166.87 | 1009001.6 |\n| 13 | 265507.00 | 2003620.3 |\n| 14 | 317569.95 | 2020978.4 |\n| 15 | 120538.65 |  623312.5 |\n| 16 |  85769.68 |  519247.7 |\n| 17 | 112162.94 |  893581.4 |\n| 18 | 176641.51 | 1084718.4 |\n| 19 | 191722.64 | 1444999.0 |\n| 20 | 275900.56 | 2107676.9 |\n| 21 | 128752.81 |  756069.1 |\n| 22 | 161251.35 | 1028501.0 |\n| 23 | 249788.04 | 1389864.5 |\n| 24 | 167745.68 | 1356755.4 |\n| 25 | 112976.79 |  706721.5 |\n| 26 | 110431.29 | 1002911.8 |\n| 27 | 239930.14 | 1775216.2 |\n| 28 | 181758.97 | 1323522.2 |\n| 29 |  99120.14 |  539451.4 |\n| 30 |  22809.67 |  438579.6 |\n| 31 | 125855.94 | 1395901.4 |\n| 32 | 138017.25 | 1166568.2 |\n| 33 |  24132.93 |  259861.7 |\n| 34 | 104630.16 |  966781.6 |\n| 35 | 211243.46 |  919725.0 |\n| 36 |  60725.17 |  373512.0 |\n| 37 |  21837.46 |  518900.3 |\n| 38 |  42768.17 |  385731.7 |\n| 39 | 217466.45 | 1450668.1 |\n| 40 | 119002.11 |  964128.0 |\n| 41 | 187907.16 | 1268125.4 |\n| 42 |  50262.93 |  556403.9 |\n| 43 |  40598.41 |  633324.7 |\n| 44 |  24762.83 |  302748.9 |\n| 45 | 130168.53 |  785981.4 |\n\n",
            "text/latex": "A tibble: 45 × 3\n\\begin{tabular}{lll}\n Store & sd(Weekly\\_Sales) & mean(Weekly\\_Sales)\\\\\n <fct> & <dbl> & <dbl>\\\\\n\\hline\n\t 1  & 155980.77 & 1555264.4\\\\\n\t 2  & 237683.69 & 1925751.3\\\\\n\t 3  &  46319.63 &  402704.4\\\\\n\t 4  & 266201.44 & 2094713.0\\\\\n\t 5  &  37737.97 &  318011.8\\\\\n\t 6  & 212525.86 & 1564728.2\\\\\n\t 7  & 112585.47 &  570617.3\\\\\n\t 8  & 106280.83 &  908749.5\\\\\n\t 9  &  69028.67 &  543980.6\\\\\n\t 10 & 302262.06 & 1899424.6\\\\\n\t 11 & 165833.89 & 1356383.1\\\\\n\t 12 & 139166.87 & 1009001.6\\\\\n\t 13 & 265507.00 & 2003620.3\\\\\n\t 14 & 317569.95 & 2020978.4\\\\\n\t 15 & 120538.65 &  623312.5\\\\\n\t 16 &  85769.68 &  519247.7\\\\\n\t 17 & 112162.94 &  893581.4\\\\\n\t 18 & 176641.51 & 1084718.4\\\\\n\t 19 & 191722.64 & 1444999.0\\\\\n\t 20 & 275900.56 & 2107676.9\\\\\n\t 21 & 128752.81 &  756069.1\\\\\n\t 22 & 161251.35 & 1028501.0\\\\\n\t 23 & 249788.04 & 1389864.5\\\\\n\t 24 & 167745.68 & 1356755.4\\\\\n\t 25 & 112976.79 &  706721.5\\\\\n\t 26 & 110431.29 & 1002911.8\\\\\n\t 27 & 239930.14 & 1775216.2\\\\\n\t 28 & 181758.97 & 1323522.2\\\\\n\t 29 &  99120.14 &  539451.4\\\\\n\t 30 &  22809.67 &  438579.6\\\\\n\t 31 & 125855.94 & 1395901.4\\\\\n\t 32 & 138017.25 & 1166568.2\\\\\n\t 33 &  24132.93 &  259861.7\\\\\n\t 34 & 104630.16 &  966781.6\\\\\n\t 35 & 211243.46 &  919725.0\\\\\n\t 36 &  60725.17 &  373512.0\\\\\n\t 37 &  21837.46 &  518900.3\\\\\n\t 38 &  42768.17 &  385731.7\\\\\n\t 39 & 217466.45 & 1450668.1\\\\\n\t 40 & 119002.11 &  964128.0\\\\\n\t 41 & 187907.16 & 1268125.4\\\\\n\t 42 &  50262.93 &  556403.9\\\\\n\t 43 &  40598.41 &  633324.7\\\\\n\t 44 &  24762.83 &  302748.9\\\\\n\t 45 & 130168.53 &  785981.4\\\\\n\\end{tabular}\n",
            "text/plain": [
              "   Store sd(Weekly_Sales) mean(Weekly_Sales)\n",
              "1  1     155980.77        1555264.4         \n",
              "2  2     237683.69        1925751.3         \n",
              "3  3      46319.63         402704.4         \n",
              "4  4     266201.44        2094713.0         \n",
              "5  5      37737.97         318011.8         \n",
              "6  6     212525.86        1564728.2         \n",
              "7  7     112585.47         570617.3         \n",
              "8  8     106280.83         908749.5         \n",
              "9  9      69028.67         543980.6         \n",
              "10 10    302262.06        1899424.6         \n",
              "11 11    165833.89        1356383.1         \n",
              "12 12    139166.87        1009001.6         \n",
              "13 13    265507.00        2003620.3         \n",
              "14 14    317569.95        2020978.4         \n",
              "15 15    120538.65         623312.5         \n",
              "16 16     85769.68         519247.7         \n",
              "17 17    112162.94         893581.4         \n",
              "18 18    176641.51        1084718.4         \n",
              "19 19    191722.64        1444999.0         \n",
              "20 20    275900.56        2107676.9         \n",
              "21 21    128752.81         756069.1         \n",
              "22 22    161251.35        1028501.0         \n",
              "23 23    249788.04        1389864.5         \n",
              "24 24    167745.68        1356755.4         \n",
              "25 25    112976.79         706721.5         \n",
              "26 26    110431.29        1002911.8         \n",
              "27 27    239930.14        1775216.2         \n",
              "28 28    181758.97        1323522.2         \n",
              "29 29     99120.14         539451.4         \n",
              "30 30     22809.67         438579.6         \n",
              "31 31    125855.94        1395901.4         \n",
              "32 32    138017.25        1166568.2         \n",
              "33 33     24132.93         259861.7         \n",
              "34 34    104630.16         966781.6         \n",
              "35 35    211243.46         919725.0         \n",
              "36 36     60725.17         373512.0         \n",
              "37 37     21837.46         518900.3         \n",
              "38 38     42768.17         385731.7         \n",
              "39 39    217466.45        1450668.1         \n",
              "40 40    119002.11         964128.0         \n",
              "41 41    187907.16        1268125.4         \n",
              "42 42     50262.93         556403.9         \n",
              "43 43     40598.41         633324.7         \n",
              "44 44     24762.83         302748.9         \n",
              "45 45    130168.53         785981.4         "
            ]
          },
          "metadata": {}
        }
      ]
    },
    {
      "cell_type": "code",
      "source": [
        "colnames(var)[2]=\"Std_Store\"\n",
        "colnames(var)[3]=\"Mean_Store\"\n",
        "colnames(var)"
      ],
      "metadata": {
        "colab": {
          "base_uri": "https://localhost:8080/",
          "height": 34
        },
        "id": "0iZtck2gRSWu",
        "outputId": "57556ceb-567d-4d7d-a5d9-34d426c58b70"
      },
      "execution_count": 20,
      "outputs": [
        {
          "output_type": "display_data",
          "data": {
            "text/html": [
              "<style>\n",
              ".list-inline {list-style: none; margin:0; padding: 0}\n",
              ".list-inline>li {display: inline-block}\n",
              ".list-inline>li:not(:last-child)::after {content: \"\\00b7\"; padding: 0 .5ex}\n",
              "</style>\n",
              "<ol class=list-inline><li>'Store'</li><li>'Std_Store'</li><li>'Mean_Store'</li></ol>\n"
            ],
            "text/markdown": "1. 'Store'\n2. 'Std_Store'\n3. 'Mean_Store'\n\n\n",
            "text/latex": "\\begin{enumerate*}\n\\item 'Store'\n\\item 'Std\\_Store'\n\\item 'Mean\\_Store'\n\\end{enumerate*}\n",
            "text/plain": [
              "[1] \"Store\"      \"Std_Store\"  \"Mean_Store\""
            ]
          },
          "metadata": {}
        }
      ]
    },
    {
      "cell_type": "code",
      "source": [
        "var[which.max(var$Std_Store),]"
      ],
      "metadata": {
        "colab": {
          "base_uri": "https://localhost:8080/",
          "height": 129
        },
        "id": "jkHrXXdDRSZe",
        "outputId": "c28ae1c5-dea8-4ec8-a957-94f7a73c9655"
      },
      "execution_count": 21,
      "outputs": [
        {
          "output_type": "display_data",
          "data": {
            "text/html": [
              "<table class=\"dataframe\">\n",
              "<caption>A tibble: 1 × 3</caption>\n",
              "<thead>\n",
              "\t<tr><th scope=col>Store</th><th scope=col>Std_Store</th><th scope=col>Mean_Store</th></tr>\n",
              "\t<tr><th scope=col>&lt;fct&gt;</th><th scope=col>&lt;dbl&gt;</th><th scope=col>&lt;dbl&gt;</th></tr>\n",
              "</thead>\n",
              "<tbody>\n",
              "\t<tr><td>14</td><td>317569.9</td><td>2020978</td></tr>\n",
              "</tbody>\n",
              "</table>\n"
            ],
            "text/markdown": "\nA tibble: 1 × 3\n\n| Store &lt;fct&gt; | Std_Store &lt;dbl&gt; | Mean_Store &lt;dbl&gt; |\n|---|---|---|\n| 14 | 317569.9 | 2020978 |\n\n",
            "text/latex": "A tibble: 1 × 3\n\\begin{tabular}{lll}\n Store & Std\\_Store & Mean\\_Store\\\\\n <fct> & <dbl> & <dbl>\\\\\n\\hline\n\t 14 & 317569.9 & 2020978\\\\\n\\end{tabular}\n",
            "text/plain": [
              "  Store Std_Store Mean_Store\n",
              "1 14    317569.9  2020978   "
            ]
          },
          "metadata": {}
        }
      ]
    },
    {
      "cell_type": "code",
      "source": [
        "Str_14<-df[df$Store==14,]\n",
        "ggplot(Str_14,aes(x=Weekly_Sales))+\n",
        "  geom_density(color=\"Darkgreen\", fill=\"lightgreen\")"
      ],
      "metadata": {
        "colab": {
          "base_uri": "https://localhost:8080/",
          "height": 437
        },
        "id": "Ttx3udzwRSc9",
        "outputId": "40663d7f-1c2a-417b-8696-8289cceac3f0"
      },
      "execution_count": 22,
      "outputs": [
        {
          "output_type": "display_data",
          "data": {
            "text/plain": [
              "plot without title"
            ],
            "image/png": "[encoded data removed]"
          },
          "metadata": {
            "image/png": {
              "width": 420,
              "height": 420
            }
          }
        }
      ]
    },
    {
      "cell_type": "code",
      "source": [
        "# which store has good quarterly growth in Q3 2012\n",
        "\n",
        "df2<-df"
      ],
      "metadata": {
        "id": "g10cUgENVABB"
      },
      "execution_count": 23,
      "outputs": []
    },
    {
      "cell_type": "code",
      "source": [
        "df2$month_Year=substr(df2$Date,4,10)\n",
        "df2$month_Year"
      ],
      "metadata": {
        "colab": {
          "base_uri": "https://localhost:8080/",
          "height": 364
        },
        "id": "YVUoXHZSRSfV",
        "outputId": "35505956-7379-4cce-87ca-1826f85985dc"
      },
      "execution_count": 24,
      "outputs": [
        {
          "output_type": "display_data",
          "data": {
            "text/html": [
              "<style>\n",
              ".list-inline {list-style: none; margin:0; padding: 0}\n",
              ".list-inline>li {display: inline-block}\n",
              ".list-inline>li:not(:last-child)::after {content: \"\\00b7\"; padding: 0 .5ex}\n",
              "</style>\n",
              "<ol class=list-inline><li>'02-2010'</li><li>'02-2010'</li><li>'02-2010'</li><li>'02-2010'</li><li>'03-2010'</li><li>'03-2010'</li><li>'03-2010'</li><li>'03-2010'</li><li>'04-2010'</li><li>'04-2010'</li><li>'04-2010'</li><li>'04-2010'</li><li>'04-2010'</li><li>'05-2010'</li><li>'05-2010'</li><li>'05-2010'</li><li>'05-2010'</li><li>'06-2010'</li><li>'06-2010'</li><li>'06-2010'</li><li>'06-2010'</li><li>'07-2010'</li><li>'07-2010'</li><li>'07-2010'</li><li>'07-2010'</li><li>'07-2010'</li><li>'08-2010'</li><li>'08-2010'</li><li>'08-2010'</li><li>'08-2010'</li><li>'09-2010'</li><li>'09-2010'</li><li>'09-2010'</li><li>'09-2010'</li><li>'10-2010'</li><li>'10-2010'</li><li>'10-2010'</li><li>'10-2010'</li><li>'10-2010'</li><li>'11-2010'</li><li>'11-2010'</li><li>'11-2010'</li><li>'11-2010'</li><li>'12-2010'</li><li>'12-2010'</li><li>'12-2010'</li><li>'12-2010'</li><li>'12-2010'</li><li>'01-2011'</li><li>'01-2011'</li><li>'01-2011'</li><li>'01-2011'</li><li>'02-2011'</li><li>'02-2011'</li><li>'02-2011'</li><li>'02-2011'</li><li>'03-2011'</li><li>'03-2011'</li><li>'03-2011'</li><li>'03-2011'</li><li>'04-2011'</li><li>'04-2011'</li><li>'04-2011'</li><li>'04-2011'</li><li>'04-2011'</li><li>'05-2011'</li><li>'05-2011'</li><li>'05-2011'</li><li>'05-2011'</li><li>'06-2011'</li><li>'06-2011'</li><li>'06-2011'</li><li>'06-2011'</li><li>'07-2011'</li><li>'07-2011'</li><li>'07-2011'</li><li>'07-2011'</li><li>'07-2011'</li><li>'08-2011'</li><li>'08-2011'</li><li>'08-2011'</li><li>'08-2011'</li><li>'09-2011'</li><li>'09-2011'</li><li>'09-2011'</li><li>'09-2011'</li><li>'09-2011'</li><li>'10-2011'</li><li>'10-2011'</li><li>'10-2011'</li><li>'10-2011'</li><li>'11-2011'</li><li>'11-2011'</li><li>'11-2011'</li><li>'11-2011'</li><li>'12-2011'</li><li>'12-2011'</li><li>'12-2011'</li><li>'12-2011'</li><li>'12-2011'</li><li>'01-2012'</li><li>'01-2012'</li><li>'01-2012'</li><li>'01-2012'</li><li>'02-2012'</li><li>'02-2012'</li><li>'02-2012'</li><li>'02-2012'</li><li>'03-2012'</li><li>'03-2012'</li><li>'03-2012'</li><li>'03-2012'</li><li>'03-2012'</li><li>'04-2012'</li><li>'04-2012'</li><li>'04-2012'</li><li>'04-2012'</li><li>'05-2012'</li><li>'05-2012'</li><li>'05-2012'</li><li>'05-2012'</li><li>'06-2012'</li><li>'06-2012'</li><li>'06-2012'</li><li>'06-2012'</li><li>'06-2012'</li><li>'07-2012'</li><li>'07-2012'</li><li>'07-2012'</li><li>'07-2012'</li><li>'08-2012'</li><li>'08-2012'</li><li>'08-2012'</li><li>'08-2012'</li><li>'08-2012'</li><li>'09-2012'</li><li>'09-2012'</li><li>'09-2012'</li><li>'09-2012'</li><li>'10-2012'</li><li>'10-2012'</li><li>'10-2012'</li><li>'10-2012'</li><li>'02-2010'</li><li>'02-2010'</li><li>'02-2010'</li><li>'02-2010'</li><li>'03-2010'</li><li>'03-2010'</li><li>'03-2010'</li><li>'03-2010'</li><li>'04-2010'</li><li>'04-2010'</li><li>'04-2010'</li><li>'04-2010'</li><li>'04-2010'</li><li>'05-2010'</li><li>'05-2010'</li><li>'05-2010'</li><li>'05-2010'</li><li>'06-2010'</li><li>'06-2010'</li><li>'06-2010'</li><li>'06-2010'</li><li>'07-2010'</li><li>'07-2010'</li><li>'07-2010'</li><li>'07-2010'</li><li>'07-2010'</li><li>'08-2010'</li><li>'08-2010'</li><li>'08-2010'</li><li>'08-2010'</li><li>'09-2010'</li><li>'09-2010'</li><li>'09-2010'</li><li>'09-2010'</li><li>'10-2010'</li><li>'10-2010'</li><li>'10-2010'</li><li>'10-2010'</li><li>'10-2010'</li><li>'11-2010'</li><li>'11-2010'</li><li>'11-2010'</li><li>'11-2010'</li><li>'12-2010'</li><li>'12-2010'</li><li>'12-2010'</li><li>'12-2010'</li><li>'12-2010'</li><li>'01-2011'</li><li>'01-2011'</li><li>'01-2011'</li><li>'01-2011'</li><li>'02-2011'</li><li>'02-2011'</li><li>'02-2011'</li><li>'02-2011'</li><li>'03-2011'</li><li>⋯</li><li>'09-2011'</li><li>'10-2011'</li><li>'10-2011'</li><li>'10-2011'</li><li>'10-2011'</li><li>'11-2011'</li><li>'11-2011'</li><li>'11-2011'</li><li>'11-2011'</li><li>'12-2011'</li><li>'12-2011'</li><li>'12-2011'</li><li>'12-2011'</li><li>'12-2011'</li><li>'01-2012'</li><li>'01-2012'</li><li>'01-2012'</li><li>'01-2012'</li><li>'02-2012'</li><li>'02-2012'</li><li>'02-2012'</li><li>'02-2012'</li><li>'03-2012'</li><li>'03-2012'</li><li>'03-2012'</li><li>'03-2012'</li><li>'03-2012'</li><li>'04-2012'</li><li>'04-2012'</li><li>'04-2012'</li><li>'04-2012'</li><li>'05-2012'</li><li>'05-2012'</li><li>'05-2012'</li><li>'05-2012'</li><li>'06-2012'</li><li>'06-2012'</li><li>'06-2012'</li><li>'06-2012'</li><li>'06-2012'</li><li>'07-2012'</li><li>'07-2012'</li><li>'07-2012'</li><li>'07-2012'</li><li>'08-2012'</li><li>'08-2012'</li><li>'08-2012'</li><li>'08-2012'</li><li>'08-2012'</li><li>'09-2012'</li><li>'09-2012'</li><li>'09-2012'</li><li>'09-2012'</li><li>'10-2012'</li><li>'10-2012'</li><li>'10-2012'</li><li>'10-2012'</li><li>'02-2010'</li><li>'02-2010'</li><li>'02-2010'</li><li>'02-2010'</li><li>'03-2010'</li><li>'03-2010'</li><li>'03-2010'</li><li>'03-2010'</li><li>'04-2010'</li><li>'04-2010'</li><li>'04-2010'</li><li>'04-2010'</li><li>'04-2010'</li><li>'05-2010'</li><li>'05-2010'</li><li>'05-2010'</li><li>'05-2010'</li><li>'06-2010'</li><li>'06-2010'</li><li>'06-2010'</li><li>'06-2010'</li><li>'07-2010'</li><li>'07-2010'</li><li>'07-2010'</li><li>'07-2010'</li><li>'07-2010'</li><li>'08-2010'</li><li>'08-2010'</li><li>'08-2010'</li><li>'08-2010'</li><li>'09-2010'</li><li>'09-2010'</li><li>'09-2010'</li><li>'09-2010'</li><li>'10-2010'</li><li>'10-2010'</li><li>'10-2010'</li><li>'10-2010'</li><li>'10-2010'</li><li>'11-2010'</li><li>'11-2010'</li><li>'11-2010'</li><li>'11-2010'</li><li>'12-2010'</li><li>'12-2010'</li><li>'12-2010'</li><li>'12-2010'</li><li>'12-2010'</li><li>'01-2011'</li><li>'01-2011'</li><li>'01-2011'</li><li>'01-2011'</li><li>'02-2011'</li><li>'02-2011'</li><li>'02-2011'</li><li>'02-2011'</li><li>'03-2011'</li><li>'03-2011'</li><li>'03-2011'</li><li>'03-2011'</li><li>'04-2011'</li><li>'04-2011'</li><li>'04-2011'</li><li>'04-2011'</li><li>'04-2011'</li><li>'05-2011'</li><li>'05-2011'</li><li>'05-2011'</li><li>'05-2011'</li><li>'06-2011'</li><li>'06-2011'</li><li>'06-2011'</li><li>'06-2011'</li><li>'07-2011'</li><li>'07-2011'</li><li>'07-2011'</li><li>'07-2011'</li><li>'07-2011'</li><li>'08-2011'</li><li>'08-2011'</li><li>'08-2011'</li><li>'08-2011'</li><li>'09-2011'</li><li>'09-2011'</li><li>'09-2011'</li><li>'09-2011'</li><li>'09-2011'</li><li>'10-2011'</li><li>'10-2011'</li><li>'10-2011'</li><li>'10-2011'</li><li>'11-2011'</li><li>'11-2011'</li><li>'11-2011'</li><li>'11-2011'</li><li>'12-2011'</li><li>'12-2011'</li><li>'12-2011'</li><li>'12-2011'</li><li>'12-2011'</li><li>'01-2012'</li><li>'01-2012'</li><li>'01-2012'</li><li>'01-2012'</li><li>'02-2012'</li><li>'02-2012'</li><li>'02-2012'</li><li>'02-2012'</li><li>'03-2012'</li><li>'03-2012'</li><li>'03-2012'</li><li>'03-2012'</li><li>'03-2012'</li><li>'04-2012'</li><li>'04-2012'</li><li>'04-2012'</li><li>'04-2012'</li><li>'05-2012'</li><li>'05-2012'</li><li>'05-2012'</li><li>'05-2012'</li><li>'06-2012'</li><li>'06-2012'</li><li>'06-2012'</li><li>'06-2012'</li><li>'06-2012'</li><li>'07-2012'</li><li>'07-2012'</li><li>'07-2012'</li><li>'07-2012'</li><li>'08-2012'</li><li>'08-2012'</li><li>'08-2012'</li><li>'08-2012'</li><li>'08-2012'</li><li>'09-2012'</li><li>'09-2012'</li><li>'09-2012'</li><li>'09-2012'</li><li>'10-2012'</li><li>'10-2012'</li><li>'10-2012'</li><li>'10-2012'</li></ol>\n"
            ],
            "text/markdown": "1. '02-2010'\n2. '02-2010'\n3. '02-2010'\n4. '02-2010'\n5. '03-2010'\n6. '03-2010'\n7. '03-2010'\n8. '03-2010'\n9. '04-2010'\n10. '04-2010'\n11. '04-2010'\n12. '04-2010'\n13. '04-2010'\n14. '05-2010'\n15. '05-2010'\n16. '05-2010'\n17. '05-2010'\n18. '06-2010'\n19. '06-2010'\n20. '06-2010'\n21. '06-2010'\n22. '07-2010'\n23. '07-2010'\n24. '07-2010'\n25. '07-2010'\n26. '07-2010'\n27. '08-2010'\n28. '08-2010'\n29. '08-2010'\n30. '08-2010'\n31. '09-2010'\n32. '09-2010'\n33. '09-2010'\n34. '09-2010'\n35. '10-2010'\n36. '10-2010'\n37. '10-2010'\n38. '10-2010'\n39. '10-2010'\n40. '11-2010'\n41. '11-2010'\n42. '11-2010'\n43. '11-2010'\n44. '12-2010'\n45. '12-2010'\n46. '12-2010'\n47. '12-2010'\n48. '12-2010'\n49. '01-2011'\n50. '01-2011'\n51. '01-2011'\n52. '01-2011'\n53. '02-2011'\n54. '02-2011'\n55. '02-2011'\n56. '02-2011'\n57. '03-2011'\n58. '03-2011'\n59. '03-2011'\n60. '03-2011'\n61. '04-2011'\n62. '04-2011'\n63. '04-2011'\n64. '04-2011'\n65. '04-2011'\n66. '05-2011'\n67. '05-2011'\n68. '05-2011'\n69. '05-2011'\n70. '06-2011'\n71. '06-2011'\n72. '06-2011'\n73. '06-2011'\n74. '07-2011'\n75. '07-2011'\n76. '07-2011'\n77. '07-2011'\n78. '07-2011'\n79. '08-2011'\n80. '08-2011'\n81. '08-2011'\n82. '08-2011'\n83. '09-2011'\n84. '09-2011'\n85. '09-2011'\n86. '09-2011'\n87. '09-2011'\n88. '10-2011'\n89. '10-2011'\n90. '10-2011'\n91. '10-2011'\n92. '11-2011'\n93. '11-2011'\n94. '11-2011'\n95. '11-2011'\n96. '12-2011'\n97. '12-2011'\n98. '12-2011'\n99. '12-2011'\n100. '12-2011'\n101. '01-2012'\n102. '01-2012'\n103. '01-2012'\n104. '01-2012'\n105. '02-2012'\n106. '02-2012'\n107. '02-2012'\n108. '02-2012'\n109. '03-2012'\n110. '03-2012'\n111. '03-2012'\n112. '03-2012'\n113. '03-2012'\n114. '04-2012'\n115. '04-2012'\n116. '04-2012'\n117. '04-2012'\n118. '05-2012'\n119. '05-2012'\n120. '05-2012'\n121. '05-2012'\n122. '06-2012'\n123. '06-2012'\n124. '06-2012'\n125. '06-2012'\n126. '06-2012'\n127. '07-2012'\n128. '07-2012'\n129. '07-2012'\n130. '07-2012'\n131. '08-2012'\n132. '08-2012'\n133. '08-2012'\n134. '08-2012'\n135. '08-2012'\n136. '09-2012'\n137. '09-2012'\n138. '09-2012'\n139. '09-2012'\n140. '10-2012'\n141. '10-2012'\n142. '10-2012'\n143. '10-2012'\n144. '02-2010'\n145. '02-2010'\n146. '02-2010'\n147. '02-2010'\n148. '03-2010'\n149. '03-2010'\n150. '03-2010'\n151. '03-2010'\n152. '04-2010'\n153. '04-2010'\n154. '04-2010'\n155. '04-2010'\n156. '04-2010'\n157. '05-2010'\n158. '05-2010'\n159. '05-2010'\n160. '05-2010'\n161. '06-2010'\n162. '06-2010'\n163. '06-2010'\n164. '06-2010'\n165. '07-2010'\n166. '07-2010'\n167. '07-2010'\n168. '07-2010'\n169. '07-2010'\n170. '08-2010'\n171. '08-2010'\n172. '08-2010'\n173. '08-2010'\n174. '09-2010'\n175. '09-2010'\n176. '09-2010'\n177. '09-2010'\n178. '10-2010'\n179. '10-2010'\n180. '10-2010'\n181. '10-2010'\n182. '10-2010'\n183. '11-2010'\n184. '11-2010'\n185. '11-2010'\n186. '11-2010'\n187. '12-2010'\n188. '12-2010'\n189. '12-2010'\n190. '12-2010'\n191. '12-2010'\n192. '01-2011'\n193. '01-2011'\n194. '01-2011'\n195. '01-2011'\n196. '02-2011'\n197. '02-2011'\n198. '02-2011'\n199. '02-2011'\n200. '03-2011'\n201. ⋯\n202. '09-2011'\n203. '10-2011'\n204. '10-2011'\n205. '10-2011'\n206. '10-2011'\n207. '11-2011'\n208. '11-2011'\n209. '11-2011'\n210. '11-2011'\n211. '12-2011'\n212. '12-2011'\n213. '12-2011'\n214. '12-2011'\n215. '12-2011'\n216. '01-2012'\n217. '01-2012'\n218. '01-2012'\n219. '01-2012'\n220. '02-2012'\n221. '02-2012'\n222. '02-2012'\n223. '02-2012'\n224. '03-2012'\n225. '03-2012'\n226. '03-2012'\n227. '03-2012'\n228. '03-2012'\n229. '04-2012'\n230. '04-2012'\n231. '04-2012'\n232. '04-2012'\n233. '05-2012'\n234. '05-2012'\n235. '05-2012'\n236. '05-2012'\n237. '06-2012'\n238. '06-2012'\n239. '06-2012'\n240. '06-2012'\n241. '06-2012'\n242. '07-2012'\n243. '07-2012'\n244. '07-2012'\n245. '07-2012'\n246. '08-2012'\n247. '08-2012'\n248. '08-2012'\n249. '08-2012'\n250. '08-2012'\n251. '09-2012'\n252. '09-2012'\n253. '09-2012'\n254. '09-2012'\n255. '10-2012'\n256. '10-2012'\n257. '10-2012'\n258. '10-2012'\n259. '02-2010'\n260. '02-2010'\n261. '02-2010'\n262. '02-2010'\n263. '03-2010'\n264. '03-2010'\n265. '03-2010'\n266. '03-2010'\n267. '04-2010'\n268. '04-2010'\n269. '04-2010'\n270. '04-2010'\n271. '04-2010'\n272. '05-2010'\n273. '05-2010'\n274. '05-2010'\n275. '05-2010'\n276. '06-2010'\n277. '06-2010'\n278. '06-2010'\n279. '06-2010'\n280. '07-2010'\n281. '07-2010'\n282. '07-2010'\n283. '07-2010'\n284. '07-2010'\n285. '08-2010'\n286. '08-2010'\n287. '08-2010'\n288. '08-2010'\n289. '09-2010'\n290. '09-2010'\n291. '09-2010'\n292. '09-2010'\n293. '10-2010'\n294. '10-2010'\n295. '10-2010'\n296. '10-2010'\n297. '10-2010'\n298. '11-2010'\n299. '11-2010'\n300. '11-2010'\n301. '11-2010'\n302. '12-2010'\n303. '12-2010'\n304. '12-2010'\n305. '12-2010'\n306. '12-2010'\n307. '01-2011'\n308. '01-2011'\n309. '01-2011'\n310. '01-2011'\n311. '02-2011'\n312. '02-2011'\n313. '02-2011'\n314. '02-2011'\n315. '03-2011'\n316. '03-2011'\n317. '03-2011'\n318. '03-2011'\n319. '04-2011'\n320. '04-2011'\n321. '04-2011'\n322. '04-2011'\n323. '04-2011'\n324. '05-2011'\n325. '05-2011'\n326. '05-2011'\n327. '05-2011'\n328. '06-2011'\n329. '06-2011'\n330. '06-2011'\n331. '06-2011'\n332. '07-2011'\n333. '07-2011'\n334. '07-2011'\n335. '07-2011'\n336. '07-2011'\n337. '08-2011'\n338. '08-2011'\n339. '08-2011'\n340. '08-2011'\n341. '09-2011'\n342. '09-2011'\n343. '09-2011'\n344. '09-2011'\n345. '09-2011'\n346. '10-2011'\n347. '10-2011'\n348. '10-2011'\n349. '10-2011'\n350. '11-2011'\n351. '11-2011'\n352. '11-2011'\n353. '11-2011'\n354. '12-2011'\n355. '12-2011'\n356. '12-2011'\n357. '12-2011'\n358. '12-2011'\n359. '01-2012'\n360. '01-2012'\n361. '01-2012'\n362. '01-2012'\n363. '02-2012'\n364. '02-2012'\n365. '02-2012'\n366. '02-2012'\n367. '03-2012'\n368. '03-2012'\n369. '03-2012'\n370. '03-2012'\n371. '03-2012'\n372. '04-2012'\n373. '04-2012'\n374. '04-2012'\n375. '04-2012'\n376. '05-2012'\n377. '05-2012'\n378. '05-2012'\n379. '05-2012'\n380. '06-2012'\n381. '06-2012'\n382. '06-2012'\n383. '06-2012'\n384. '06-2012'\n385. '07-2012'\n386. '07-2012'\n387. '07-2012'\n388. '07-2012'\n389. '08-2012'\n390. '08-2012'\n391. '08-2012'\n392. '08-2012'\n393. '08-2012'\n394. '09-2012'\n395. '09-2012'\n396. '09-2012'\n397. '09-2012'\n398. '10-2012'\n399. '10-2012'\n400. '10-2012'\n401. '10-2012'\n\n\n",
            "text/latex": "\\begin{enumerate*}\n\\item '02-2010'\n\\item '02-2010'\n\\item '02-2010'\n\\item '02-2010'\n\\item '03-2010'\n\\item '03-2010'\n\\item '03-2010'\n\\item '03-2010'\n\\item '04-2010'\n\\item '04-2010'\n\\item '04-2010'\n\\item '04-2010'\n\\item '04-2010'\n\\item '05-2010'\n\\item '05-2010'\n\\item '05-2010'\n\\item '05-2010'\n\\item '06-2010'\n\\item '06-2010'\n\\item '06-2010'\n\\item '06-2010'\n\\item '07-2010'\n\\item '07-2010'\n\\item '07-2010'\n\\item '07-2010'\n\\item '07-2010'\n\\item '08-2010'\n\\item '08-2010'\n\\item '08-2010'\n\\item '08-2010'\n\\item '09-2010'\n\\item '09-2010'\n\\item '09-2010'\n\\item '09-2010'\n\\item '10-2010'\n\\item '10-2010'\n\\item '10-2010'\n\\item '10-2010'\n\\item '10-2010'\n\\item '11-2010'\n\\item '11-2010'\n\\item '11-2010'\n\\item '11-2010'\n\\item '12-2010'\n\\item '12-2010'\n\\item '12-2010'\n\\item '12-2010'\n\\item '12-2010'\n\\item '01-2011'\n\\item '01-2011'\n\\item '01-2011'\n\\item '01-2011'\n\\item '02-2011'\n\\item '02-2011'\n\\item '02-2011'\n\\item '02-2011'\n\\item '03-2011'\n\\item '03-2011'\n\\item '03-2011'\n\\item '03-2011'\n\\item '04-2011'\n\\item '04-2011'\n\\item '04-2011'\n\\item '04-2011'\n\\item '04-2011'\n\\item '05-2011'\n\\item '05-2011'\n\\item '05-2011'\n\\item '05-2011'\n\\item '06-2011'\n\\item '06-2011'\n\\item '06-2011'\n\\item '06-2011'\n\\item '07-2011'\n\\item '07-2011'\n\\item '07-2011'\n\\item '07-2011'\n\\item '07-2011'\n\\item '08-2011'\n\\item '08-2011'\n\\item '08-2011'\n\\item '08-2011'\n\\item '09-2011'\n\\item '09-2011'\n\\item '09-2011'\n\\item '09-2011'\n\\item '09-2011'\n\\item '10-2011'\n\\item '10-2011'\n\\item '10-2011'\n\\item '10-2011'\n\\item '11-2011'\n\\item '11-2011'\n\\item '11-2011'\n\\item '11-2011'\n\\item '12-2011'\n\\item '12-2011'\n\\item '12-2011'\n\\item '12-2011'\n\\item '12-2011'\n\\item '01-2012'\n\\item '01-2012'\n\\item '01-2012'\n\\item '01-2012'\n\\item '02-2012'\n\\item '02-2012'\n\\item '02-2012'\n\\item '02-2012'\n\\item '03-2012'\n\\item '03-2012'\n\\item '03-2012'\n\\item '03-2012'\n\\item '03-2012'\n\\item '04-2012'\n\\item '04-2012'\n\\item '04-2012'\n\\item '04-2012'\n\\item '05-2012'\n\\item '05-2012'\n\\item '05-2012'\n\\item '05-2012'\n\\item '06-2012'\n\\item '06-2012'\n\\item '06-2012'\n\\item '06-2012'\n\\item '06-2012'\n\\item '07-2012'\n\\item '07-2012'\n\\item '07-2012'\n\\item '07-2012'\n\\item '08-2012'\n\\item '08-2012'\n\\item '08-2012'\n\\item '08-2012'\n\\item '08-2012'\n\\item '09-2012'\n\\item '09-2012'\n\\item '09-2012'\n\\item '09-2012'\n\\item '10-2012'\n\\item '10-2012'\n\\item '10-2012'\n\\item '10-2012'\n\\item '02-2010'\n\\item '02-2010'\n\\item '02-2010'\n\\item '02-2010'\n\\item '03-2010'\n\\item '03-2010'\n\\item '03-2010'\n\\item '03-2010'\n\\item '04-2010'\n\\item '04-2010'\n\\item '04-2010'\n\\item '04-2010'\n\\item '04-2010'\n\\item '05-2010'\n\\item '05-2010'\n\\item '05-2010'\n\\item '05-2010'\n\\item '06-2010'\n\\item '06-2010'\n\\item '06-2010'\n\\item '06-2010'\n\\item '07-2010'\n\\item '07-2010'\n\\item '07-2010'\n\\item '07-2010'\n\\item '07-2010'\n\\item '08-2010'\n\\item '08-2010'\n\\item '08-2010'\n\\item '08-2010'\n\\item '09-2010'\n\\item '09-2010'\n\\item '09-2010'\n\\item '09-2010'\n\\item '10-2010'\n\\item '10-2010'\n\\item '10-2010'\n\\item '10-2010'\n\\item '10-2010'\n\\item '11-2010'\n\\item '11-2010'\n\\item '11-2010'\n\\item '11-2010'\n\\item '12-2010'\n\\item '12-2010'\n\\item '12-2010'\n\\item '12-2010'\n\\item '12-2010'\n\\item '01-2011'\n\\item '01-2011'\n\\item '01-2011'\n\\item '01-2011'\n\\item '02-2011'\n\\item '02-2011'\n\\item '02-2011'\n\\item '02-2011'\n\\item '03-2011'\n\\item ⋯\n\\item '09-2011'\n\\item '10-2011'\n\\item '10-2011'\n\\item '10-2011'\n\\item '10-2011'\n\\item '11-2011'\n\\item '11-2011'\n\\item '11-2011'\n\\item '11-2011'\n\\item '12-2011'\n\\item '12-2011'\n\\item '12-2011'\n\\item '12-2011'\n\\item '12-2011'\n\\item '01-2012'\n\\item '01-2012'\n\\item '01-2012'\n\\item '01-2012'\n\\item '02-2012'\n\\item '02-2012'\n\\item '02-2012'\n\\item '02-2012'\n\\item '03-2012'\n\\item '03-2012'\n\\item '03-2012'\n\\item '03-2012'\n\\item '03-2012'\n\\item '04-2012'\n\\item '04-2012'\n\\item '04-2012'\n\\item '04-2012'\n\\item '05-2012'\n\\item '05-2012'\n\\item '05-2012'\n\\item '05-2012'\n\\item '06-2012'\n\\item '06-2012'\n\\item '06-2012'\n\\item '06-2012'\n\\item '06-2012'\n\\item '07-2012'\n\\item '07-2012'\n\\item '07-2012'\n\\item '07-2012'\n\\item '08-2012'\n\\item '08-2012'\n\\item '08-2012'\n\\item '08-2012'\n\\item '08-2012'\n\\item '09-2012'\n\\item '09-2012'\n\\item '09-2012'\n\\item '09-2012'\n\\item '10-2012'\n\\item '10-2012'\n\\item '10-2012'\n\\item '10-2012'\n\\item '02-2010'\n\\item '02-2010'\n\\item '02-2010'\n\\item '02-2010'\n\\item '03-2010'\n\\item '03-2010'\n\\item '03-2010'\n\\item '03-2010'\n\\item '04-2010'\n\\item '04-2010'\n\\item '04-2010'\n\\item '04-2010'\n\\item '04-2010'\n\\item '05-2010'\n\\item '05-2010'\n\\item '05-2010'\n\\item '05-2010'\n\\item '06-2010'\n\\item '06-2010'\n\\item '06-2010'\n\\item '06-2010'\n\\item '07-2010'\n\\item '07-2010'\n\\item '07-2010'\n\\item '07-2010'\n\\item '07-2010'\n\\item '08-2010'\n\\item '08-2010'\n\\item '08-2010'\n\\item '08-2010'\n\\item '09-2010'\n\\item '09-2010'\n\\item '09-2010'\n\\item '09-2010'\n\\item '10-2010'\n\\item '10-2010'\n\\item '10-2010'\n\\item '10-2010'\n\\item '10-2010'\n\\item '11-2010'\n\\item '11-2010'\n\\item '11-2010'\n\\item '11-2010'\n\\item '12-2010'\n\\item '12-2010'\n\\item '12-2010'\n\\item '12-2010'\n\\item '12-2010'\n\\item '01-2011'\n\\item '01-2011'\n\\item '01-2011'\n\\item '01-2011'\n\\item '02-2011'\n\\item '02-2011'\n\\item '02-2011'\n\\item '02-2011'\n\\item '03-2011'\n\\item '03-2011'\n\\item '03-2011'\n\\item '03-2011'\n\\item '04-2011'\n\\item '04-2011'\n\\item '04-2011'\n\\item '04-2011'\n\\item '04-2011'\n\\item '05-2011'\n\\item '05-2011'\n\\item '05-2011'\n\\item '05-2011'\n\\item '06-2011'\n\\item '06-2011'\n\\item '06-2011'\n\\item '06-2011'\n\\item '07-2011'\n\\item '07-2011'\n\\item '07-2011'\n\\item '07-2011'\n\\item '07-2011'\n\\item '08-2011'\n\\item '08-2011'\n\\item '08-2011'\n\\item '08-2011'\n\\item '09-2011'\n\\item '09-2011'\n\\item '09-2011'\n\\item '09-2011'\n\\item '09-2011'\n\\item '10-2011'\n\\item '10-2011'\n\\item '10-2011'\n\\item '10-2011'\n\\item '11-2011'\n\\item '11-2011'\n\\item '11-2011'\n\\item '11-2011'\n\\item '12-2011'\n\\item '12-2011'\n\\item '12-2011'\n\\item '12-2011'\n\\item '12-2011'\n\\item '01-2012'\n\\item '01-2012'\n\\item '01-2012'\n\\item '01-2012'\n\\item '02-2012'\n\\item '02-2012'\n\\item '02-2012'\n\\item '02-2012'\n\\item '03-2012'\n\\item '03-2012'\n\\item '03-2012'\n\\item '03-2012'\n\\item '03-2012'\n\\item '04-2012'\n\\item '04-2012'\n\\item '04-2012'\n\\item '04-2012'\n\\item '05-2012'\n\\item '05-2012'\n\\item '05-2012'\n\\item '05-2012'\n\\item '06-2012'\n\\item '06-2012'\n\\item '06-2012'\n\\item '06-2012'\n\\item '06-2012'\n\\item '07-2012'\n\\item '07-2012'\n\\item '07-2012'\n\\item '07-2012'\n\\item '08-2012'\n\\item '08-2012'\n\\item '08-2012'\n\\item '08-2012'\n\\item '08-2012'\n\\item '09-2012'\n\\item '09-2012'\n\\item '09-2012'\n\\item '09-2012'\n\\item '10-2012'\n\\item '10-2012'\n\\item '10-2012'\n\\item '10-2012'\n\\end{enumerate*}\n",
            "text/plain": [
              "   [1] \"02-2010\" \"02-2010\" \"02-2010\" \"02-2010\" \"03-2010\" \"03-2010\" \"03-2010\"\n",
              "   [8] \"03-2010\" \"04-2010\" \"04-2010\" \"04-2010\" \"04-2010\" \"04-2010\" \"05-2010\"\n",
              "  [15] \"05-2010\" \"05-2010\" \"05-2010\" \"06-2010\" \"06-2010\" \"06-2010\" \"06-2010\"\n",
              "  [22] \"07-2010\" \"07-2010\" \"07-2010\" \"07-2010\" \"07-2010\" \"08-2010\" \"08-2010\"\n",
              "  [29] \"08-2010\" \"08-2010\" \"09-2010\" \"09-2010\" \"09-2010\" \"09-2010\" \"10-2010\"\n",
              "  [36] \"10-2010\" \"10-2010\" \"10-2010\" \"10-2010\" \"11-2010\" \"11-2010\" \"11-2010\"\n",
              "  [43] \"11-2010\" \"12-2010\" \"12-2010\" \"12-2010\" \"12-2010\" \"12-2010\" \"01-2011\"\n",
              "  [50] \"01-2011\" \"01-2011\" \"01-2011\" \"02-2011\" \"02-2011\" \"02-2011\" \"02-2011\"\n",
              "  [57] \"03-2011\" \"03-2011\" \"03-2011\" \"03-2011\" \"04-2011\" \"04-2011\" \"04-2011\"\n",
              "  [64] \"04-2011\" \"04-2011\" \"05-2011\" \"05-2011\" \"05-2011\" \"05-2011\" \"06-2011\"\n",
              "  [71] \"06-2011\" \"06-2011\" \"06-2011\" \"07-2011\" \"07-2011\" \"07-2011\" \"07-2011\"\n",
              "  [78] \"07-2011\" \"08-2011\" \"08-2011\" \"08-2011\" \"08-2011\" \"09-2011\" \"09-2011\"\n",
              "  [85] \"09-2011\" \"09-2011\" \"09-2011\" \"10-2011\" \"10-2011\" \"10-2011\" \"10-2011\"\n",
              "  [92] \"11-2011\" \"11-2011\" \"11-2011\" \"11-2011\" \"12-2011\" \"12-2011\" \"12-2011\"\n",
              "  [99] \"12-2011\" \"12-2011\" \"01-2012\" \"01-2012\" \"01-2012\" \"01-2012\" \"02-2012\"\n",
              " [106] \"02-2012\" \"02-2012\" \"02-2012\" \"03-2012\" \"03-2012\" \"03-2012\" \"03-2012\"\n",
              " [113] \"03-2012\" \"04-2012\" \"04-2012\" \"04-2012\" \"04-2012\" \"05-2012\" \"05-2012\"\n",
              " [120] \"05-2012\" \"05-2012\" \"06-2012\" \"06-2012\" \"06-2012\" \"06-2012\" \"06-2012\"\n",
              " [127] \"07-2012\" \"07-2012\" \"07-2012\" \"07-2012\" \"08-2012\" \"08-2012\" \"08-2012\"\n",
              " [134] \"08-2012\" \"08-2012\" \"09-2012\" \"09-2012\" \"09-2012\" \"09-2012\" \"10-2012\"\n",
              " [141] \"10-2012\" \"10-2012\" \"10-2012\" \"02-2010\" \"02-2010\" \"02-2010\" \"02-2010\"\n",
              " [148] \"03-2010\" \"03-2010\" \"03-2010\" \"03-2010\" \"04-2010\" \"04-2010\" \"04-2010\"\n",
              " [155] \"04-2010\" \"04-2010\" \"05-2010\" \"05-2010\" \"05-2010\" \"05-2010\" \"06-2010\"\n",
              " [162] \"06-2010\" \"06-2010\" \"06-2010\" \"07-2010\" \"07-2010\" \"07-2010\" \"07-2010\"\n",
              " [169] \"07-2010\" \"08-2010\" \"08-2010\" \"08-2010\" \"08-2010\" \"09-2010\" \"09-2010\"\n",
              " [176] \"09-2010\" \"09-2010\" \"10-2010\" \"10-2010\" \"10-2010\" \"10-2010\" \"10-2010\"\n",
              " [183] \"11-2010\" \"11-2010\" \"11-2010\" \"11-2010\" \"12-2010\" \"12-2010\" \"12-2010\"\n",
              " [190] \"12-2010\" \"12-2010\" \"01-2011\" \"01-2011\" \"01-2011\" \"01-2011\" \"02-2011\"\n",
              " [197] \"02-2011\" \"02-2011\" \"02-2011\" \"03-2011\" \"03-2011\" \"03-2011\" \"03-2011\"\n",
              " [204] \"04-2011\" \"04-2011\" \"04-2011\" \"04-2011\" \"04-2011\" \"05-2011\" \"05-2011\"\n",
              " [211] \"05-2011\" \"05-2011\" \"06-2011\" \"06-2011\" \"06-2011\" \"06-2011\" \"07-2011\"\n",
              " [218] \"07-2011\" \"07-2011\" \"07-2011\" \"07-2011\" \"08-2011\" \"08-2011\" \"08-2011\"\n",
              " [225] \"08-2011\" \"09-2011\" \"09-2011\" \"09-2011\" \"09-2011\" \"09-2011\" \"10-2011\"\n",
              " [232] \"10-2011\" \"10-2011\" \"10-2011\" \"11-2011\" \"11-2011\" \"11-2011\" \"11-2011\"\n",
              " [239] \"12-2011\" \"12-2011\" \"12-2011\" \"12-2011\" \"12-2011\" \"01-2012\" \"01-2012\"\n",
              " [246] \"01-2012\" \"01-2012\" \"02-2012\" \"02-2012\" \"02-2012\" \"02-2012\" \"03-2012\"\n",
              " [253] \"03-2012\" \"03-2012\" \"03-2012\" \"03-2012\" \"04-2012\" \"04-2012\" \"04-2012\"\n",
              " [260] \"04-2012\" \"05-2012\" \"05-2012\" \"05-2012\" \"05-2012\" \"06-2012\" \"06-2012\"\n",
              " [267] \"06-2012\" \"06-2012\" \"06-2012\" \"07-2012\" \"07-2012\" \"07-2012\" \"07-2012\"\n",
              " [274] \"08-2012\" \"08-2012\" \"08-2012\" \"08-2012\" \"08-2012\" \"09-2012\" \"09-2012\"\n",
              " [281] \"09-2012\" \"09-2012\" \"10-2012\" \"10-2012\" \"10-2012\" \"10-2012\" \"02-2010\"\n",
              " [288] \"02-2010\" \"02-2010\" \"02-2010\" \"03-2010\" \"03-2010\" \"03-2010\" \"03-2010\"\n",
              " [295] \"04-2010\" \"04-2010\" \"04-2010\" \"04-2010\" \"04-2010\" \"05-2010\" \"05-2010\"\n",
              " [302] \"05-2010\" \"05-2010\" \"06-2010\" \"06-2010\" \"06-2010\" \"06-2010\" \"07-2010\"\n",
              " [309] \"07-2010\" \"07-2010\" \"07-2010\" \"07-2010\" \"08-2010\" \"08-2010\" \"08-2010\"\n",
              " [316] \"08-2010\" \"09-2010\" \"09-2010\" \"09-2010\" \"09-2010\" \"10-2010\" \"10-2010\"\n",
              " [323] \"10-2010\" \"10-2010\" \"10-2010\" \"11-2010\" \"11-2010\" \"11-2010\" \"11-2010\"\n",
              " [330] \"12-2010\" \"12-2010\" \"12-2010\" \"12-2010\" \"12-2010\" \"01-2011\" \"01-2011\"\n",
              " [337] \"01-2011\" \"01-2011\" \"02-2011\" \"02-2011\" \"02-2011\" \"02-2011\" \"03-2011\"\n",
              " [344] \"03-2011\" \"03-2011\" \"03-2011\" \"04-2011\" \"04-2011\" \"04-2011\" \"04-2011\"\n",
              " [351] \"04-2011\" \"05-2011\" \"05-2011\" \"05-2011\" \"05-2011\" \"06-2011\" \"06-2011\"\n",
              " [358] \"06-2011\" \"06-2011\" \"07-2011\" \"07-2011\" \"07-2011\" \"07-2011\" \"07-2011\"\n",
              " [365] \"08-2011\" \"08-2011\" \"08-2011\" \"08-2011\" \"09-2011\" \"09-2011\" \"09-2011\"\n",
              " [372] \"09-2011\" \"09-2011\" \"10-2011\" \"10-2011\" \"10-2011\" \"10-2011\" \"11-2011\"\n",
              " [379] \"11-2011\" \"11-2011\" \"11-2011\" \"12-2011\" \"12-2011\" \"12-2011\" \"12-2011\"\n",
              " [386] \"12-2011\" \"01-2012\" \"01-2012\" \"01-2012\" \"01-2012\" \"02-2012\" \"02-2012\"\n",
              " [393] \"02-2012\" \"02-2012\" \"03-2012\" \"03-2012\" \"03-2012\" \"03-2012\" \"03-2012\"\n",
              " [400] \"04-2012\" \"04-2012\" \"04-2012\" \"04-2012\" \"05-2012\" \"05-2012\" \"05-2012\"\n",
              " [407] \"05-2012\" \"06-2012\" \"06-2012\" \"06-2012\" \"06-2012\" \"06-2012\" \"07-2012\"\n",
              " [414] \"07-2012\" \"07-2012\" \"07-2012\" \"08-2012\" \"08-2012\" \"08-2012\" \"08-2012\"\n",
              " [421] \"08-2012\" \"09-2012\" \"09-2012\" \"09-2012\" \"09-2012\" \"10-2012\" \"10-2012\"\n",
              " [428] \"10-2012\" \"10-2012\" \"02-2010\" \"02-2010\" \"02-2010\" \"02-2010\" \"03-2010\"\n",
              " [435] \"03-2010\" \"03-2010\" \"03-2010\" \"04-2010\" \"04-2010\" \"04-2010\" \"04-2010\"\n",
              " [442] \"04-2010\" \"05-2010\" \"05-2010\" \"05-2010\" \"05-2010\" \"06-2010\" \"06-2010\"\n",
              " [449] \"06-2010\" \"06-2010\" \"07-2010\" \"07-2010\" \"07-2010\" \"07-2010\" \"07-2010\"\n",
              " [456] \"08-2010\" \"08-2010\" \"08-2010\" \"08-2010\" \"09-2010\" \"09-2010\" \"09-2010\"\n",
              " [463] \"09-2010\" \"10-2010\" \"10-2010\" \"10-2010\" \"10-2010\" \"10-2010\" \"11-2010\"\n",
              " [470] \"11-2010\" \"11-2010\" \"11-2010\" \"12-2010\" \"12-2010\" \"12-2010\" \"12-2010\"\n",
              " [477] \"12-2010\" \"01-2011\" \"01-2011\" \"01-2011\" \"01-2011\" \"02-2011\" \"02-2011\"\n",
              " [484] \"02-2011\" \"02-2011\" \"03-2011\" \"03-2011\" \"03-2011\" \"03-2011\" \"04-2011\"\n",
              " [491] \"04-2011\" \"04-2011\" \"04-2011\" \"04-2011\" \"05-2011\" \"05-2011\" \"05-2011\"\n",
              " [498] \"05-2011\" \"06-2011\" \"06-2011\" \"06-2011\" \"06-2011\" \"07-2011\" \"07-2011\"\n",
              " [505] \"07-2011\" \"07-2011\" \"07-2011\" \"08-2011\" \"08-2011\" \"08-2011\" \"08-2011\"\n",
              " [512] \"09-2011\" \"09-2011\" \"09-2011\" \"09-2011\" \"09-2011\" \"10-2011\" \"10-2011\"\n",
              " [519] \"10-2011\" \"10-2011\" \"11-2011\" \"11-2011\" \"11-2011\" \"11-2011\" \"12-2011\"\n",
              " [526] \"12-2011\" \"12-2011\" \"12-2011\" \"12-2011\" \"01-2012\" \"01-2012\" \"01-2012\"\n",
              " [533] \"01-2012\" \"02-2012\" \"02-2012\" \"02-2012\" \"02-2012\" \"03-2012\" \"03-2012\"\n",
              " [540] \"03-2012\" \"03-2012\" \"03-2012\" \"04-2012\" \"04-2012\" \"04-2012\" \"04-2012\"\n",
              " [547] \"05-2012\" \"05-2012\" \"05-2012\" \"05-2012\" \"06-2012\" \"06-2012\" \"06-2012\"\n",
              " [554] \"06-2012\" \"06-2012\" \"07-2012\" \"07-2012\" \"07-2012\" \"07-2012\" \"08-2012\"\n",
              " [561] \"08-2012\" \"08-2012\" \"08-2012\" \"08-2012\" \"09-2012\" \"09-2012\" \"09-2012\"\n",
              " [568] \"09-2012\" \"10-2012\" \"10-2012\" \"10-2012\" \"10-2012\" \"02-2010\" \"02-2010\"\n",
              " [575] \"02-2010\" \"02-2010\" \"03-2010\" \"03-2010\" \"03-2010\" \"03-2010\" \"04-2010\"\n",
              " [582] \"04-2010\" \"04-2010\" \"04-2010\" \"04-2010\" \"05-2010\" \"05-2010\" \"05-2010\"\n",
              " [589] \"05-2010\" \"06-2010\" \"06-2010\" \"06-2010\" \"06-2010\" \"07-2010\" \"07-2010\"\n",
              " [596] \"07-2010\" \"07-2010\" \"07-2010\" \"08-2010\" \"08-2010\" \"08-2010\" \"08-2010\"\n",
              " [603] \"09-2010\" \"09-2010\" \"09-2010\" \"09-2010\" \"10-2010\" \"10-2010\" \"10-2010\"\n",
              " [610] \"10-2010\" \"10-2010\" \"11-2010\" \"11-2010\" \"11-2010\" \"11-2010\" \"12-2010\"\n",
              " [617] \"12-2010\" \"12-2010\" \"12-2010\" \"12-2010\" \"01-2011\" \"01-2011\" \"01-2011\"\n",
              " [624] \"01-2011\" \"02-2011\" \"02-2011\" \"02-2011\" \"02-2011\" \"03-2011\" \"03-2011\"\n",
              " [631] \"03-2011\" \"03-2011\" \"04-2011\" \"04-2011\" \"04-2011\" \"04-2011\" \"04-2011\"\n",
              " [638] \"05-2011\" \"05-2011\" \"05-2011\" \"05-2011\" \"06-2011\" \"06-2011\" \"06-2011\"\n",
              " [645] \"06-2011\" \"07-2011\" \"07-2011\" \"07-2011\" \"07-2011\" \"07-2011\" \"08-2011\"\n",
              " [652] \"08-2011\" \"08-2011\" \"08-2011\" \"09-2011\" \"09-2011\" \"09-2011\" \"09-2011\"\n",
              " [659] \"09-2011\" \"10-2011\" \"10-2011\" \"10-2011\" \"10-2011\" \"11-2011\" \"11-2011\"\n",
              " [666] \"11-2011\" \"11-2011\" \"12-2011\" \"12-2011\" \"12-2011\" \"12-2011\" \"12-2011\"\n",
              " [673] \"01-2012\" \"01-2012\" \"01-2012\" \"01-2012\" \"02-2012\" \"02-2012\" \"02-2012\"\n",
              " [680] \"02-2012\" \"03-2012\" \"03-2012\" \"03-2012\" \"03-2012\" \"03-2012\" \"04-2012\"\n",
              " [687] \"04-2012\" \"04-2012\" \"04-2012\" \"05-2012\" \"05-2012\" \"05-2012\" \"05-2012\"\n",
              " [694] \"06-2012\" \"06-2012\" \"06-2012\" \"06-2012\" \"06-2012\" \"07-2012\" \"07-2012\"\n",
              " [701] \"07-2012\" \"07-2012\" \"08-2012\" \"08-2012\" \"08-2012\" \"08-2012\" \"08-2012\"\n",
              " [708] \"09-2012\" \"09-2012\" \"09-2012\" \"09-2012\" \"10-2012\" \"10-2012\" \"10-2012\"\n",
              " [715] \"10-2012\" \"02-2010\" \"02-2010\" \"02-2010\" \"02-2010\" \"03-2010\" \"03-2010\"\n",
              " [722] \"03-2010\" \"03-2010\" \"04-2010\" \"04-2010\" \"04-2010\" \"04-2010\" \"04-2010\"\n",
              " [729] \"05-2010\" \"05-2010\" \"05-2010\" \"05-2010\" \"06-2010\" \"06-2010\" \"06-2010\"\n",
              " [736] \"06-2010\" \"07-2010\" \"07-2010\" \"07-2010\" \"07-2010\" \"07-2010\" \"08-2010\"\n",
              " [743] \"08-2010\" \"08-2010\" \"08-2010\" \"09-2010\" \"09-2010\" \"09-2010\" \"09-2010\"\n",
              " [750] \"10-2010\" \"10-2010\" \"10-2010\" \"10-2010\" \"10-2010\" \"11-2010\" \"11-2010\"\n",
              " [757] \"11-2010\" \"11-2010\" \"12-2010\" \"12-2010\" \"12-2010\" \"12-2010\" \"12-2010\"\n",
              " [764] \"01-2011\" \"01-2011\" \"01-2011\" \"01-2011\" \"02-2011\" \"02-2011\" \"02-2011\"\n",
              " [771] \"02-2011\" \"03-2011\" \"03-2011\" \"03-2011\" \"03-2011\" \"04-2011\" \"04-2011\"\n",
              " [778] \"04-2011\" \"04-2011\" \"04-2011\" \"05-2011\" \"05-2011\" \"05-2011\" \"05-2011\"\n",
              " [785] \"06-2011\" \"06-2011\" \"06-2011\" \"06-2011\" \"07-2011\" \"07-2011\" \"07-2011\"\n",
              " [792] \"07-2011\" \"07-2011\" \"08-2011\" \"08-2011\" \"08-2011\" \"08-2011\" \"09-2011\"\n",
              " [799] \"09-2011\" \"09-2011\" \"09-2011\" \"09-2011\" \"10-2011\" \"10-2011\" \"10-2011\"\n",
              " [806] \"10-2011\" \"11-2011\" \"11-2011\" \"11-2011\" \"11-2011\" \"12-2011\" \"12-2011\"\n",
              " [813] \"12-2011\" \"12-2011\" \"12-2011\" \"01-2012\" \"01-2012\" \"01-2012\" \"01-2012\"\n",
              " [820] \"02-2012\" \"02-2012\" \"02-2012\" \"02-2012\" \"03-2012\" \"03-2012\" \"03-2012\"\n",
              " [827] \"03-2012\" \"03-2012\" \"04-2012\" \"04-2012\" \"04-2012\" \"04-2012\" \"05-2012\"\n",
              " [834] \"05-2012\" \"05-2012\" \"05-2012\" \"06-2012\" \"06-2012\" \"06-2012\" \"06-2012\"\n",
              " [841] \"06-2012\" \"07-2012\" \"07-2012\" \"07-2012\" \"07-2012\" \"08-2012\" \"08-2012\"\n",
              " [848] \"08-2012\" \"08-2012\" \"08-2012\" \"09-2012\" \"09-2012\" \"09-2012\" \"09-2012\"\n",
              " [855] \"10-2012\" \"10-2012\" \"10-2012\" \"10-2012\" \"02-2010\" \"02-2010\" \"02-2010\"\n",
              " [862] \"02-2010\" \"03-2010\" \"03-2010\" \"03-2010\" \"03-2010\" \"04-2010\" \"04-2010\"\n",
              " [869] \"04-2010\" \"04-2010\" \"04-2010\" \"05-2010\" \"05-2010\" \"05-2010\" \"05-2010\"\n",
              " [876] \"06-2010\" \"06-2010\" \"06-2010\" \"06-2010\" \"07-2010\" \"07-2010\" \"07-2010\"\n",
              " [883] \"07-2010\" \"07-2010\" \"08-2010\" \"08-2010\" \"08-2010\" \"08-2010\" \"09-2010\"\n",
              " [890] \"09-2010\" \"09-2010\" \"09-2010\" \"10-2010\" \"10-2010\" \"10-2010\" \"10-2010\"\n",
              " [897] \"10-2010\" \"11-2010\" \"11-2010\" \"11-2010\" \"11-2010\" \"12-2010\" \"12-2010\"\n",
              " [904] \"12-2010\" \"12-2010\" \"12-2010\" \"01-2011\" \"01-2011\" \"01-2011\" \"01-2011\"\n",
              " [911] \"02-2011\" \"02-2011\" \"02-2011\" \"02-2011\" \"03-2011\" \"03-2011\" \"03-2011\"\n",
              " [918] \"03-2011\" \"04-2011\" \"04-2011\" \"04-2011\" \"04-2011\" \"04-2011\" \"05-2011\"\n",
              " [925] \"05-2011\" \"05-2011\" \"05-2011\" \"06-2011\" \"06-2011\" \"06-2011\" \"06-2011\"\n",
              " [932] \"07-2011\" \"07-2011\" \"07-2011\" \"07-2011\" \"07-2011\" \"08-2011\" \"08-2011\"\n",
              " [939] \"08-2011\" \"08-2011\" \"09-2011\" \"09-2011\" \"09-2011\" \"09-2011\" \"09-2011\"\n",
              " [946] \"10-2011\" \"10-2011\" \"10-2011\" \"10-2011\" \"11-2011\" \"11-2011\" \"11-2011\"\n",
              " [953] \"11-2011\" \"12-2011\" \"12-2011\" \"12-2011\" \"12-2011\" \"12-2011\" \"01-2012\"\n",
              " [960] \"01-2012\" \"01-2012\" \"01-2012\" \"02-2012\" \"02-2012\" \"02-2012\" \"02-2012\"\n",
              " [967] \"03-2012\" \"03-2012\" \"03-2012\" \"03-2012\" \"03-2012\" \"04-2012\" \"04-2012\"\n",
              " [974] \"04-2012\" \"04-2012\" \"05-2012\" \"05-2012\" \"05-2012\" \"05-2012\" \"06-2012\"\n",
              " [981] \"06-2012\" \"06-2012\" \"06-2012\" \"06-2012\" \"07-2012\" \"07-2012\" \"07-2012\"\n",
              " [988] \"07-2012\" \"08-2012\" \"08-2012\" \"08-2012\" \"08-2012\" \"08-2012\" \"09-2012\"\n",
              " [995] \"09-2012\" \"09-2012\" \"09-2012\" \"10-2012\" \"10-2012\" \"10-2012\" \"10-2012\"\n",
              "[1002] \"02-2010\" \"02-2010\" \"02-2010\" \"02-2010\" \"03-2010\" \"03-2010\" \"03-2010\"\n",
              "[1009] \"03-2010\" \"04-2010\" \"04-2010\" \"04-2010\" \"04-2010\" \"04-2010\" \"05-2010\"\n",
              "[1016] \"05-2010\" \"05-2010\" \"05-2010\" \"06-2010\" \"06-2010\" \"06-2010\" \"06-2010\"\n",
              "[1023] \"07-2010\" \"07-2010\" \"07-2010\" \"07-2010\" \"07-2010\" \"08-2010\" \"08-2010\"\n",
              "[1030] \"08-2010\" \"08-2010\" \"09-2010\" \"09-2010\" \"09-2010\" \"09-2010\" \"10-2010\"\n",
              "[1037] \"10-2010\" \"10-2010\" \"10-2010\" \"10-2010\" \"11-2010\" \"11-2010\" \"11-2010\"\n",
              "[1044] \"11-2010\" \"12-2010\" \"12-2010\" \"12-2010\" \"12-2010\" \"12-2010\" \"01-2011\"\n",
              "[1051] \"01-2011\" \"01-2011\" \"01-2011\" \"02-2011\" \"02-2011\" \"02-2011\" \"02-2011\"\n",
              "[1058] \"03-2011\" \"03-2011\" \"03-2011\" \"03-2011\" \"04-2011\" \"04-2011\" \"04-2011\"\n",
              "[1065] \"04-2011\" \"04-2011\" \"05-2011\" \"05-2011\" \"05-2011\" \"05-2011\" \"06-2011\"\n",
              "[1072] \"06-2011\" \"06-2011\" \"06-2011\" \"07-2011\" \"07-2011\" \"07-2011\" \"07-2011\"\n",
              "[1079] \"07-2011\" \"08-2011\" \"08-2011\" \"08-2011\" \"08-2011\" \"09-2011\" \"09-2011\"\n",
              "[1086] \"09-2011\" \"09-2011\" \"09-2011\" \"10-2011\" \"10-2011\" \"10-2011\" \"10-2011\"\n",
              "[1093] \"11-2011\" \"11-2011\" \"11-2011\" \"11-2011\" \"12-2011\" \"12-2011\" \"12-2011\"\n",
              "[1100] \"12-2011\" \"12-2011\" \"01-2012\" \"01-2012\" \"01-2012\" \"01-2012\" \"02-2012\"\n",
              "[1107] \"02-2012\" \"02-2012\" \"02-2012\" \"03-2012\" \"03-2012\" \"03-2012\" \"03-2012\"\n",
              "[1114] \"03-2012\" \"04-2012\" \"04-2012\" \"04-2012\" \"04-2012\" \"05-2012\" \"05-2012\"\n",
              "[1121] \"05-2012\" \"05-2012\" \"06-2012\" \"06-2012\" \"06-2012\" \"06-2012\" \"06-2012\"\n",
              "[1128] \"07-2012\" \"07-2012\" \"07-2012\" \"07-2012\" \"08-2012\" \"08-2012\" \"08-2012\"\n",
              "[1135] \"08-2012\" \"08-2012\" \"09-2012\" \"09-2012\" \"09-2012\" \"09-2012\" \"10-2012\"\n",
              "[1142] \"10-2012\" \"10-2012\" \"10-2012\" \"02-2010\" \"02-2010\" \"02-2010\" \"02-2010\"\n",
              "[1149] \"03-2010\" \"03-2010\" \"03-2010\" \"03-2010\" \"04-2010\" \"04-2010\" \"04-2010\"\n",
              "[1156] \"04-2010\" \"04-2010\" \"05-2010\" \"05-2010\" \"05-2010\" \"05-2010\" \"06-2010\"\n",
              "[1163] \"06-2010\" \"06-2010\" \"06-2010\" \"07-2010\" \"07-2010\" \"07-2010\" \"07-2010\"\n",
              "[1170] \"07-2010\" \"08-2010\" \"08-2010\" \"08-2010\" \"08-2010\" \"09-2010\" \"09-2010\"\n",
              "[1177] \"09-2010\" \"09-2010\" \"10-2010\" \"10-2010\" \"10-2010\" \"10-2010\" \"10-2010\"\n",
              "[1184] \"11-2010\" \"11-2010\" \"11-2010\" \"11-2010\" \"12-2010\" \"12-2010\" \"12-2010\"\n",
              "[1191] \"12-2010\" \"12-2010\" \"01-2011\" \"01-2011\" \"01-2011\" \"01-2011\" \"02-2011\"\n",
              "[1198] \"02-2011\" \"02-2011\" \"02-2011\" \"03-2011\" \"03-2011\" \"03-2011\" \"03-2011\"\n",
              "[1205] \"04-2011\" \"04-2011\" \"04-2011\" \"04-2011\" \"04-2011\" \"05-2011\" \"05-2011\"\n",
              "[1212] \"05-2011\" \"05-2011\" \"06-2011\" \"06-2011\" \"06-2011\" \"06-2011\" \"07-2011\"\n",
              "[1219] \"07-2011\" \"07-2011\" \"07-2011\" \"07-2011\" \"08-2011\" \"08-2011\" \"08-2011\"\n",
              "[1226] \"08-2011\" \"09-2011\" \"09-2011\" \"09-2011\" \"09-2011\" \"09-2011\" \"10-2011\"\n",
              "[1233] \"10-2011\" \"10-2011\" \"10-2011\" \"11-2011\" \"11-2011\" \"11-2011\" \"11-2011\"\n",
              "[1240] \"12-2011\" \"12-2011\" \"12-2011\" \"12-2011\" \"12-2011\" \"01-2012\" \"01-2012\"\n",
              "[1247] \"01-2012\" \"01-2012\" \"02-2012\" \"02-2012\" \"02-2012\" \"02-2012\" \"03-2012\"\n",
              "[1254] \"03-2012\" \"03-2012\" \"03-2012\" \"03-2012\" \"04-2012\" \"04-2012\" \"04-2012\"\n",
              "[1261] \"04-2012\" \"05-2012\" \"05-2012\" \"05-2012\" \"05-2012\" \"06-2012\" \"06-2012\"\n",
              "[1268] \"06-2012\" \"06-2012\" \"06-2012\" \"07-2012\" \"07-2012\" \"07-2012\" \"07-2012\"\n",
              "[1275] \"08-2012\" \"08-2012\" \"08-2012\" \"08-2012\" \"08-2012\" \"09-2012\" \"09-2012\"\n",
              "[1282] \"09-2012\" \"09-2012\" \"10-2012\" \"10-2012\" \"10-2012\" \"10-2012\" \"02-2010\"\n",
              "[1289] \"02-2010\" \"02-2010\" \"02-2010\" \"03-2010\" \"03-2010\" \"03-2010\" \"03-2010\"\n",
              "[1296] \"04-2010\" \"04-2010\" \"04-2010\" \"04-2010\" \"04-2010\" \"05-2010\" \"05-2010\"\n",
              "[1303] \"05-2010\" \"05-2010\" \"06-2010\" \"06-2010\" \"06-2010\" \"06-2010\" \"07-2010\"\n",
              "[1310] \"07-2010\" \"07-2010\" \"07-2010\" \"07-2010\" \"08-2010\" \"08-2010\" \"08-2010\"\n",
              "[1317] \"08-2010\" \"09-2010\" \"09-2010\" \"09-2010\" \"09-2010\" \"10-2010\" \"10-2010\"\n",
              "[1324] \"10-2010\" \"10-2010\" \"10-2010\" \"11-2010\" \"11-2010\" \"11-2010\" \"11-2010\"\n",
              "[1331] \"12-2010\" \"12-2010\" \"12-2010\" \"12-2010\" \"12-2010\" \"01-2011\" \"01-2011\"\n",
              "[1338] \"01-2011\" \"01-2011\" \"02-2011\" \"02-2011\" \"02-2011\" \"02-2011\" \"03-2011\"\n",
              "[1345] \"03-2011\" \"03-2011\" \"03-2011\" \"04-2011\" \"04-2011\" \"04-2011\" \"04-2011\"\n",
              "[1352] \"04-2011\" \"05-2011\" \"05-2011\" \"05-2011\" \"05-2011\" \"06-2011\" \"06-2011\"\n",
              "[1359] \"06-2011\" \"06-2011\" \"07-2011\" \"07-2011\" \"07-2011\" \"07-2011\" \"07-2011\"\n",
              "[1366] \"08-2011\" \"08-2011\" \"08-2011\" \"08-2011\" \"09-2011\" \"09-2011\" \"09-2011\"\n",
              "[1373] \"09-2011\" \"09-2011\" \"10-2011\" \"10-2011\" \"10-2011\" \"10-2011\" \"11-2011\"\n",
              "[1380] \"11-2011\" \"11-2011\" \"11-2011\" \"12-2011\" \"12-2011\" \"12-2011\" \"12-2011\"\n",
              "[1387] \"12-2011\" \"01-2012\" \"01-2012\" \"01-2012\" \"01-2012\" \"02-2012\" \"02-2012\"\n",
              "[1394] \"02-2012\" \"02-2012\" \"03-2012\" \"03-2012\" \"03-2012\" \"03-2012\" \"03-2012\"\n",
              "[1401] \"04-2012\" \"04-2012\" \"04-2012\" \"04-2012\" \"05-2012\" \"05-2012\" \"05-2012\"\n",
              "[1408] \"05-2012\" \"06-2012\" \"06-2012\" \"06-2012\" \"06-2012\" \"06-2012\" \"07-2012\"\n",
              "[1415] \"07-2012\" \"07-2012\" \"07-2012\" \"08-2012\" \"08-2012\" \"08-2012\" \"08-2012\"\n",
              "[1422] \"08-2012\" \"09-2012\" \"09-2012\" \"09-2012\" \"09-2012\" \"10-2012\" \"10-2012\"\n",
              "[1429] \"10-2012\" \"10-2012\" \"02-2010\" \"02-2010\" \"02-2010\" \"02-2010\" \"03-2010\"\n",
              "[1436] \"03-2010\" \"03-2010\" \"03-2010\" \"04-2010\" \"04-2010\" \"04-2010\" \"04-2010\"\n",
              "[1443] \"04-2010\" \"05-2010\" \"05-2010\" \"05-2010\" \"05-2010\" \"06-2010\" \"06-2010\"\n",
              "[1450] \"06-2010\" \"06-2010\" \"07-2010\" \"07-2010\" \"07-2010\" \"07-2010\" \"07-2010\"\n",
              "[1457] \"08-2010\" \"08-2010\" \"08-2010\" \"08-2010\" \"09-2010\" \"09-2010\" \"09-2010\"\n",
              "[1464] \"09-2010\" \"10-2010\" \"10-2010\" \"10-2010\" \"10-2010\" \"10-2010\" \"11-2010\"\n",
              "[1471] \"11-2010\" \"11-2010\" \"11-2010\" \"12-2010\" \"12-2010\" \"12-2010\" \"12-2010\"\n",
              "[1478] \"12-2010\" \"01-2011\" \"01-2011\" \"01-2011\" \"01-2011\" \"02-2011\" \"02-2011\"\n",
              "[1485] \"02-2011\" \"02-2011\" \"03-2011\" \"03-2011\" \"03-2011\" \"03-2011\" \"04-2011\"\n",
              "[1492] \"04-2011\" \"04-2011\" \"04-2011\" \"04-2011\" \"05-2011\" \"05-2011\" \"05-2011\"\n",
              "[1499] \"05-2011\" \"06-2011\" \"06-2011\" \"06-2011\" \"06-2011\" \"07-2011\" \"07-2011\"\n",
              "[1506] \"07-2011\" \"07-2011\" \"07-2011\" \"08-2011\" \"08-2011\" \"08-2011\" \"08-2011\"\n",
              "[1513] \"09-2011\" \"09-2011\" \"09-2011\" \"09-2011\" \"09-2011\" \"10-2011\" \"10-2011\"\n",
              "[1520] \"10-2011\" \"10-2011\" \"11-2011\" \"11-2011\" \"11-2011\" \"11-2011\" \"12-2011\"\n",
              "[1527] \"12-2011\" \"12-2011\" \"12-2011\" \"12-2011\" \"01-2012\" \"01-2012\" \"01-2012\"\n",
              "[1534] \"01-2012\" \"02-2012\" \"02-2012\" \"02-2012\" \"02-2012\" \"03-2012\" \"03-2012\"\n",
              "[1541] \"03-2012\" \"03-2012\" \"03-2012\" \"04-2012\" \"04-2012\" \"04-2012\" \"04-2012\"\n",
              "[1548] \"05-2012\" \"05-2012\" \"05-2012\" \"05-2012\" \"06-2012\" \"06-2012\" \"06-2012\"\n",
              "[1555] \"06-2012\" \"06-2012\" \"07-2012\" \"07-2012\" \"07-2012\" \"07-2012\" \"08-2012\"\n",
              "[1562] \"08-2012\" \"08-2012\" \"08-2012\" \"08-2012\" \"09-2012\" \"09-2012\" \"09-2012\"\n",
              "[1569] \"09-2012\" \"10-2012\" \"10-2012\" \"10-2012\" \"10-2012\" \"02-2010\" \"02-2010\"\n",
              "[1576] \"02-2010\" \"02-2010\" \"03-2010\" \"03-2010\" \"03-2010\" \"03-2010\" \"04-2010\"\n",
              "[1583] \"04-2010\" \"04-2010\" \"04-2010\" \"04-2010\" \"05-2010\" \"05-2010\" \"05-2010\"\n",
              "[1590] \"05-2010\" \"06-2010\" \"06-2010\" \"06-2010\" \"06-2010\" \"07-2010\" \"07-2010\"\n",
              "[1597] \"07-2010\" \"07-2010\" \"07-2010\" \"08-2010\" \"08-2010\" \"08-2010\" \"08-2010\"\n",
              "[1604] \"09-2010\" \"09-2010\" \"09-2010\" \"09-2010\" \"10-2010\" \"10-2010\" \"10-2010\"\n",
              "[1611] \"10-2010\" \"10-2010\" \"11-2010\" \"11-2010\" \"11-2010\" \"11-2010\" \"12-2010\"\n",
              "[1618] \"12-2010\" \"12-2010\" \"12-2010\" \"12-2010\" \"01-2011\" \"01-2011\" \"01-2011\"\n",
              "[1625] \"01-2011\" \"02-2011\" \"02-2011\" \"02-2011\" \"02-2011\" \"03-2011\" \"03-2011\"\n",
              "[1632] \"03-2011\" \"03-2011\" \"04-2011\" \"04-2011\" \"04-2011\" \"04-2011\" \"04-2011\"\n",
              "[1639] \"05-2011\" \"05-2011\" \"05-2011\" \"05-2011\" \"06-2011\" \"06-2011\" \"06-2011\"\n",
              "[1646] \"06-2011\" \"07-2011\" \"07-2011\" \"07-2011\" \"07-2011\" \"07-2011\" \"08-2011\"\n",
              "[1653] \"08-2011\" \"08-2011\" \"08-2011\" \"09-2011\" \"09-2011\" \"09-2011\" \"09-2011\"\n",
              "[1660] \"09-2011\" \"10-2011\" \"10-2011\" \"10-2011\" \"10-2011\" \"11-2011\" \"11-2011\"\n",
              "[1667] \"11-2011\" \"11-2011\" \"12-2011\" \"12-2011\" \"12-2011\" \"12-2011\" \"12-2011\"\n",
              "[1674] \"01-2012\" \"01-2012\" \"01-2012\" \"01-2012\" \"02-2012\" \"02-2012\" \"02-2012\"\n",
              "[1681] \"02-2012\" \"03-2012\" \"03-2012\" \"03-2012\" \"03-2012\" \"03-2012\" \"04-2012\"\n",
              "[1688] \"04-2012\" \"04-2012\" \"04-2012\" \"05-2012\" \"05-2012\" \"05-2012\" \"05-2012\"\n",
              "[1695] \"06-2012\" \"06-2012\" \"06-2012\" \"06-2012\" \"06-2012\" \"07-2012\" \"07-2012\"\n",
              "[1702] \"07-2012\" \"07-2012\" \"08-2012\" \"08-2012\" \"08-2012\" \"08-2012\" \"08-2012\"\n",
              "[1709] \"09-2012\" \"09-2012\" \"09-2012\" \"09-2012\" \"10-2012\" \"10-2012\" \"10-2012\"\n",
              "[1716] \"10-2012\" \"02-2010\" \"02-2010\" \"02-2010\" \"02-2010\" \"03-2010\" \"03-2010\"\n",
              "[1723] \"03-2010\" \"03-2010\" \"04-2010\" \"04-2010\" \"04-2010\" \"04-2010\" \"04-2010\"\n",
              "[1730] \"05-2010\" \"05-2010\" \"05-2010\" \"05-2010\" \"06-2010\" \"06-2010\" \"06-2010\"\n",
              "[1737] \"06-2010\" \"07-2010\" \"07-2010\" \"07-2010\" \"07-2010\" \"07-2010\" \"08-2010\"\n",
              "[1744] \"08-2010\" \"08-2010\" \"08-2010\" \"09-2010\" \"09-2010\" \"09-2010\" \"09-2010\"\n",
              "[1751] \"10-2010\" \"10-2010\" \"10-2010\" \"10-2010\" \"10-2010\" \"11-2010\" \"11-2010\"\n",
              "[1758] \"11-2010\" \"11-2010\" \"12-2010\" \"12-2010\" \"12-2010\" \"12-2010\" \"12-2010\"\n",
              "[1765] \"01-2011\" \"01-2011\" \"01-2011\" \"01-2011\" \"02-2011\" \"02-2011\" \"02-2011\"\n",
              "[1772] \"02-2011\" \"03-2011\" \"03-2011\" \"03-2011\" \"03-2011\" \"04-2011\" \"04-2011\"\n",
              "[1779] \"04-2011\" \"04-2011\" \"04-2011\" \"05-2011\" \"05-2011\" \"05-2011\" \"05-2011\"\n",
              "[1786] \"06-2011\" \"06-2011\" \"06-2011\" \"06-2011\" \"07-2011\" \"07-2011\" \"07-2011\"\n",
              "[1793] \"07-2011\" \"07-2011\" \"08-2011\" \"08-2011\" \"08-2011\" \"08-2011\" \"09-2011\"\n",
              "[1800] \"09-2011\" \"09-2011\" \"09-2011\" \"09-2011\" \"10-2011\" \"10-2011\" \"10-2011\"\n",
              "[1807] \"10-2011\" \"11-2011\" \"11-2011\" \"11-2011\" \"11-2011\" \"12-2011\" \"12-2011\"\n",
              "[1814] \"12-2011\" \"12-2011\" \"12-2011\" \"01-2012\" \"01-2012\" \"01-2012\" \"01-2012\"\n",
              "[1821] \"02-2012\" \"02-2012\" \"02-2012\" \"02-2012\" \"03-2012\" \"03-2012\" \"03-2012\"\n",
              "[1828] \"03-2012\" \"03-2012\" \"04-2012\" \"04-2012\" \"04-2012\" \"04-2012\" \"05-2012\"\n",
              "[1835] \"05-2012\" \"05-2012\" \"05-2012\" \"06-2012\" \"06-2012\" \"06-2012\" \"06-2012\"\n",
              "[1842] \"06-2012\" \"07-2012\" \"07-2012\" \"07-2012\" \"07-2012\" \"08-2012\" \"08-2012\"\n",
              "[1849] \"08-2012\" \"08-2012\" \"08-2012\" \"09-2012\" \"09-2012\" \"09-2012\" \"09-2012\"\n",
              "[1856] \"10-2012\" \"10-2012\" \"10-2012\" \"10-2012\" \"02-2010\" \"02-2010\" \"02-2010\"\n",
              "[1863] \"02-2010\" \"03-2010\" \"03-2010\" \"03-2010\" \"03-2010\" \"04-2010\" \"04-2010\"\n",
              "[1870] \"04-2010\" \"04-2010\" \"04-2010\" \"05-2010\" \"05-2010\" \"05-2010\" \"05-2010\"\n",
              "[1877] \"06-2010\" \"06-2010\" \"06-2010\" \"06-2010\" \"07-2010\" \"07-2010\" \"07-2010\"\n",
              "[1884] \"07-2010\" \"07-2010\" \"08-2010\" \"08-2010\" \"08-2010\" \"08-2010\" \"09-2010\"\n",
              "[1891] \"09-2010\" \"09-2010\" \"09-2010\" \"10-2010\" \"10-2010\" \"10-2010\" \"10-2010\"\n",
              "[1898] \"10-2010\" \"11-2010\" \"11-2010\" \"11-2010\" \"11-2010\" \"12-2010\" \"12-2010\"\n",
              "[1905] \"12-2010\" \"12-2010\" \"12-2010\" \"01-2011\" \"01-2011\" \"01-2011\" \"01-2011\"\n",
              "[1912] \"02-2011\" \"02-2011\" \"02-2011\" \"02-2011\" \"03-2011\" \"03-2011\" \"03-2011\"\n",
              "[1919] \"03-2011\" \"04-2011\" \"04-2011\" \"04-2011\" \"04-2011\" \"04-2011\" \"05-2011\"\n",
              "[1926] \"05-2011\" \"05-2011\" \"05-2011\" \"06-2011\" \"06-2011\" \"06-2011\" \"06-2011\"\n",
              "[1933] \"07-2011\" \"07-2011\" \"07-2011\" \"07-2011\" \"07-2011\" \"08-2011\" \"08-2011\"\n",
              "[1940] \"08-2011\" \"08-2011\" \"09-2011\" \"09-2011\" \"09-2011\" \"09-2011\" \"09-2011\"\n",
              "[1947] \"10-2011\" \"10-2011\" \"10-2011\" \"10-2011\" \"11-2011\" \"11-2011\" \"11-2011\"\n",
              "[1954] \"11-2011\" \"12-2011\" \"12-2011\" \"12-2011\" \"12-2011\" \"12-2011\" \"01-2012\"\n",
              "[1961] \"01-2012\" \"01-2012\" \"01-2012\" \"02-2012\" \"02-2012\" \"02-2012\" \"02-2012\"\n",
              "[1968] \"03-2012\" \"03-2012\" \"03-2012\" \"03-2012\" \"03-2012\" \"04-2012\" \"04-2012\"\n",
              "[1975] \"04-2012\" \"04-2012\" \"05-2012\" \"05-2012\" \"05-2012\" \"05-2012\" \"06-2012\"\n",
              "[1982] \"06-2012\" \"06-2012\" \"06-2012\" \"06-2012\" \"07-2012\" \"07-2012\" \"07-2012\"\n",
              "[1989] \"07-2012\" \"08-2012\" \"08-2012\" \"08-2012\" \"08-2012\" \"08-2012\" \"09-2012\"\n",
              "[1996] \"09-2012\" \"09-2012\" \"09-2012\" \"10-2012\" \"10-2012\" \"10-2012\" \"10-2012\"\n",
              "[2003] \"02-2010\" \"02-2010\" \"02-2010\" \"02-2010\" \"03-2010\" \"03-2010\" \"03-2010\"\n",
              "[2010] \"03-2010\" \"04-2010\" \"04-2010\" \"04-2010\" \"04-2010\" \"04-2010\" \"05-2010\"\n",
              "[2017] \"05-2010\" \"05-2010\" \"05-2010\" \"06-2010\" \"06-2010\" \"06-2010\" \"06-2010\"\n",
              "[2024] \"07-2010\" \"07-2010\" \"07-2010\" \"07-2010\" \"07-2010\" \"08-2010\" \"08-2010\"\n",
              "[2031] \"08-2010\" \"08-2010\" \"09-2010\" \"09-2010\" \"09-2010\" \"09-2010\" \"10-2010\"\n",
              "[2038] \"10-2010\" \"10-2010\" \"10-2010\" \"10-2010\" \"11-2010\" \"11-2010\" \"11-2010\"\n",
              "[2045] \"11-2010\" \"12-2010\" \"12-2010\" \"12-2010\" \"12-2010\" \"12-2010\" \"01-2011\"\n",
              "[2052] \"01-2011\" \"01-2011\" \"01-2011\" \"02-2011\" \"02-2011\" \"02-2011\" \"02-2011\"\n",
              "[2059] \"03-2011\" \"03-2011\" \"03-2011\" \"03-2011\" \"04-2011\" \"04-2011\" \"04-2011\"\n",
              "[2066] \"04-2011\" \"04-2011\" \"05-2011\" \"05-2011\" \"05-2011\" \"05-2011\" \"06-2011\"\n",
              "[2073] \"06-2011\" \"06-2011\" \"06-2011\" \"07-2011\" \"07-2011\" \"07-2011\" \"07-2011\"\n",
              "[2080] \"07-2011\" \"08-2011\" \"08-2011\" \"08-2011\" \"08-2011\" \"09-2011\" \"09-2011\"\n",
              "[2087] \"09-2011\" \"09-2011\" \"09-2011\" \"10-2011\" \"10-2011\" \"10-2011\" \"10-2011\"\n",
              "[2094] \"11-2011\" \"11-2011\" \"11-2011\" \"11-2011\" \"12-2011\" \"12-2011\" \"12-2011\"\n",
              "[2101] \"12-2011\" \"12-2011\" \"01-2012\" \"01-2012\" \"01-2012\" \"01-2012\" \"02-2012\"\n",
              "[2108] \"02-2012\" \"02-2012\" \"02-2012\" \"03-2012\" \"03-2012\" \"03-2012\" \"03-2012\"\n",
              "[2115] \"03-2012\" \"04-2012\" \"04-2012\" \"04-2012\" \"04-2012\" \"05-2012\" \"05-2012\"\n",
              "[2122] \"05-2012\" \"05-2012\" \"06-2012\" \"06-2012\" \"06-2012\" \"06-2012\" \"06-2012\"\n",
              "[2129] \"07-2012\" \"07-2012\" \"07-2012\" \"07-2012\" \"08-2012\" \"08-2012\" \"08-2012\"\n",
              "[2136] \"08-2012\" \"08-2012\" \"09-2012\" \"09-2012\" \"09-2012\" \"09-2012\" \"10-2012\"\n",
              "[2143] \"10-2012\" \"10-2012\" \"10-2012\" \"02-2010\" \"02-2010\" \"02-2010\" \"02-2010\"\n",
              "[2150] \"03-2010\" \"03-2010\" \"03-2010\" \"03-2010\" \"04-2010\" \"04-2010\" \"04-2010\"\n",
              "[2157] \"04-2010\" \"04-2010\" \"05-2010\" \"05-2010\" \"05-2010\" \"05-2010\" \"06-2010\"\n",
              "[2164] \"06-2010\" \"06-2010\" \"06-2010\" \"07-2010\" \"07-2010\" \"07-2010\" \"07-2010\"\n",
              "[2171] \"07-2010\" \"08-2010\" \"08-2010\" \"08-2010\" \"08-2010\" \"09-2010\" \"09-2010\"\n",
              "[2178] \"09-2010\" \"09-2010\" \"10-2010\" \"10-2010\" \"10-2010\" \"10-2010\" \"10-2010\"\n",
              "[2185] \"11-2010\" \"11-2010\" \"11-2010\" \"11-2010\" \"12-2010\" \"12-2010\" \"12-2010\"\n",
              "[2192] \"12-2010\" \"12-2010\" \"01-2011\" \"01-2011\" \"01-2011\" \"01-2011\" \"02-2011\"\n",
              "[2199] \"02-2011\" \"02-2011\" \"02-2011\" \"03-2011\" \"03-2011\" \"03-2011\" \"03-2011\"\n",
              "[2206] \"04-2011\" \"04-2011\" \"04-2011\" \"04-2011\" \"04-2011\" \"05-2011\" \"05-2011\"\n",
              "[2213] \"05-2011\" \"05-2011\" \"06-2011\" \"06-2011\" \"06-2011\" \"06-2011\" \"07-2011\"\n",
              "[2220] \"07-2011\" \"07-2011\" \"07-2011\" \"07-2011\" \"08-2011\" \"08-2011\" \"08-2011\"\n",
              "[2227] \"08-2011\" \"09-2011\" \"09-2011\" \"09-2011\" \"09-2011\" \"09-2011\" \"10-2011\"\n",
              "[2234] \"10-2011\" \"10-2011\" \"10-2011\" \"11-2011\" \"11-2011\" \"11-2011\" \"11-2011\"\n",
              "[2241] \"12-2011\" \"12-2011\" \"12-2011\" \"12-2011\" \"12-2011\" \"01-2012\" \"01-2012\"\n",
              "[2248] \"01-2012\" \"01-2012\" \"02-2012\" \"02-2012\" \"02-2012\" \"02-2012\" \"03-2012\"\n",
              "[2255] \"03-2012\" \"03-2012\" \"03-2012\" \"03-2012\" \"04-2012\" \"04-2012\" \"04-2012\"\n",
              "[2262] \"04-2012\" \"05-2012\" \"05-2012\" \"05-2012\" \"05-2012\" \"06-2012\" \"06-2012\"\n",
              "[2269] \"06-2012\" \"06-2012\" \"06-2012\" \"07-2012\" \"07-2012\" \"07-2012\" \"07-2012\"\n",
              "[2276] \"08-2012\" \"08-2012\" \"08-2012\" \"08-2012\" \"08-2012\" \"09-2012\" \"09-2012\"\n",
              "[2283] \"09-2012\" \"09-2012\" \"10-2012\" \"10-2012\" \"10-2012\" \"10-2012\" \"02-2010\"\n",
              "[2290] \"02-2010\" \"02-2010\" \"02-2010\" \"03-2010\" \"03-2010\" \"03-2010\" \"03-2010\"\n",
              "[2297] \"04-2010\" \"04-2010\" \"04-2010\" \"04-2010\" \"04-2010\" \"05-2010\" \"05-2010\"\n",
              "[2304] \"05-2010\" \"05-2010\" \"06-2010\" \"06-2010\" \"06-2010\" \"06-2010\" \"07-2010\"\n",
              "[2311] \"07-2010\" \"07-2010\" \"07-2010\" \"07-2010\" \"08-2010\" \"08-2010\" \"08-2010\"\n",
              "[2318] \"08-2010\" \"09-2010\" \"09-2010\" \"09-2010\" \"09-2010\" \"10-2010\" \"10-2010\"\n",
              "[2325] \"10-2010\" \"10-2010\" \"10-2010\" \"11-2010\" \"11-2010\" \"11-2010\" \"11-2010\"\n",
              "[2332] \"12-2010\" \"12-2010\" \"12-2010\" \"12-2010\" \"12-2010\" \"01-2011\" \"01-2011\"\n",
              "[2339] \"01-2011\" \"01-2011\" \"02-2011\" \"02-2011\" \"02-2011\" \"02-2011\" \"03-2011\"\n",
              "[2346] \"03-2011\" \"03-2011\" \"03-2011\" \"04-2011\" \"04-2011\" \"04-2011\" \"04-2011\"\n",
              "[2353] \"04-2011\" \"05-2011\" \"05-2011\" \"05-2011\" \"05-2011\" \"06-2011\" \"06-2011\"\n",
              "[2360] \"06-2011\" \"06-2011\" \"07-2011\" \"07-2011\" \"07-2011\" \"07-2011\" \"07-2011\"\n",
              "[2367] \"08-2011\" \"08-2011\" \"08-2011\" \"08-2011\" \"09-2011\" \"09-2011\" \"09-2011\"\n",
              "[2374] \"09-2011\" \"09-2011\" \"10-2011\" \"10-2011\" \"10-2011\" \"10-2011\" \"11-2011\"\n",
              "[2381] \"11-2011\" \"11-2011\" \"11-2011\" \"12-2011\" \"12-2011\" \"12-2011\" \"12-2011\"\n",
              "[2388] \"12-2011\" \"01-2012\" \"01-2012\" \"01-2012\" \"01-2012\" \"02-2012\" \"02-2012\"\n",
              "[2395] \"02-2012\" \"02-2012\" \"03-2012\" \"03-2012\" \"03-2012\" \"03-2012\" \"03-2012\"\n",
              "[2402] \"04-2012\" \"04-2012\" \"04-2012\" \"04-2012\" \"05-2012\" \"05-2012\" \"05-2012\"\n",
              "[2409] \"05-2012\" \"06-2012\" \"06-2012\" \"06-2012\" \"06-2012\" \"06-2012\" \"07-2012\"\n",
              "[2416] \"07-2012\" \"07-2012\" \"07-2012\" \"08-2012\" \"08-2012\" \"08-2012\" \"08-2012\"\n",
              "[2423] \"08-2012\" \"09-2012\" \"09-2012\" \"09-2012\" \"09-2012\" \"10-2012\" \"10-2012\"\n",
              "[2430] \"10-2012\" \"10-2012\" \"02-2010\" \"02-2010\" \"02-2010\" \"02-2010\" \"03-2010\"\n",
              "[2437] \"03-2010\" \"03-2010\" \"03-2010\" \"04-2010\" \"04-2010\" \"04-2010\" \"04-2010\"\n",
              "[2444] \"04-2010\" \"05-2010\" \"05-2010\" \"05-2010\" \"05-2010\" \"06-2010\" \"06-2010\"\n",
              "[2451] \"06-2010\" \"06-2010\" \"07-2010\" \"07-2010\" \"07-2010\" \"07-2010\" \"07-2010\"\n",
              "[2458] \"08-2010\" \"08-2010\" \"08-2010\" \"08-2010\" \"09-2010\" \"09-2010\" \"09-2010\"\n",
              "[2465] \"09-2010\" \"10-2010\" \"10-2010\" \"10-2010\" \"10-2010\" \"10-2010\" \"11-2010\"\n",
              "[2472] \"11-2010\" \"11-2010\" \"11-2010\" \"12-2010\" \"12-2010\" \"12-2010\" \"12-2010\"\n",
              "[2479] \"12-2010\" \"01-2011\" \"01-2011\" \"01-2011\" \"01-2011\" \"02-2011\" \"02-2011\"\n",
              "[2486] \"02-2011\" \"02-2011\" \"03-2011\" \"03-2011\" \"03-2011\" \"03-2011\" \"04-2011\"\n",
              "[2493] \"04-2011\" \"04-2011\" \"04-2011\" \"04-2011\" \"05-2011\" \"05-2011\" \"05-2011\"\n",
              "[2500] \"05-2011\" \"06-2011\" \"06-2011\" \"06-2011\" \"06-2011\" \"07-2011\" \"07-2011\"\n",
              "[2507] \"07-2011\" \"07-2011\" \"07-2011\" \"08-2011\" \"08-2011\" \"08-2011\" \"08-2011\"\n",
              "[2514] \"09-2011\" \"09-2011\" \"09-2011\" \"09-2011\" \"09-2011\" \"10-2011\" \"10-2011\"\n",
              "[2521] \"10-2011\" \"10-2011\" \"11-2011\" \"11-2011\" \"11-2011\" \"11-2011\" \"12-2011\"\n",
              "[2528] \"12-2011\" \"12-2011\" \"12-2011\" \"12-2011\" \"01-2012\" \"01-2012\" \"01-2012\"\n",
              "[2535] \"01-2012\" \"02-2012\" \"02-2012\" \"02-2012\" \"02-2012\" \"03-2012\" \"03-2012\"\n",
              "[2542] \"03-2012\" \"03-2012\" \"03-2012\" \"04-2012\" \"04-2012\" \"04-2012\" \"04-2012\"\n",
              "[2549] \"05-2012\" \"05-2012\" \"05-2012\" \"05-2012\" \"06-2012\" \"06-2012\" \"06-2012\"\n",
              "[2556] \"06-2012\" \"06-2012\" \"07-2012\" \"07-2012\" \"07-2012\" \"07-2012\" \"08-2012\"\n",
              "[2563] \"08-2012\" \"08-2012\" \"08-2012\" \"08-2012\" \"09-2012\" \"09-2012\" \"09-2012\"\n",
              "[2570] \"09-2012\" \"10-2012\" \"10-2012\" \"10-2012\" \"10-2012\" \"02-2010\" \"02-2010\"\n",
              "[2577] \"02-2010\" \"02-2010\" \"03-2010\" \"03-2010\" \"03-2010\" \"03-2010\" \"04-2010\"\n",
              "[2584] \"04-2010\" \"04-2010\" \"04-2010\" \"04-2010\" \"05-2010\" \"05-2010\" \"05-2010\"\n",
              "[2591] \"05-2010\" \"06-2010\" \"06-2010\" \"06-2010\" \"06-2010\" \"07-2010\" \"07-2010\"\n",
              "[2598] \"07-2010\" \"07-2010\" \"07-2010\" \"08-2010\" \"08-2010\" \"08-2010\" \"08-2010\"\n",
              "[2605] \"09-2010\" \"09-2010\" \"09-2010\" \"09-2010\" \"10-2010\" \"10-2010\" \"10-2010\"\n",
              "[2612] \"10-2010\" \"10-2010\" \"11-2010\" \"11-2010\" \"11-2010\" \"11-2010\" \"12-2010\"\n",
              "[2619] \"12-2010\" \"12-2010\" \"12-2010\" \"12-2010\" \"01-2011\" \"01-2011\" \"01-2011\"\n",
              "[2626] \"01-2011\" \"02-2011\" \"02-2011\" \"02-2011\" \"02-2011\" \"03-2011\" \"03-2011\"\n",
              "[2633] \"03-2011\" \"03-2011\" \"04-2011\" \"04-2011\" \"04-2011\" \"04-2011\" \"04-2011\"\n",
              "[2640] \"05-2011\" \"05-2011\" \"05-2011\" \"05-2011\" \"06-2011\" \"06-2011\" \"06-2011\"\n",
              "[2647] \"06-2011\" \"07-2011\" \"07-2011\" \"07-2011\" \"07-2011\" \"07-2011\" \"08-2011\"\n",
              "[2654] \"08-2011\" \"08-2011\" \"08-2011\" \"09-2011\" \"09-2011\" \"09-2011\" \"09-2011\"\n",
              "[2661] \"09-2011\" \"10-2011\" \"10-2011\" \"10-2011\" \"10-2011\" \"11-2011\" \"11-2011\"\n",
              "[2668] \"11-2011\" \"11-2011\" \"12-2011\" \"12-2011\" \"12-2011\" \"12-2011\" \"12-2011\"\n",
              "[2675] \"01-2012\" \"01-2012\" \"01-2012\" \"01-2012\" \"02-2012\" \"02-2012\" \"02-2012\"\n",
              "[2682] \"02-2012\" \"03-2012\" \"03-2012\" \"03-2012\" \"03-2012\" \"03-2012\" \"04-2012\"\n",
              "[2689] \"04-2012\" \"04-2012\" \"04-2012\" \"05-2012\" \"05-2012\" \"05-2012\" \"05-2012\"\n",
              "[2696] \"06-2012\" \"06-2012\" \"06-2012\" \"06-2012\" \"06-2012\" \"07-2012\" \"07-2012\"\n",
              "[2703] \"07-2012\" \"07-2012\" \"08-2012\" \"08-2012\" \"08-2012\" \"08-2012\" \"08-2012\"\n",
              "[2710] \"09-2012\" \"09-2012\" \"09-2012\" \"09-2012\" \"10-2012\" \"10-2012\" \"10-2012\"\n",
              "[2717] \"10-2012\" \"02-2010\" \"02-2010\" \"02-2010\" \"02-2010\" \"03-2010\" \"03-2010\"\n",
              "[2724] \"03-2010\" \"03-2010\" \"04-2010\" \"04-2010\" \"04-2010\" \"04-2010\" \"04-2010\"\n",
              "[2731] \"05-2010\" \"05-2010\" \"05-2010\" \"05-2010\" \"06-2010\" \"06-2010\" \"06-2010\"\n",
              "[2738] \"06-2010\" \"07-2010\" \"07-2010\" \"07-2010\" \"07-2010\" \"07-2010\" \"08-2010\"\n",
              "[2745] \"08-2010\" \"08-2010\" \"08-2010\" \"09-2010\" \"09-2010\" \"09-2010\" \"09-2010\"\n",
              "[2752] \"10-2010\" \"10-2010\" \"10-2010\" \"10-2010\" \"10-2010\" \"11-2010\" \"11-2010\"\n",
              "[2759] \"11-2010\" \"11-2010\" \"12-2010\" \"12-2010\" \"12-2010\" \"12-2010\" \"12-2010\"\n",
              "[2766] \"01-2011\" \"01-2011\" \"01-2011\" \"01-2011\" \"02-2011\" \"02-2011\" \"02-2011\"\n",
              "[2773] \"02-2011\" \"03-2011\" \"03-2011\" \"03-2011\" \"03-2011\" \"04-2011\" \"04-2011\"\n",
              "[2780] \"04-2011\" \"04-2011\" \"04-2011\" \"05-2011\" \"05-2011\" \"05-2011\" \"05-2011\"\n",
              "[2787] \"06-2011\" \"06-2011\" \"06-2011\" \"06-2011\" \"07-2011\" \"07-2011\" \"07-2011\"\n",
              "[2794] \"07-2011\" \"07-2011\" \"08-2011\" \"08-2011\" \"08-2011\" \"08-2011\" \"09-2011\"\n",
              "[2801] \"09-2011\" \"09-2011\" \"09-2011\" \"09-2011\" \"10-2011\" \"10-2011\" \"10-2011\"\n",
              "[2808] \"10-2011\" \"11-2011\" \"11-2011\" \"11-2011\" \"11-2011\" \"12-2011\" \"12-2011\"\n",
              "[2815] \"12-2011\" \"12-2011\" \"12-2011\" \"01-2012\" \"01-2012\" \"01-2012\" \"01-2012\"\n",
              "[2822] \"02-2012\" \"02-2012\" \"02-2012\" \"02-2012\" \"03-2012\" \"03-2012\" \"03-2012\"\n",
              "[2829] \"03-2012\" \"03-2012\" \"04-2012\" \"04-2012\" \"04-2012\" \"04-2012\" \"05-2012\"\n",
              "[2836] \"05-2012\" \"05-2012\" \"05-2012\" \"06-2012\" \"06-2012\" \"06-2012\" \"06-2012\"\n",
              "[2843] \"06-2012\" \"07-2012\" \"07-2012\" \"07-2012\" \"07-2012\" \"08-2012\" \"08-2012\"\n",
              "[2850] \"08-2012\" \"08-2012\" \"08-2012\" \"09-2012\" \"09-2012\" \"09-2012\" \"09-2012\"\n",
              "[2857] \"10-2012\" \"10-2012\" \"10-2012\" \"10-2012\" \"02-2010\" \"02-2010\" \"02-2010\"\n",
              "[2864] \"02-2010\" \"03-2010\" \"03-2010\" \"03-2010\" \"03-2010\" \"04-2010\" \"04-2010\"\n",
              "[2871] \"04-2010\" \"04-2010\" \"04-2010\" \"05-2010\" \"05-2010\" \"05-2010\" \"05-2010\"\n",
              "[2878] \"06-2010\" \"06-2010\" \"06-2010\" \"06-2010\" \"07-2010\" \"07-2010\" \"07-2010\"\n",
              "[2885] \"07-2010\" \"07-2010\" \"08-2010\" \"08-2010\" \"08-2010\" \"08-2010\" \"09-2010\"\n",
              "[2892] \"09-2010\" \"09-2010\" \"09-2010\" \"10-2010\" \"10-2010\" \"10-2010\" \"10-2010\"\n",
              "[2899] \"10-2010\" \"11-2010\" \"11-2010\" \"11-2010\" \"11-2010\" \"12-2010\" \"12-2010\"\n",
              "[2906] \"12-2010\" \"12-2010\" \"12-2010\" \"01-2011\" \"01-2011\" \"01-2011\" \"01-2011\"\n",
              "[2913] \"02-2011\" \"02-2011\" \"02-2011\" \"02-2011\" \"03-2011\" \"03-2011\" \"03-2011\"\n",
              "[2920] \"03-2011\" \"04-2011\" \"04-2011\" \"04-2011\" \"04-2011\" \"04-2011\" \"05-2011\"\n",
              "[2927] \"05-2011\" \"05-2011\" \"05-2011\" \"06-2011\" \"06-2011\" \"06-2011\" \"06-2011\"\n",
              "[2934] \"07-2011\" \"07-2011\" \"07-2011\" \"07-2011\" \"07-2011\" \"08-2011\" \"08-2011\"\n",
              "[2941] \"08-2011\" \"08-2011\" \"09-2011\" \"09-2011\" \"09-2011\" \"09-2011\" \"09-2011\"\n",
              "[2948] \"10-2011\" \"10-2011\" \"10-2011\" \"10-2011\" \"11-2011\" \"11-2011\" \"11-2011\"\n",
              "[2955] \"11-2011\" \"12-2011\" \"12-2011\" \"12-2011\" \"12-2011\" \"12-2011\" \"01-2012\"\n",
              "[2962] \"01-2012\" \"01-2012\" \"01-2012\" \"02-2012\" \"02-2012\" \"02-2012\" \"02-2012\"\n",
              "[2969] \"03-2012\" \"03-2012\" \"03-2012\" \"03-2012\" \"03-2012\" \"04-2012\" \"04-2012\"\n",
              "[2976] \"04-2012\" \"04-2012\" \"05-2012\" \"05-2012\" \"05-2012\" \"05-2012\" \"06-2012\"\n",
              "[2983] \"06-2012\" \"06-2012\" \"06-2012\" \"06-2012\" \"07-2012\" \"07-2012\" \"07-2012\"\n",
              "[2990] \"07-2012\" \"08-2012\" \"08-2012\" \"08-2012\" \"08-2012\" \"08-2012\" \"09-2012\"\n",
              "[2997] \"09-2012\" \"09-2012\" \"09-2012\" \"10-2012\" \"10-2012\" \"10-2012\" \"10-2012\"\n",
              "[3004] \"02-2010\" \"02-2010\" \"02-2010\" \"02-2010\" \"03-2010\" \"03-2010\" \"03-2010\"\n",
              "[3011] \"03-2010\" \"04-2010\" \"04-2010\" \"04-2010\" \"04-2010\" \"04-2010\" \"05-2010\"\n",
              "[3018] \"05-2010\" \"05-2010\" \"05-2010\" \"06-2010\" \"06-2010\" \"06-2010\" \"06-2010\"\n",
              "[3025] \"07-2010\" \"07-2010\" \"07-2010\" \"07-2010\" \"07-2010\" \"08-2010\" \"08-2010\"\n",
              "[3032] \"08-2010\" \"08-2010\" \"09-2010\" \"09-2010\" \"09-2010\" \"09-2010\" \"10-2010\"\n",
              "[3039] \"10-2010\" \"10-2010\" \"10-2010\" \"10-2010\" \"11-2010\" \"11-2010\" \"11-2010\"\n",
              "[3046] \"11-2010\" \"12-2010\" \"12-2010\" \"12-2010\" \"12-2010\" \"12-2010\" \"01-2011\"\n",
              "[3053] \"01-2011\" \"01-2011\" \"01-2011\" \"02-2011\" \"02-2011\" \"02-2011\" \"02-2011\"\n",
              "[3060] \"03-2011\" \"03-2011\" \"03-2011\" \"03-2011\" \"04-2011\" \"04-2011\" \"04-2011\"\n",
              "[3067] \"04-2011\" \"04-2011\" \"05-2011\" \"05-2011\" \"05-2011\" \"05-2011\" \"06-2011\"\n",
              "[3074] \"06-2011\" \"06-2011\" \"06-2011\" \"07-2011\" \"07-2011\" \"07-2011\" \"07-2011\"\n",
              "[3081] \"07-2011\" \"08-2011\" \"08-2011\" \"08-2011\" \"08-2011\" \"09-2011\" \"09-2011\"\n",
              "[3088] \"09-2011\" \"09-2011\" \"09-2011\" \"10-2011\" \"10-2011\" \"10-2011\" \"10-2011\"\n",
              "[3095] \"11-2011\" \"11-2011\" \"11-2011\" \"11-2011\" \"12-2011\" \"12-2011\" \"12-2011\"\n",
              "[3102] \"12-2011\" \"12-2011\" \"01-2012\" \"01-2012\" \"01-2012\" \"01-2012\" \"02-2012\"\n",
              "[3109] \"02-2012\" \"02-2012\" \"02-2012\" \"03-2012\" \"03-2012\" \"03-2012\" \"03-2012\"\n",
              "[3116] \"03-2012\" \"04-2012\" \"04-2012\" \"04-2012\" \"04-2012\" \"05-2012\" \"05-2012\"\n",
              "[3123] \"05-2012\" \"05-2012\" \"06-2012\" \"06-2012\" \"06-2012\" \"06-2012\" \"06-2012\"\n",
              "[3130] \"07-2012\" \"07-2012\" \"07-2012\" \"07-2012\" \"08-2012\" \"08-2012\" \"08-2012\"\n",
              "[3137] \"08-2012\" \"08-2012\" \"09-2012\" \"09-2012\" \"09-2012\" \"09-2012\" \"10-2012\"\n",
              "[3144] \"10-2012\" \"10-2012\" \"10-2012\" \"02-2010\" \"02-2010\" \"02-2010\" \"02-2010\"\n",
              "[3151] \"03-2010\" \"03-2010\" \"03-2010\" \"03-2010\" \"04-2010\" \"04-2010\" \"04-2010\"\n",
              "[3158] \"04-2010\" \"04-2010\" \"05-2010\" \"05-2010\" \"05-2010\" \"05-2010\" \"06-2010\"\n",
              "[3165] \"06-2010\" \"06-2010\" \"06-2010\" \"07-2010\" \"07-2010\" \"07-2010\" \"07-2010\"\n",
              "[3172] \"07-2010\" \"08-2010\" \"08-2010\" \"08-2010\" \"08-2010\" \"09-2010\" \"09-2010\"\n",
              "[3179] \"09-2010\" \"09-2010\" \"10-2010\" \"10-2010\" \"10-2010\" \"10-2010\" \"10-2010\"\n",
              "[3186] \"11-2010\" \"11-2010\" \"11-2010\" \"11-2010\" \"12-2010\" \"12-2010\" \"12-2010\"\n",
              "[3193] \"12-2010\" \"12-2010\" \"01-2011\" \"01-2011\" \"01-2011\" \"01-2011\" \"02-2011\"\n",
              "[3200] \"02-2011\" \"02-2011\" \"02-2011\" \"03-2011\" \"03-2011\" \"03-2011\" \"03-2011\"\n",
              "[3207] \"04-2011\" \"04-2011\" \"04-2011\" \"04-2011\" \"04-2011\" \"05-2011\" \"05-2011\"\n",
              "[3214] \"05-2011\" \"05-2011\" \"06-2011\" \"06-2011\" \"06-2011\" \"06-2011\" \"07-2011\"\n",
              "[3221] \"07-2011\" \"07-2011\" \"07-2011\" \"07-2011\" \"08-2011\" \"08-2011\" \"08-2011\"\n",
              "[3228] \"08-2011\" \"09-2011\" \"09-2011\" \"09-2011\" \"09-2011\" \"09-2011\" \"10-2011\"\n",
              "[3235] \"10-2011\" \"10-2011\" \"10-2011\" \"11-2011\" \"11-2011\" \"11-2011\" \"11-2011\"\n",
              "[3242] \"12-2011\" \"12-2011\" \"12-2011\" \"12-2011\" \"12-2011\" \"01-2012\" \"01-2012\"\n",
              "[3249] \"01-2012\" \"01-2012\" \"02-2012\" \"02-2012\" \"02-2012\" \"02-2012\" \"03-2012\"\n",
              "[3256] \"03-2012\" \"03-2012\" \"03-2012\" \"03-2012\" \"04-2012\" \"04-2012\" \"04-2012\"\n",
              "[3263] \"04-2012\" \"05-2012\" \"05-2012\" \"05-2012\" \"05-2012\" \"06-2012\" \"06-2012\"\n",
              "[3270] \"06-2012\" \"06-2012\" \"06-2012\" \"07-2012\" \"07-2012\" \"07-2012\" \"07-2012\"\n",
              "[3277] \"08-2012\" \"08-2012\" \"08-2012\" \"08-2012\" \"08-2012\" \"09-2012\" \"09-2012\"\n",
              "[3284] \"09-2012\" \"09-2012\" \"10-2012\" \"10-2012\" \"10-2012\" \"10-2012\" \"02-2010\"\n",
              "[3291] \"02-2010\" \"02-2010\" \"02-2010\" \"03-2010\" \"03-2010\" \"03-2010\" \"03-2010\"\n",
              "[3298] \"04-2010\" \"04-2010\" \"04-2010\" \"04-2010\" \"04-2010\" \"05-2010\" \"05-2010\"\n",
              "[3305] \"05-2010\" \"05-2010\" \"06-2010\" \"06-2010\" \"06-2010\" \"06-2010\" \"07-2010\"\n",
              "[3312] \"07-2010\" \"07-2010\" \"07-2010\" \"07-2010\" \"08-2010\" \"08-2010\" \"08-2010\"\n",
              "[3319] \"08-2010\" \"09-2010\" \"09-2010\" \"09-2010\" \"09-2010\" \"10-2010\" \"10-2010\"\n",
              "[3326] \"10-2010\" \"10-2010\" \"10-2010\" \"11-2010\" \"11-2010\" \"11-2010\" \"11-2010\"\n",
              "[3333] \"12-2010\" \"12-2010\" \"12-2010\" \"12-2010\" \"12-2010\" \"01-2011\" \"01-2011\"\n",
              "[3340] \"01-2011\" \"01-2011\" \"02-2011\" \"02-2011\" \"02-2011\" \"02-2011\" \"03-2011\"\n",
              "[3347] \"03-2011\" \"03-2011\" \"03-2011\" \"04-2011\" \"04-2011\" \"04-2011\" \"04-2011\"\n",
              "[3354] \"04-2011\" \"05-2011\" \"05-2011\" \"05-2011\" \"05-2011\" \"06-2011\" \"06-2011\"\n",
              "[3361] \"06-2011\" \"06-2011\" \"07-2011\" \"07-2011\" \"07-2011\" \"07-2011\" \"07-2011\"\n",
              "[3368] \"08-2011\" \"08-2011\" \"08-2011\" \"08-2011\" \"09-2011\" \"09-2011\" \"09-2011\"\n",
              "[3375] \"09-2011\" \"09-2011\" \"10-2011\" \"10-2011\" \"10-2011\" \"10-2011\" \"11-2011\"\n",
              "[3382] \"11-2011\" \"11-2011\" \"11-2011\" \"12-2011\" \"12-2011\" \"12-2011\" \"12-2011\"\n",
              "[3389] \"12-2011\" \"01-2012\" \"01-2012\" \"01-2012\" \"01-2012\" \"02-2012\" \"02-2012\"\n",
              "[3396] \"02-2012\" \"02-2012\" \"03-2012\" \"03-2012\" \"03-2012\" \"03-2012\" \"03-2012\"\n",
              "[3403] \"04-2012\" \"04-2012\" \"04-2012\" \"04-2012\" \"05-2012\" \"05-2012\" \"05-2012\"\n",
              "[3410] \"05-2012\" \"06-2012\" \"06-2012\" \"06-2012\" \"06-2012\" \"06-2012\" \"07-2012\"\n",
              "[3417] \"07-2012\" \"07-2012\" \"07-2012\" \"08-2012\" \"08-2012\" \"08-2012\" \"08-2012\"\n",
              "[3424] \"08-2012\" \"09-2012\" \"09-2012\" \"09-2012\" \"09-2012\" \"10-2012\" \"10-2012\"\n",
              "[3431] \"10-2012\" \"10-2012\" \"02-2010\" \"02-2010\" \"02-2010\" \"02-2010\" \"03-2010\"\n",
              "[3438] \"03-2010\" \"03-2010\" \"03-2010\" \"04-2010\" \"04-2010\" \"04-2010\" \"04-2010\"\n",
              "[3445] \"04-2010\" \"05-2010\" \"05-2010\" \"05-2010\" \"05-2010\" \"06-2010\" \"06-2010\"\n",
              "[3452] \"06-2010\" \"06-2010\" \"07-2010\" \"07-2010\" \"07-2010\" \"07-2010\" \"07-2010\"\n",
              "[3459] \"08-2010\" \"08-2010\" \"08-2010\" \"08-2010\" \"09-2010\" \"09-2010\" \"09-2010\"\n",
              "[3466] \"09-2010\" \"10-2010\" \"10-2010\" \"10-2010\" \"10-2010\" \"10-2010\" \"11-2010\"\n",
              "[3473] \"11-2010\" \"11-2010\" \"11-2010\" \"12-2010\" \"12-2010\" \"12-2010\" \"12-2010\"\n",
              "[3480] \"12-2010\" \"01-2011\" \"01-2011\" \"01-2011\" \"01-2011\" \"02-2011\" \"02-2011\"\n",
              "[3487] \"02-2011\" \"02-2011\" \"03-2011\" \"03-2011\" \"03-2011\" \"03-2011\" \"04-2011\"\n",
              "[3494] \"04-2011\" \"04-2011\" \"04-2011\" \"04-2011\" \"05-2011\" \"05-2011\" \"05-2011\"\n",
              "[3501] \"05-2011\" \"06-2011\" \"06-2011\" \"06-2011\" \"06-2011\" \"07-2011\" \"07-2011\"\n",
              "[3508] \"07-2011\" \"07-2011\" \"07-2011\" \"08-2011\" \"08-2011\" \"08-2011\" \"08-2011\"\n",
              "[3515] \"09-2011\" \"09-2011\" \"09-2011\" \"09-2011\" \"09-2011\" \"10-2011\" \"10-2011\"\n",
              "[3522] \"10-2011\" \"10-2011\" \"11-2011\" \"11-2011\" \"11-2011\" \"11-2011\" \"12-2011\"\n",
              "[3529] \"12-2011\" \"12-2011\" \"12-2011\" \"12-2011\" \"01-2012\" \"01-2012\" \"01-2012\"\n",
              "[3536] \"01-2012\" \"02-2012\" \"02-2012\" \"02-2012\" \"02-2012\" \"03-2012\" \"03-2012\"\n",
              "[3543] \"03-2012\" \"03-2012\" \"03-2012\" \"04-2012\" \"04-2012\" \"04-2012\" \"04-2012\"\n",
              "[3550] \"05-2012\" \"05-2012\" \"05-2012\" \"05-2012\" \"06-2012\" \"06-2012\" \"06-2012\"\n",
              "[3557] \"06-2012\" \"06-2012\" \"07-2012\" \"07-2012\" \"07-2012\" \"07-2012\" \"08-2012\"\n",
              "[3564] \"08-2012\" \"08-2012\" \"08-2012\" \"08-2012\" \"09-2012\" \"09-2012\" \"09-2012\"\n",
              "[3571] \"09-2012\" \"10-2012\" \"10-2012\" \"10-2012\" \"10-2012\" \"02-2010\" \"02-2010\"\n",
              "[3578] \"02-2010\" \"02-2010\" \"03-2010\" \"03-2010\" \"03-2010\" \"03-2010\" \"04-2010\"\n",
              "[3585] \"04-2010\" \"04-2010\" \"04-2010\" \"04-2010\" \"05-2010\" \"05-2010\" \"05-2010\"\n",
              "[3592] \"05-2010\" \"06-2010\" \"06-2010\" \"06-2010\" \"06-2010\" \"07-2010\" \"07-2010\"\n",
              "[3599] \"07-2010\" \"07-2010\" \"07-2010\" \"08-2010\" \"08-2010\" \"08-2010\" \"08-2010\"\n",
              "[3606] \"09-2010\" \"09-2010\" \"09-2010\" \"09-2010\" \"10-2010\" \"10-2010\" \"10-2010\"\n",
              "[3613] \"10-2010\" \"10-2010\" \"11-2010\" \"11-2010\" \"11-2010\" \"11-2010\" \"12-2010\"\n",
              "[3620] \"12-2010\" \"12-2010\" \"12-2010\" \"12-2010\" \"01-2011\" \"01-2011\" \"01-2011\"\n",
              "[3627] \"01-2011\" \"02-2011\" \"02-2011\" \"02-2011\" \"02-2011\" \"03-2011\" \"03-2011\"\n",
              "[3634] \"03-2011\" \"03-2011\" \"04-2011\" \"04-2011\" \"04-2011\" \"04-2011\" \"04-2011\"\n",
              "[3641] \"05-2011\" \"05-2011\" \"05-2011\" \"05-2011\" \"06-2011\" \"06-2011\" \"06-2011\"\n",
              "[3648] \"06-2011\" \"07-2011\" \"07-2011\" \"07-2011\" \"07-2011\" \"07-2011\" \"08-2011\"\n",
              "[3655] \"08-2011\" \"08-2011\" \"08-2011\" \"09-2011\" \"09-2011\" \"09-2011\" \"09-2011\"\n",
              "[3662] \"09-2011\" \"10-2011\" \"10-2011\" \"10-2011\" \"10-2011\" \"11-2011\" \"11-2011\"\n",
              "[3669] \"11-2011\" \"11-2011\" \"12-2011\" \"12-2011\" \"12-2011\" \"12-2011\" \"12-2011\"\n",
              "[3676] \"01-2012\" \"01-2012\" \"01-2012\" \"01-2012\" \"02-2012\" \"02-2012\" \"02-2012\"\n",
              "[3683] \"02-2012\" \"03-2012\" \"03-2012\" \"03-2012\" \"03-2012\" \"03-2012\" \"04-2012\"\n",
              "[3690] \"04-2012\" \"04-2012\" \"04-2012\" \"05-2012\" \"05-2012\" \"05-2012\" \"05-2012\"\n",
              "[3697] \"06-2012\" \"06-2012\" \"06-2012\" \"06-2012\" \"06-2012\" \"07-2012\" \"07-2012\"\n",
              "[3704] \"07-2012\" \"07-2012\" \"08-2012\" \"08-2012\" \"08-2012\" \"08-2012\" \"08-2012\"\n",
              "[3711] \"09-2012\" \"09-2012\" \"09-2012\" \"09-2012\" \"10-2012\" \"10-2012\" \"10-2012\"\n",
              "[3718] \"10-2012\" \"02-2010\" \"02-2010\" \"02-2010\" \"02-2010\" \"03-2010\" \"03-2010\"\n",
              "[3725] \"03-2010\" \"03-2010\" \"04-2010\" \"04-2010\" \"04-2010\" \"04-2010\" \"04-2010\"\n",
              "[3732] \"05-2010\" \"05-2010\" \"05-2010\" \"05-2010\" \"06-2010\" \"06-2010\" \"06-2010\"\n",
              "[3739] \"06-2010\" \"07-2010\" \"07-2010\" \"07-2010\" \"07-2010\" \"07-2010\" \"08-2010\"\n",
              "[3746] \"08-2010\" \"08-2010\" \"08-2010\" \"09-2010\" \"09-2010\" \"09-2010\" \"09-2010\"\n",
              "[3753] \"10-2010\" \"10-2010\" \"10-2010\" \"10-2010\" \"10-2010\" \"11-2010\" \"11-2010\"\n",
              "[3760] \"11-2010\" \"11-2010\" \"12-2010\" \"12-2010\" \"12-2010\" \"12-2010\" \"12-2010\"\n",
              "[3767] \"01-2011\" \"01-2011\" \"01-2011\" \"01-2011\" \"02-2011\" \"02-2011\" \"02-2011\"\n",
              "[3774] \"02-2011\" \"03-2011\" \"03-2011\" \"03-2011\" \"03-2011\" \"04-2011\" \"04-2011\"\n",
              "[3781] \"04-2011\" \"04-2011\" \"04-2011\" \"05-2011\" \"05-2011\" \"05-2011\" \"05-2011\"\n",
              "[3788] \"06-2011\" \"06-2011\" \"06-2011\" \"06-2011\" \"07-2011\" \"07-2011\" \"07-2011\"\n",
              "[3795] \"07-2011\" \"07-2011\" \"08-2011\" \"08-2011\" \"08-2011\" \"08-2011\" \"09-2011\"\n",
              "[3802] \"09-2011\" \"09-2011\" \"09-2011\" \"09-2011\" \"10-2011\" \"10-2011\" \"10-2011\"\n",
              "[3809] \"10-2011\" \"11-2011\" \"11-2011\" \"11-2011\" \"11-2011\" \"12-2011\" \"12-2011\"\n",
              "[3816] \"12-2011\" \"12-2011\" \"12-2011\" \"01-2012\" \"01-2012\" \"01-2012\" \"01-2012\"\n",
              "[3823] \"02-2012\" \"02-2012\" \"02-2012\" \"02-2012\" \"03-2012\" \"03-2012\" \"03-2012\"\n",
              "[3830] \"03-2012\" \"03-2012\" \"04-2012\" \"04-2012\" \"04-2012\" \"04-2012\" \"05-2012\"\n",
              "[3837] \"05-2012\" \"05-2012\" \"05-2012\" \"06-2012\" \"06-2012\" \"06-2012\" \"06-2012\"\n",
              "[3844] \"06-2012\" \"07-2012\" \"07-2012\" \"07-2012\" \"07-2012\" \"08-2012\" \"08-2012\"\n",
              "[3851] \"08-2012\" \"08-2012\" \"08-2012\" \"09-2012\" \"09-2012\" \"09-2012\" \"09-2012\"\n",
              "[3858] \"10-2012\" \"10-2012\" \"10-2012\" \"10-2012\" \"02-2010\" \"02-2010\" \"02-2010\"\n",
              "[3865] \"02-2010\" \"03-2010\" \"03-2010\" \"03-2010\" \"03-2010\" \"04-2010\" \"04-2010\"\n",
              "[3872] \"04-2010\" \"04-2010\" \"04-2010\" \"05-2010\" \"05-2010\" \"05-2010\" \"05-2010\"\n",
              "[3879] \"06-2010\" \"06-2010\" \"06-2010\" \"06-2010\" \"07-2010\" \"07-2010\" \"07-2010\"\n",
              "[3886] \"07-2010\" \"07-2010\" \"08-2010\" \"08-2010\" \"08-2010\" \"08-2010\" \"09-2010\"\n",
              "[3893] \"09-2010\" \"09-2010\" \"09-2010\" \"10-2010\" \"10-2010\" \"10-2010\" \"10-2010\"\n",
              "[3900] \"10-2010\" \"11-2010\" \"11-2010\" \"11-2010\" \"11-2010\" \"12-2010\" \"12-2010\"\n",
              "[3907] \"12-2010\" \"12-2010\" \"12-2010\" \"01-2011\" \"01-2011\" \"01-2011\" \"01-2011\"\n",
              "[3914] \"02-2011\" \"02-2011\" \"02-2011\" \"02-2011\" \"03-2011\" \"03-2011\" \"03-2011\"\n",
              "[3921] \"03-2011\" \"04-2011\" \"04-2011\" \"04-2011\" \"04-2011\" \"04-2011\" \"05-2011\"\n",
              "[3928] \"05-2011\" \"05-2011\" \"05-2011\" \"06-2011\" \"06-2011\" \"06-2011\" \"06-2011\"\n",
              "[3935] \"07-2011\" \"07-2011\" \"07-2011\" \"07-2011\" \"07-2011\" \"08-2011\" \"08-2011\"\n",
              "[3942] \"08-2011\" \"08-2011\" \"09-2011\" \"09-2011\" \"09-2011\" \"09-2011\" \"09-2011\"\n",
              "[3949] \"10-2011\" \"10-2011\" \"10-2011\" \"10-2011\" \"11-2011\" \"11-2011\" \"11-2011\"\n",
              "[3956] \"11-2011\" \"12-2011\" \"12-2011\" \"12-2011\" \"12-2011\" \"12-2011\" \"01-2012\"\n",
              "[3963] \"01-2012\" \"01-2012\" \"01-2012\" \"02-2012\" \"02-2012\" \"02-2012\" \"02-2012\"\n",
              "[3970] \"03-2012\" \"03-2012\" \"03-2012\" \"03-2012\" \"03-2012\" \"04-2012\" \"04-2012\"\n",
              "[3977] \"04-2012\" \"04-2012\" \"05-2012\" \"05-2012\" \"05-2012\" \"05-2012\" \"06-2012\"\n",
              "[3984] \"06-2012\" \"06-2012\" \"06-2012\" \"06-2012\" \"07-2012\" \"07-2012\" \"07-2012\"\n",
              "[3991] \"07-2012\" \"08-2012\" \"08-2012\" \"08-2012\" \"08-2012\" \"08-2012\" \"09-2012\"\n",
              "[3998] \"09-2012\" \"09-2012\" \"09-2012\" \"10-2012\" \"10-2012\" \"10-2012\" \"10-2012\"\n",
              "[4005] \"02-2010\" \"02-2010\" \"02-2010\" \"02-2010\" \"03-2010\" \"03-2010\" \"03-2010\"\n",
              "[4012] \"03-2010\" \"04-2010\" \"04-2010\" \"04-2010\" \"04-2010\" \"04-2010\" \"05-2010\"\n",
              "[4019] \"05-2010\" \"05-2010\" \"05-2010\" \"06-2010\" \"06-2010\" \"06-2010\" \"06-2010\"\n",
              "[4026] \"07-2010\" \"07-2010\" \"07-2010\" \"07-2010\" \"07-2010\" \"08-2010\" \"08-2010\"\n",
              "[4033] \"08-2010\" \"08-2010\" \"09-2010\" \"09-2010\" \"09-2010\" \"09-2010\" \"10-2010\"\n",
              "[4040] \"10-2010\" \"10-2010\" \"10-2010\" \"10-2010\" \"11-2010\" \"11-2010\" \"11-2010\"\n",
              "[4047] \"11-2010\" \"12-2010\" \"12-2010\" \"12-2010\" \"12-2010\" \"12-2010\" \"01-2011\"\n",
              "[4054] \"01-2011\" \"01-2011\" \"01-2011\" \"02-2011\" \"02-2011\" \"02-2011\" \"02-2011\"\n",
              "[4061] \"03-2011\" \"03-2011\" \"03-2011\" \"03-2011\" \"04-2011\" \"04-2011\" \"04-2011\"\n",
              "[4068] \"04-2011\" \"04-2011\" \"05-2011\" \"05-2011\" \"05-2011\" \"05-2011\" \"06-2011\"\n",
              "[4075] \"06-2011\" \"06-2011\" \"06-2011\" \"07-2011\" \"07-2011\" \"07-2011\" \"07-2011\"\n",
              "[4082] \"07-2011\" \"08-2011\" \"08-2011\" \"08-2011\" \"08-2011\" \"09-2011\" \"09-2011\"\n",
              "[4089] \"09-2011\" \"09-2011\" \"09-2011\" \"10-2011\" \"10-2011\" \"10-2011\" \"10-2011\"\n",
              "[4096] \"11-2011\" \"11-2011\" \"11-2011\" \"11-2011\" \"12-2011\" \"12-2011\" \"12-2011\"\n",
              "[4103] \"12-2011\" \"12-2011\" \"01-2012\" \"01-2012\" \"01-2012\" \"01-2012\" \"02-2012\"\n",
              "[4110] \"02-2012\" \"02-2012\" \"02-2012\" \"03-2012\" \"03-2012\" \"03-2012\" \"03-2012\"\n",
              "[4117] \"03-2012\" \"04-2012\" \"04-2012\" \"04-2012\" \"04-2012\" \"05-2012\" \"05-2012\"\n",
              "[4124] \"05-2012\" \"05-2012\" \"06-2012\" \"06-2012\" \"06-2012\" \"06-2012\" \"06-2012\"\n",
              "[4131] \"07-2012\" \"07-2012\" \"07-2012\" \"07-2012\" \"08-2012\" \"08-2012\" \"08-2012\"\n",
              "[4138] \"08-2012\" \"08-2012\" \"09-2012\" \"09-2012\" \"09-2012\" \"09-2012\" \"10-2012\"\n",
              "[4145] \"10-2012\" \"10-2012\" \"10-2012\" \"02-2010\" \"02-2010\" \"02-2010\" \"02-2010\"\n",
              "[4152] \"03-2010\" \"03-2010\" \"03-2010\" \"03-2010\" \"04-2010\" \"04-2010\" \"04-2010\"\n",
              "[4159] \"04-2010\" \"04-2010\" \"05-2010\" \"05-2010\" \"05-2010\" \"05-2010\" \"06-2010\"\n",
              "[4166] \"06-2010\" \"06-2010\" \"06-2010\" \"07-2010\" \"07-2010\" \"07-2010\" \"07-2010\"\n",
              "[4173] \"07-2010\" \"08-2010\" \"08-2010\" \"08-2010\" \"08-2010\" \"09-2010\" \"09-2010\"\n",
              "[4180] \"09-2010\" \"09-2010\" \"10-2010\" \"10-2010\" \"10-2010\" \"10-2010\" \"10-2010\"\n",
              "[4187] \"11-2010\" \"11-2010\" \"11-2010\" \"11-2010\" \"12-2010\" \"12-2010\" \"12-2010\"\n",
              "[4194] \"12-2010\" \"12-2010\" \"01-2011\" \"01-2011\" \"01-2011\" \"01-2011\" \"02-2011\"\n",
              "[4201] \"02-2011\" \"02-2011\" \"02-2011\" \"03-2011\" \"03-2011\" \"03-2011\" \"03-2011\"\n",
              "[4208] \"04-2011\" \"04-2011\" \"04-2011\" \"04-2011\" \"04-2011\" \"05-2011\" \"05-2011\"\n",
              "[4215] \"05-2011\" \"05-2011\" \"06-2011\" \"06-2011\" \"06-2011\" \"06-2011\" \"07-2011\"\n",
              "[4222] \"07-2011\" \"07-2011\" \"07-2011\" \"07-2011\" \"08-2011\" \"08-2011\" \"08-2011\"\n",
              "[4229] \"08-2011\" \"09-2011\" \"09-2011\" \"09-2011\" \"09-2011\" \"09-2011\" \"10-2011\"\n",
              "[4236] \"10-2011\" \"10-2011\" \"10-2011\" \"11-2011\" \"11-2011\" \"11-2011\" \"11-2011\"\n",
              "[4243] \"12-2011\" \"12-2011\" \"12-2011\" \"12-2011\" \"12-2011\" \"01-2012\" \"01-2012\"\n",
              "[4250] \"01-2012\" \"01-2012\" \"02-2012\" \"02-2012\" \"02-2012\" \"02-2012\" \"03-2012\"\n",
              "[4257] \"03-2012\" \"03-2012\" \"03-2012\" \"03-2012\" \"04-2012\" \"04-2012\" \"04-2012\"\n",
              "[4264] \"04-2012\" \"05-2012\" \"05-2012\" \"05-2012\" \"05-2012\" \"06-2012\" \"06-2012\"\n",
              "[4271] \"06-2012\" \"06-2012\" \"06-2012\" \"07-2012\" \"07-2012\" \"07-2012\" \"07-2012\"\n",
              "[4278] \"08-2012\" \"08-2012\" \"08-2012\" \"08-2012\" \"08-2012\" \"09-2012\" \"09-2012\"\n",
              "[4285] \"09-2012\" \"09-2012\" \"10-2012\" \"10-2012\" \"10-2012\" \"10-2012\" \"02-2010\"\n",
              "[4292] \"02-2010\" \"02-2010\" \"02-2010\" \"03-2010\" \"03-2010\" \"03-2010\" \"03-2010\"\n",
              "[4299] \"04-2010\" \"04-2010\" \"04-2010\" \"04-2010\" \"04-2010\" \"05-2010\" \"05-2010\"\n",
              "[4306] \"05-2010\" \"05-2010\" \"06-2010\" \"06-2010\" \"06-2010\" \"06-2010\" \"07-2010\"\n",
              "[4313] \"07-2010\" \"07-2010\" \"07-2010\" \"07-2010\" \"08-2010\" \"08-2010\" \"08-2010\"\n",
              "[4320] \"08-2010\" \"09-2010\" \"09-2010\" \"09-2010\" \"09-2010\" \"10-2010\" \"10-2010\"\n",
              "[4327] \"10-2010\" \"10-2010\" \"10-2010\" \"11-2010\" \"11-2010\" \"11-2010\" \"11-2010\"\n",
              "[4334] \"12-2010\" \"12-2010\" \"12-2010\" \"12-2010\" \"12-2010\" \"01-2011\" \"01-2011\"\n",
              "[4341] \"01-2011\" \"01-2011\" \"02-2011\" \"02-2011\" \"02-2011\" \"02-2011\" \"03-2011\"\n",
              "[4348] \"03-2011\" \"03-2011\" \"03-2011\" \"04-2011\" \"04-2011\" \"04-2011\" \"04-2011\"\n",
              "[4355] \"04-2011\" \"05-2011\" \"05-2011\" \"05-2011\" \"05-2011\" \"06-2011\" \"06-2011\"\n",
              "[4362] \"06-2011\" \"06-2011\" \"07-2011\" \"07-2011\" \"07-2011\" \"07-2011\" \"07-2011\"\n",
              "[4369] \"08-2011\" \"08-2011\" \"08-2011\" \"08-2011\" \"09-2011\" \"09-2011\" \"09-2011\"\n",
              "[4376] \"09-2011\" \"09-2011\" \"10-2011\" \"10-2011\" \"10-2011\" \"10-2011\" \"11-2011\"\n",
              "[4383] \"11-2011\" \"11-2011\" \"11-2011\" \"12-2011\" \"12-2011\" \"12-2011\" \"12-2011\"\n",
              "[4390] \"12-2011\" \"01-2012\" \"01-2012\" \"01-2012\" \"01-2012\" \"02-2012\" \"02-2012\"\n",
              "[4397] \"02-2012\" \"02-2012\" \"03-2012\" \"03-2012\" \"03-2012\" \"03-2012\" \"03-2012\"\n",
              "[4404] \"04-2012\" \"04-2012\" \"04-2012\" \"04-2012\" \"05-2012\" \"05-2012\" \"05-2012\"\n",
              "[4411] \"05-2012\" \"06-2012\" \"06-2012\" \"06-2012\" \"06-2012\" \"06-2012\" \"07-2012\"\n",
              "[4418] \"07-2012\" \"07-2012\" \"07-2012\" \"08-2012\" \"08-2012\" \"08-2012\" \"08-2012\"\n",
              "[4425] \"08-2012\" \"09-2012\" \"09-2012\" \"09-2012\" \"09-2012\" \"10-2012\" \"10-2012\"\n",
              "[4432] \"10-2012\" \"10-2012\" \"02-2010\" \"02-2010\" \"02-2010\" \"02-2010\" \"03-2010\"\n",
              "[4439] \"03-2010\" \"03-2010\" \"03-2010\" \"04-2010\" \"04-2010\" \"04-2010\" \"04-2010\"\n",
              "[4446] \"04-2010\" \"05-2010\" \"05-2010\" \"05-2010\" \"05-2010\" \"06-2010\" \"06-2010\"\n",
              "[4453] \"06-2010\" \"06-2010\" \"07-2010\" \"07-2010\" \"07-2010\" \"07-2010\" \"07-2010\"\n",
              "[4460] \"08-2010\" \"08-2010\" \"08-2010\" \"08-2010\" \"09-2010\" \"09-2010\" \"09-2010\"\n",
              "[4467] \"09-2010\" \"10-2010\" \"10-2010\" \"10-2010\" \"10-2010\" \"10-2010\" \"11-2010\"\n",
              "[4474] \"11-2010\" \"11-2010\" \"11-2010\" \"12-2010\" \"12-2010\" \"12-2010\" \"12-2010\"\n",
              "[4481] \"12-2010\" \"01-2011\" \"01-2011\" \"01-2011\" \"01-2011\" \"02-2011\" \"02-2011\"\n",
              "[4488] \"02-2011\" \"02-2011\" \"03-2011\" \"03-2011\" \"03-2011\" \"03-2011\" \"04-2011\"\n",
              "[4495] \"04-2011\" \"04-2011\" \"04-2011\" \"04-2011\" \"05-2011\" \"05-2011\" \"05-2011\"\n",
              "[4502] \"05-2011\" \"06-2011\" \"06-2011\" \"06-2011\" \"06-2011\" \"07-2011\" \"07-2011\"\n",
              "[4509] \"07-2011\" \"07-2011\" \"07-2011\" \"08-2011\" \"08-2011\" \"08-2011\" \"08-2011\"\n",
              "[4516] \"09-2011\" \"09-2011\" \"09-2011\" \"09-2011\" \"09-2011\" \"10-2011\" \"10-2011\"\n",
              "[4523] \"10-2011\" \"10-2011\" \"11-2011\" \"11-2011\" \"11-2011\" \"11-2011\" \"12-2011\"\n",
              "[4530] \"12-2011\" \"12-2011\" \"12-2011\" \"12-2011\" \"01-2012\" \"01-2012\" \"01-2012\"\n",
              "[4537] \"01-2012\" \"02-2012\" \"02-2012\" \"02-2012\" \"02-2012\" \"03-2012\" \"03-2012\"\n",
              "[4544] \"03-2012\" \"03-2012\" \"03-2012\" \"04-2012\" \"04-2012\" \"04-2012\" \"04-2012\"\n",
              "[4551] \"05-2012\" \"05-2012\" \"05-2012\" \"05-2012\" \"06-2012\" \"06-2012\" \"06-2012\"\n",
              "[4558] \"06-2012\" \"06-2012\" \"07-2012\" \"07-2012\" \"07-2012\" \"07-2012\" \"08-2012\"\n",
              "[4565] \"08-2012\" \"08-2012\" \"08-2012\" \"08-2012\" \"09-2012\" \"09-2012\" \"09-2012\"\n",
              "[4572] \"09-2012\" \"10-2012\" \"10-2012\" \"10-2012\" \"10-2012\" \"02-2010\" \"02-2010\"\n",
              "[4579] \"02-2010\" \"02-2010\" \"03-2010\" \"03-2010\" \"03-2010\" \"03-2010\" \"04-2010\"\n",
              "[4586] \"04-2010\" \"04-2010\" \"04-2010\" \"04-2010\" \"05-2010\" \"05-2010\" \"05-2010\"\n",
              "[4593] \"05-2010\" \"06-2010\" \"06-2010\" \"06-2010\" \"06-2010\" \"07-2010\" \"07-2010\"\n",
              "[4600] \"07-2010\" \"07-2010\" \"07-2010\" \"08-2010\" \"08-2010\" \"08-2010\" \"08-2010\"\n",
              "[4607] \"09-2010\" \"09-2010\" \"09-2010\" \"09-2010\" \"10-2010\" \"10-2010\" \"10-2010\"\n",
              "[4614] \"10-2010\" \"10-2010\" \"11-2010\" \"11-2010\" \"11-2010\" \"11-2010\" \"12-2010\"\n",
              "[4621] \"12-2010\" \"12-2010\" \"12-2010\" \"12-2010\" \"01-2011\" \"01-2011\" \"01-2011\"\n",
              "[4628] \"01-2011\" \"02-2011\" \"02-2011\" \"02-2011\" \"02-2011\" \"03-2011\" \"03-2011\"\n",
              "[4635] \"03-2011\" \"03-2011\" \"04-2011\" \"04-2011\" \"04-2011\" \"04-2011\" \"04-2011\"\n",
              "[4642] \"05-2011\" \"05-2011\" \"05-2011\" \"05-2011\" \"06-2011\" \"06-2011\" \"06-2011\"\n",
              "[4649] \"06-2011\" \"07-2011\" \"07-2011\" \"07-2011\" \"07-2011\" \"07-2011\" \"08-2011\"\n",
              "[4656] \"08-2011\" \"08-2011\" \"08-2011\" \"09-2011\" \"09-2011\" \"09-2011\" \"09-2011\"\n",
              "[4663] \"09-2011\" \"10-2011\" \"10-2011\" \"10-2011\" \"10-2011\" \"11-2011\" \"11-2011\"\n",
              "[4670] \"11-2011\" \"11-2011\" \"12-2011\" \"12-2011\" \"12-2011\" \"12-2011\" \"12-2011\"\n",
              "[4677] \"01-2012\" \"01-2012\" \"01-2012\" \"01-2012\" \"02-2012\" \"02-2012\" \"02-2012\"\n",
              "[4684] \"02-2012\" \"03-2012\" \"03-2012\" \"03-2012\" \"03-2012\" \"03-2012\" \"04-2012\"\n",
              "[4691] \"04-2012\" \"04-2012\" \"04-2012\" \"05-2012\" \"05-2012\" \"05-2012\" \"05-2012\"\n",
              "[4698] \"06-2012\" \"06-2012\" \"06-2012\" \"06-2012\" \"06-2012\" \"07-2012\" \"07-2012\"\n",
              "[4705] \"07-2012\" \"07-2012\" \"08-2012\" \"08-2012\" \"08-2012\" \"08-2012\" \"08-2012\"\n",
              "[4712] \"09-2012\" \"09-2012\" \"09-2012\" \"09-2012\" \"10-2012\" \"10-2012\" \"10-2012\"\n",
              "[4719] \"10-2012\" \"02-2010\" \"02-2010\" \"02-2010\" \"02-2010\" \"03-2010\" \"03-2010\"\n",
              "[4726] \"03-2010\" \"03-2010\" \"04-2010\" \"04-2010\" \"04-2010\" \"04-2010\" \"04-2010\"\n",
              "[4733] \"05-2010\" \"05-2010\" \"05-2010\" \"05-2010\" \"06-2010\" \"06-2010\" \"06-2010\"\n",
              "[4740] \"06-2010\" \"07-2010\" \"07-2010\" \"07-2010\" \"07-2010\" \"07-2010\" \"08-2010\"\n",
              "[4747] \"08-2010\" \"08-2010\" \"08-2010\" \"09-2010\" \"09-2010\" \"09-2010\" \"09-2010\"\n",
              "[4754] \"10-2010\" \"10-2010\" \"10-2010\" \"10-2010\" \"10-2010\" \"11-2010\" \"11-2010\"\n",
              "[4761] \"11-2010\" \"11-2010\" \"12-2010\" \"12-2010\" \"12-2010\" \"12-2010\" \"12-2010\"\n",
              "[4768] \"01-2011\" \"01-2011\" \"01-2011\" \"01-2011\" \"02-2011\" \"02-2011\" \"02-2011\"\n",
              "[4775] \"02-2011\" \"03-2011\" \"03-2011\" \"03-2011\" \"03-2011\" \"04-2011\" \"04-2011\"\n",
              "[4782] \"04-2011\" \"04-2011\" \"04-2011\" \"05-2011\" \"05-2011\" \"05-2011\" \"05-2011\"\n",
              "[4789] \"06-2011\" \"06-2011\" \"06-2011\" \"06-2011\" \"07-2011\" \"07-2011\" \"07-2011\"\n",
              "[4796] \"07-2011\" \"07-2011\" \"08-2011\" \"08-2011\" \"08-2011\" \"08-2011\" \"09-2011\"\n",
              "[4803] \"09-2011\" \"09-2011\" \"09-2011\" \"09-2011\" \"10-2011\" \"10-2011\" \"10-2011\"\n",
              "[4810] \"10-2011\" \"11-2011\" \"11-2011\" \"11-2011\" \"11-2011\" \"12-2011\" \"12-2011\"\n",
              "[4817] \"12-2011\" \"12-2011\" \"12-2011\" \"01-2012\" \"01-2012\" \"01-2012\" \"01-2012\"\n",
              "[4824] \"02-2012\" \"02-2012\" \"02-2012\" \"02-2012\" \"03-2012\" \"03-2012\" \"03-2012\"\n",
              "[4831] \"03-2012\" \"03-2012\" \"04-2012\" \"04-2012\" \"04-2012\" \"04-2012\" \"05-2012\"\n",
              "[4838] \"05-2012\" \"05-2012\" \"05-2012\" \"06-2012\" \"06-2012\" \"06-2012\" \"06-2012\"\n",
              "[4845] \"06-2012\" \"07-2012\" \"07-2012\" \"07-2012\" \"07-2012\" \"08-2012\" \"08-2012\"\n",
              "[4852] \"08-2012\" \"08-2012\" \"08-2012\" \"09-2012\" \"09-2012\" \"09-2012\" \"09-2012\"\n",
              "[4859] \"10-2012\" \"10-2012\" \"10-2012\" \"10-2012\" \"02-2010\" \"02-2010\" \"02-2010\"\n",
              "[4866] \"02-2010\" \"03-2010\" \"03-2010\" \"03-2010\" \"03-2010\" \"04-2010\" \"04-2010\"\n",
              "[4873] \"04-2010\" \"04-2010\" \"04-2010\" \"05-2010\" \"05-2010\" \"05-2010\" \"05-2010\"\n",
              "[4880] \"06-2010\" \"06-2010\" \"06-2010\" \"06-2010\" \"07-2010\" \"07-2010\" \"07-2010\"\n",
              "[4887] \"07-2010\" \"07-2010\" \"08-2010\" \"08-2010\" \"08-2010\" \"08-2010\" \"09-2010\"\n",
              "[4894] \"09-2010\" \"09-2010\" \"09-2010\" \"10-2010\" \"10-2010\" \"10-2010\" \"10-2010\"\n",
              "[4901] \"10-2010\" \"11-2010\" \"11-2010\" \"11-2010\" \"11-2010\" \"12-2010\" \"12-2010\"\n",
              "[4908] \"12-2010\" \"12-2010\" \"12-2010\" \"01-2011\" \"01-2011\" \"01-2011\" \"01-2011\"\n",
              "[4915] \"02-2011\" \"02-2011\" \"02-2011\" \"02-2011\" \"03-2011\" \"03-2011\" \"03-2011\"\n",
              "[4922] \"03-2011\" \"04-2011\" \"04-2011\" \"04-2011\" \"04-2011\" \"04-2011\" \"05-2011\"\n",
              "[4929] \"05-2011\" \"05-2011\" \"05-2011\" \"06-2011\" \"06-2011\" \"06-2011\" \"06-2011\"\n",
              "[4936] \"07-2011\" \"07-2011\" \"07-2011\" \"07-2011\" \"07-2011\" \"08-2011\" \"08-2011\"\n",
              "[4943] \"08-2011\" \"08-2011\" \"09-2011\" \"09-2011\" \"09-2011\" \"09-2011\" \"09-2011\"\n",
              "[4950] \"10-2011\" \"10-2011\" \"10-2011\" \"10-2011\" \"11-2011\" \"11-2011\" \"11-2011\"\n",
              "[4957] \"11-2011\" \"12-2011\" \"12-2011\" \"12-2011\" \"12-2011\" \"12-2011\" \"01-2012\"\n",
              "[4964] \"01-2012\" \"01-2012\" \"01-2012\" \"02-2012\" \"02-2012\" \"02-2012\" \"02-2012\"\n",
              "[4971] \"03-2012\" \"03-2012\" \"03-2012\" \"03-2012\" \"03-2012\" \"04-2012\" \"04-2012\"\n",
              "[4978] \"04-2012\" \"04-2012\" \"05-2012\" \"05-2012\" \"05-2012\" \"05-2012\" \"06-2012\"\n",
              "[4985] \"06-2012\" \"06-2012\" \"06-2012\" \"06-2012\" \"07-2012\" \"07-2012\" \"07-2012\"\n",
              "[4992] \"07-2012\" \"08-2012\" \"08-2012\" \"08-2012\" \"08-2012\" \"08-2012\" \"09-2012\"\n",
              "[4999] \"09-2012\" \"09-2012\" \"09-2012\" \"10-2012\" \"10-2012\" \"10-2012\" \"10-2012\"\n",
              "[5006] \"02-2010\" \"02-2010\" \"02-2010\" \"02-2010\" \"03-2010\" \"03-2010\" \"03-2010\"\n",
              "[5013] \"03-2010\" \"04-2010\" \"04-2010\" \"04-2010\" \"04-2010\" \"04-2010\" \"05-2010\"\n",
              "[5020] \"05-2010\" \"05-2010\" \"05-2010\" \"06-2010\" \"06-2010\" \"06-2010\" \"06-2010\"\n",
              "[5027] \"07-2010\" \"07-2010\" \"07-2010\" \"07-2010\" \"07-2010\" \"08-2010\" \"08-2010\"\n",
              "[5034] \"08-2010\" \"08-2010\" \"09-2010\" \"09-2010\" \"09-2010\" \"09-2010\" \"10-2010\"\n",
              "[5041] \"10-2010\" \"10-2010\" \"10-2010\" \"10-2010\" \"11-2010\" \"11-2010\" \"11-2010\"\n",
              "[5048] \"11-2010\" \"12-2010\" \"12-2010\" \"12-2010\" \"12-2010\" \"12-2010\" \"01-2011\"\n",
              "[5055] \"01-2011\" \"01-2011\" \"01-2011\" \"02-2011\" \"02-2011\" \"02-2011\" \"02-2011\"\n",
              "[5062] \"03-2011\" \"03-2011\" \"03-2011\" \"03-2011\" \"04-2011\" \"04-2011\" \"04-2011\"\n",
              "[5069] \"04-2011\" \"04-2011\" \"05-2011\" \"05-2011\" \"05-2011\" \"05-2011\" \"06-2011\"\n",
              "[5076] \"06-2011\" \"06-2011\" \"06-2011\" \"07-2011\" \"07-2011\" \"07-2011\" \"07-2011\"\n",
              "[5083] \"07-2011\" \"08-2011\" \"08-2011\" \"08-2011\" \"08-2011\" \"09-2011\" \"09-2011\"\n",
              "[5090] \"09-2011\" \"09-2011\" \"09-2011\" \"10-2011\" \"10-2011\" \"10-2011\" \"10-2011\"\n",
              "[5097] \"11-2011\" \"11-2011\" \"11-2011\" \"11-2011\" \"12-2011\" \"12-2011\" \"12-2011\"\n",
              "[5104] \"12-2011\" \"12-2011\" \"01-2012\" \"01-2012\" \"01-2012\" \"01-2012\" \"02-2012\"\n",
              "[5111] \"02-2012\" \"02-2012\" \"02-2012\" \"03-2012\" \"03-2012\" \"03-2012\" \"03-2012\"\n",
              "[5118] \"03-2012\" \"04-2012\" \"04-2012\" \"04-2012\" \"04-2012\" \"05-2012\" \"05-2012\"\n",
              "[5125] \"05-2012\" \"05-2012\" \"06-2012\" \"06-2012\" \"06-2012\" \"06-2012\" \"06-2012\"\n",
              "[5132] \"07-2012\" \"07-2012\" \"07-2012\" \"07-2012\" \"08-2012\" \"08-2012\" \"08-2012\"\n",
              "[5139] \"08-2012\" \"08-2012\" \"09-2012\" \"09-2012\" \"09-2012\" \"09-2012\" \"10-2012\"\n",
              "[5146] \"10-2012\" \"10-2012\" \"10-2012\" \"02-2010\" \"02-2010\" \"02-2010\" \"02-2010\"\n",
              "[5153] \"03-2010\" \"03-2010\" \"03-2010\" \"03-2010\" \"04-2010\" \"04-2010\" \"04-2010\"\n",
              "[5160] \"04-2010\" \"04-2010\" \"05-2010\" \"05-2010\" \"05-2010\" \"05-2010\" \"06-2010\"\n",
              "[5167] \"06-2010\" \"06-2010\" \"06-2010\" \"07-2010\" \"07-2010\" \"07-2010\" \"07-2010\"\n",
              "[5174] \"07-2010\" \"08-2010\" \"08-2010\" \"08-2010\" \"08-2010\" \"09-2010\" \"09-2010\"\n",
              "[5181] \"09-2010\" \"09-2010\" \"10-2010\" \"10-2010\" \"10-2010\" \"10-2010\" \"10-2010\"\n",
              "[5188] \"11-2010\" \"11-2010\" \"11-2010\" \"11-2010\" \"12-2010\" \"12-2010\" \"12-2010\"\n",
              "[5195] \"12-2010\" \"12-2010\" \"01-2011\" \"01-2011\" \"01-2011\" \"01-2011\" \"02-2011\"\n",
              "[5202] \"02-2011\" \"02-2011\" \"02-2011\" \"03-2011\" \"03-2011\" \"03-2011\" \"03-2011\"\n",
              "[5209] \"04-2011\" \"04-2011\" \"04-2011\" \"04-2011\" \"04-2011\" \"05-2011\" \"05-2011\"\n",
              "[5216] \"05-2011\" \"05-2011\" \"06-2011\" \"06-2011\" \"06-2011\" \"06-2011\" \"07-2011\"\n",
              "[5223] \"07-2011\" \"07-2011\" \"07-2011\" \"07-2011\" \"08-2011\" \"08-2011\" \"08-2011\"\n",
              "[5230] \"08-2011\" \"09-2011\" \"09-2011\" \"09-2011\" \"09-2011\" \"09-2011\" \"10-2011\"\n",
              "[5237] \"10-2011\" \"10-2011\" \"10-2011\" \"11-2011\" \"11-2011\" \"11-2011\" \"11-2011\"\n",
              "[5244] \"12-2011\" \"12-2011\" \"12-2011\" \"12-2011\" \"12-2011\" \"01-2012\" \"01-2012\"\n",
              "[5251] \"01-2012\" \"01-2012\" \"02-2012\" \"02-2012\" \"02-2012\" \"02-2012\" \"03-2012\"\n",
              "[5258] \"03-2012\" \"03-2012\" \"03-2012\" \"03-2012\" \"04-2012\" \"04-2012\" \"04-2012\"\n",
              "[5265] \"04-2012\" \"05-2012\" \"05-2012\" \"05-2012\" \"05-2012\" \"06-2012\" \"06-2012\"\n",
              "[5272] \"06-2012\" \"06-2012\" \"06-2012\" \"07-2012\" \"07-2012\" \"07-2012\" \"07-2012\"\n",
              "[5279] \"08-2012\" \"08-2012\" \"08-2012\" \"08-2012\" \"08-2012\" \"09-2012\" \"09-2012\"\n",
              "[5286] \"09-2012\" \"09-2012\" \"10-2012\" \"10-2012\" \"10-2012\" \"10-2012\" \"02-2010\"\n",
              "[5293] \"02-2010\" \"02-2010\" \"02-2010\" \"03-2010\" \"03-2010\" \"03-2010\" \"03-2010\"\n",
              "[5300] \"04-2010\" \"04-2010\" \"04-2010\" \"04-2010\" \"04-2010\" \"05-2010\" \"05-2010\"\n",
              "[5307] \"05-2010\" \"05-2010\" \"06-2010\" \"06-2010\" \"06-2010\" \"06-2010\" \"07-2010\"\n",
              "[5314] \"07-2010\" \"07-2010\" \"07-2010\" \"07-2010\" \"08-2010\" \"08-2010\" \"08-2010\"\n",
              "[5321] \"08-2010\" \"09-2010\" \"09-2010\" \"09-2010\" \"09-2010\" \"10-2010\" \"10-2010\"\n",
              "[5328] \"10-2010\" \"10-2010\" \"10-2010\" \"11-2010\" \"11-2010\" \"11-2010\" \"11-2010\"\n",
              "[5335] \"12-2010\" \"12-2010\" \"12-2010\" \"12-2010\" \"12-2010\" \"01-2011\" \"01-2011\"\n",
              "[5342] \"01-2011\" \"01-2011\" \"02-2011\" \"02-2011\" \"02-2011\" \"02-2011\" \"03-2011\"\n",
              "[5349] \"03-2011\" \"03-2011\" \"03-2011\" \"04-2011\" \"04-2011\" \"04-2011\" \"04-2011\"\n",
              "[5356] \"04-2011\" \"05-2011\" \"05-2011\" \"05-2011\" \"05-2011\" \"06-2011\" \"06-2011\"\n",
              "[5363] \"06-2011\" \"06-2011\" \"07-2011\" \"07-2011\" \"07-2011\" \"07-2011\" \"07-2011\"\n",
              "[5370] \"08-2011\" \"08-2011\" \"08-2011\" \"08-2011\" \"09-2011\" \"09-2011\" \"09-2011\"\n",
              "[5377] \"09-2011\" \"09-2011\" \"10-2011\" \"10-2011\" \"10-2011\" \"10-2011\" \"11-2011\"\n",
              "[5384] \"11-2011\" \"11-2011\" \"11-2011\" \"12-2011\" \"12-2011\" \"12-2011\" \"12-2011\"\n",
              "[5391] \"12-2011\" \"01-2012\" \"01-2012\" \"01-2012\" \"01-2012\" \"02-2012\" \"02-2012\"\n",
              "[5398] \"02-2012\" \"02-2012\" \"03-2012\" \"03-2012\" \"03-2012\" \"03-2012\" \"03-2012\"\n",
              "[5405] \"04-2012\" \"04-2012\" \"04-2012\" \"04-2012\" \"05-2012\" \"05-2012\" \"05-2012\"\n",
              "[5412] \"05-2012\" \"06-2012\" \"06-2012\" \"06-2012\" \"06-2012\" \"06-2012\" \"07-2012\"\n",
              "[5419] \"07-2012\" \"07-2012\" \"07-2012\" \"08-2012\" \"08-2012\" \"08-2012\" \"08-2012\"\n",
              "[5426] \"08-2012\" \"09-2012\" \"09-2012\" \"09-2012\" \"09-2012\" \"10-2012\" \"10-2012\"\n",
              "[5433] \"10-2012\" \"10-2012\" \"02-2010\" \"02-2010\" \"02-2010\" \"02-2010\" \"03-2010\"\n",
              "[5440] \"03-2010\" \"03-2010\" \"03-2010\" \"04-2010\" \"04-2010\" \"04-2010\" \"04-2010\"\n",
              "[5447] \"04-2010\" \"05-2010\" \"05-2010\" \"05-2010\" \"05-2010\" \"06-2010\" \"06-2010\"\n",
              "[5454] \"06-2010\" \"06-2010\" \"07-2010\" \"07-2010\" \"07-2010\" \"07-2010\" \"07-2010\"\n",
              "[5461] \"08-2010\" \"08-2010\" \"08-2010\" \"08-2010\" \"09-2010\" \"09-2010\" \"09-2010\"\n",
              "[5468] \"09-2010\" \"10-2010\" \"10-2010\" \"10-2010\" \"10-2010\" \"10-2010\" \"11-2010\"\n",
              "[5475] \"11-2010\" \"11-2010\" \"11-2010\" \"12-2010\" \"12-2010\" \"12-2010\" \"12-2010\"\n",
              "[5482] \"12-2010\" \"01-2011\" \"01-2011\" \"01-2011\" \"01-2011\" \"02-2011\" \"02-2011\"\n",
              "[5489] \"02-2011\" \"02-2011\" \"03-2011\" \"03-2011\" \"03-2011\" \"03-2011\" \"04-2011\"\n",
              "[5496] \"04-2011\" \"04-2011\" \"04-2011\" \"04-2011\" \"05-2011\" \"05-2011\" \"05-2011\"\n",
              "[5503] \"05-2011\" \"06-2011\" \"06-2011\" \"06-2011\" \"06-2011\" \"07-2011\" \"07-2011\"\n",
              "[5510] \"07-2011\" \"07-2011\" \"07-2011\" \"08-2011\" \"08-2011\" \"08-2011\" \"08-2011\"\n",
              "[5517] \"09-2011\" \"09-2011\" \"09-2011\" \"09-2011\" \"09-2011\" \"10-2011\" \"10-2011\"\n",
              "[5524] \"10-2011\" \"10-2011\" \"11-2011\" \"11-2011\" \"11-2011\" \"11-2011\" \"12-2011\"\n",
              "[5531] \"12-2011\" \"12-2011\" \"12-2011\" \"12-2011\" \"01-2012\" \"01-2012\" \"01-2012\"\n",
              "[5538] \"01-2012\" \"02-2012\" \"02-2012\" \"02-2012\" \"02-2012\" \"03-2012\" \"03-2012\"\n",
              "[5545] \"03-2012\" \"03-2012\" \"03-2012\" \"04-2012\" \"04-2012\" \"04-2012\" \"04-2012\"\n",
              "[5552] \"05-2012\" \"05-2012\" \"05-2012\" \"05-2012\" \"06-2012\" \"06-2012\" \"06-2012\"\n",
              "[5559] \"06-2012\" \"06-2012\" \"07-2012\" \"07-2012\" \"07-2012\" \"07-2012\" \"08-2012\"\n",
              "[5566] \"08-2012\" \"08-2012\" \"08-2012\" \"08-2012\" \"09-2012\" \"09-2012\" \"09-2012\"\n",
              "[5573] \"09-2012\" \"10-2012\" \"10-2012\" \"10-2012\" \"10-2012\" \"02-2010\" \"02-2010\"\n",
              "[5580] \"02-2010\" \"02-2010\" \"03-2010\" \"03-2010\" \"03-2010\" \"03-2010\" \"04-2010\"\n",
              "[5587] \"04-2010\" \"04-2010\" \"04-2010\" \"04-2010\" \"05-2010\" \"05-2010\" \"05-2010\"\n",
              "[5594] \"05-2010\" \"06-2010\" \"06-2010\" \"06-2010\" \"06-2010\" \"07-2010\" \"07-2010\"\n",
              "[5601] \"07-2010\" \"07-2010\" \"07-2010\" \"08-2010\" \"08-2010\" \"08-2010\" \"08-2010\"\n",
              "[5608] \"09-2010\" \"09-2010\" \"09-2010\" \"09-2010\" \"10-2010\" \"10-2010\" \"10-2010\"\n",
              "[5615] \"10-2010\" \"10-2010\" \"11-2010\" \"11-2010\" \"11-2010\" \"11-2010\" \"12-2010\"\n",
              "[5622] \"12-2010\" \"12-2010\" \"12-2010\" \"12-2010\" \"01-2011\" \"01-2011\" \"01-2011\"\n",
              "[5629] \"01-2011\" \"02-2011\" \"02-2011\" \"02-2011\" \"02-2011\" \"03-2011\" \"03-2011\"\n",
              "[5636] \"03-2011\" \"03-2011\" \"04-2011\" \"04-2011\" \"04-2011\" \"04-2011\" \"04-2011\"\n",
              "[5643] \"05-2011\" \"05-2011\" \"05-2011\" \"05-2011\" \"06-2011\" \"06-2011\" \"06-2011\"\n",
              "[5650] \"06-2011\" \"07-2011\" \"07-2011\" \"07-2011\" \"07-2011\" \"07-2011\" \"08-2011\"\n",
              "[5657] \"08-2011\" \"08-2011\" \"08-2011\" \"09-2011\" \"09-2011\" \"09-2011\" \"09-2011\"\n",
              "[5664] \"09-2011\" \"10-2011\" \"10-2011\" \"10-2011\" \"10-2011\" \"11-2011\" \"11-2011\"\n",
              "[5671] \"11-2011\" \"11-2011\" \"12-2011\" \"12-2011\" \"12-2011\" \"12-2011\" \"12-2011\"\n",
              "[5678] \"01-2012\" \"01-2012\" \"01-2012\" \"01-2012\" \"02-2012\" \"02-2012\" \"02-2012\"\n",
              "[5685] \"02-2012\" \"03-2012\" \"03-2012\" \"03-2012\" \"03-2012\" \"03-2012\" \"04-2012\"\n",
              "[5692] \"04-2012\" \"04-2012\" \"04-2012\" \"05-2012\" \"05-2012\" \"05-2012\" \"05-2012\"\n",
              "[5699] \"06-2012\" \"06-2012\" \"06-2012\" \"06-2012\" \"06-2012\" \"07-2012\" \"07-2012\"\n",
              "[5706] \"07-2012\" \"07-2012\" \"08-2012\" \"08-2012\" \"08-2012\" \"08-2012\" \"08-2012\"\n",
              "[5713] \"09-2012\" \"09-2012\" \"09-2012\" \"09-2012\" \"10-2012\" \"10-2012\" \"10-2012\"\n",
              "[5720] \"10-2012\" \"02-2010\" \"02-2010\" \"02-2010\" \"02-2010\" \"03-2010\" \"03-2010\"\n",
              "[5727] \"03-2010\" \"03-2010\" \"04-2010\" \"04-2010\" \"04-2010\" \"04-2010\" \"04-2010\"\n",
              "[5734] \"05-2010\" \"05-2010\" \"05-2010\" \"05-2010\" \"06-2010\" \"06-2010\" \"06-2010\"\n",
              "[5741] \"06-2010\" \"07-2010\" \"07-2010\" \"07-2010\" \"07-2010\" \"07-2010\" \"08-2010\"\n",
              "[5748] \"08-2010\" \"08-2010\" \"08-2010\" \"09-2010\" \"09-2010\" \"09-2010\" \"09-2010\"\n",
              "[5755] \"10-2010\" \"10-2010\" \"10-2010\" \"10-2010\" \"10-2010\" \"11-2010\" \"11-2010\"\n",
              "[5762] \"11-2010\" \"11-2010\" \"12-2010\" \"12-2010\" \"12-2010\" \"12-2010\" \"12-2010\"\n",
              "[5769] \"01-2011\" \"01-2011\" \"01-2011\" \"01-2011\" \"02-2011\" \"02-2011\" \"02-2011\"\n",
              "[5776] \"02-2011\" \"03-2011\" \"03-2011\" \"03-2011\" \"03-2011\" \"04-2011\" \"04-2011\"\n",
              "[5783] \"04-2011\" \"04-2011\" \"04-2011\" \"05-2011\" \"05-2011\" \"05-2011\" \"05-2011\"\n",
              "[5790] \"06-2011\" \"06-2011\" \"06-2011\" \"06-2011\" \"07-2011\" \"07-2011\" \"07-2011\"\n",
              "[5797] \"07-2011\" \"07-2011\" \"08-2011\" \"08-2011\" \"08-2011\" \"08-2011\" \"09-2011\"\n",
              "[5804] \"09-2011\" \"09-2011\" \"09-2011\" \"09-2011\" \"10-2011\" \"10-2011\" \"10-2011\"\n",
              "[5811] \"10-2011\" \"11-2011\" \"11-2011\" \"11-2011\" \"11-2011\" \"12-2011\" \"12-2011\"\n",
              "[5818] \"12-2011\" \"12-2011\" \"12-2011\" \"01-2012\" \"01-2012\" \"01-2012\" \"01-2012\"\n",
              "[5825] \"02-2012\" \"02-2012\" \"02-2012\" \"02-2012\" \"03-2012\" \"03-2012\" \"03-2012\"\n",
              "[5832] \"03-2012\" \"03-2012\" \"04-2012\" \"04-2012\" \"04-2012\" \"04-2012\" \"05-2012\"\n",
              "[5839] \"05-2012\" \"05-2012\" \"05-2012\" \"06-2012\" \"06-2012\" \"06-2012\" \"06-2012\"\n",
              "[5846] \"06-2012\" \"07-2012\" \"07-2012\" \"07-2012\" \"07-2012\" \"08-2012\" \"08-2012\"\n",
              "[5853] \"08-2012\" \"08-2012\" \"08-2012\" \"09-2012\" \"09-2012\" \"09-2012\" \"09-2012\"\n",
              "[5860] \"10-2012\" \"10-2012\" \"10-2012\" \"10-2012\" \"02-2010\" \"02-2010\" \"02-2010\"\n",
              "[5867] \"02-2010\" \"03-2010\" \"03-2010\" \"03-2010\" \"03-2010\" \"04-2010\" \"04-2010\"\n",
              "[5874] \"04-2010\" \"04-2010\" \"04-2010\" \"05-2010\" \"05-2010\" \"05-2010\" \"05-2010\"\n",
              "[5881] \"06-2010\" \"06-2010\" \"06-2010\" \"06-2010\" \"07-2010\" \"07-2010\" \"07-2010\"\n",
              "[5888] \"07-2010\" \"07-2010\" \"08-2010\" \"08-2010\" \"08-2010\" \"08-2010\" \"09-2010\"\n",
              "[5895] \"09-2010\" \"09-2010\" \"09-2010\" \"10-2010\" \"10-2010\" \"10-2010\" \"10-2010\"\n",
              "[5902] \"10-2010\" \"11-2010\" \"11-2010\" \"11-2010\" \"11-2010\" \"12-2010\" \"12-2010\"\n",
              "[5909] \"12-2010\" \"12-2010\" \"12-2010\" \"01-2011\" \"01-2011\" \"01-2011\" \"01-2011\"\n",
              "[5916] \"02-2011\" \"02-2011\" \"02-2011\" \"02-2011\" \"03-2011\" \"03-2011\" \"03-2011\"\n",
              "[5923] \"03-2011\" \"04-2011\" \"04-2011\" \"04-2011\" \"04-2011\" \"04-2011\" \"05-2011\"\n",
              "[5930] \"05-2011\" \"05-2011\" \"05-2011\" \"06-2011\" \"06-2011\" \"06-2011\" \"06-2011\"\n",
              "[5937] \"07-2011\" \"07-2011\" \"07-2011\" \"07-2011\" \"07-2011\" \"08-2011\" \"08-2011\"\n",
              "[5944] \"08-2011\" \"08-2011\" \"09-2011\" \"09-2011\" \"09-2011\" \"09-2011\" \"09-2011\"\n",
              "[5951] \"10-2011\" \"10-2011\" \"10-2011\" \"10-2011\" \"11-2011\" \"11-2011\" \"11-2011\"\n",
              "[5958] \"11-2011\" \"12-2011\" \"12-2011\" \"12-2011\" \"12-2011\" \"12-2011\" \"01-2012\"\n",
              "[5965] \"01-2012\" \"01-2012\" \"01-2012\" \"02-2012\" \"02-2012\" \"02-2012\" \"02-2012\"\n",
              "[5972] \"03-2012\" \"03-2012\" \"03-2012\" \"03-2012\" \"03-2012\" \"04-2012\" \"04-2012\"\n",
              "[5979] \"04-2012\" \"04-2012\" \"05-2012\" \"05-2012\" \"05-2012\" \"05-2012\" \"06-2012\"\n",
              "[5986] \"06-2012\" \"06-2012\" \"06-2012\" \"06-2012\" \"07-2012\" \"07-2012\" \"07-2012\"\n",
              "[5993] \"07-2012\" \"08-2012\" \"08-2012\" \"08-2012\" \"08-2012\" \"08-2012\" \"09-2012\"\n",
              "[6000] \"09-2012\" \"09-2012\" \"09-2012\" \"10-2012\" \"10-2012\" \"10-2012\" \"10-2012\"\n",
              "[6007] \"02-2010\" \"02-2010\" \"02-2010\" \"02-2010\" \"03-2010\" \"03-2010\" \"03-2010\"\n",
              "[6014] \"03-2010\" \"04-2010\" \"04-2010\" \"04-2010\" \"04-2010\" \"04-2010\" \"05-2010\"\n",
              "[6021] \"05-2010\" \"05-2010\" \"05-2010\" \"06-2010\" \"06-2010\" \"06-2010\" \"06-2010\"\n",
              "[6028] \"07-2010\" \"07-2010\" \"07-2010\" \"07-2010\" \"07-2010\" \"08-2010\" \"08-2010\"\n",
              "[6035] \"08-2010\" \"08-2010\" \"09-2010\" \"09-2010\" \"09-2010\" \"09-2010\" \"10-2010\"\n",
              "[6042] \"10-2010\" \"10-2010\" \"10-2010\" \"10-2010\" \"11-2010\" \"11-2010\" \"11-2010\"\n",
              "[6049] \"11-2010\" \"12-2010\" \"12-2010\" \"12-2010\" \"12-2010\" \"12-2010\" \"01-2011\"\n",
              "[6056] \"01-2011\" \"01-2011\" \"01-2011\" \"02-2011\" \"02-2011\" \"02-2011\" \"02-2011\"\n",
              "[6063] \"03-2011\" \"03-2011\" \"03-2011\" \"03-2011\" \"04-2011\" \"04-2011\" \"04-2011\"\n",
              "[6070] \"04-2011\" \"04-2011\" \"05-2011\" \"05-2011\" \"05-2011\" \"05-2011\" \"06-2011\"\n",
              "[6077] \"06-2011\" \"06-2011\" \"06-2011\" \"07-2011\" \"07-2011\" \"07-2011\" \"07-2011\"\n",
              "[6084] \"07-2011\" \"08-2011\" \"08-2011\" \"08-2011\" \"08-2011\" \"09-2011\" \"09-2011\"\n",
              "[6091] \"09-2011\" \"09-2011\" \"09-2011\" \"10-2011\" \"10-2011\" \"10-2011\" \"10-2011\"\n",
              "[6098] \"11-2011\" \"11-2011\" \"11-2011\" \"11-2011\" \"12-2011\" \"12-2011\" \"12-2011\"\n",
              "[6105] \"12-2011\" \"12-2011\" \"01-2012\" \"01-2012\" \"01-2012\" \"01-2012\" \"02-2012\"\n",
              "[6112] \"02-2012\" \"02-2012\" \"02-2012\" \"03-2012\" \"03-2012\" \"03-2012\" \"03-2012\"\n",
              "[6119] \"03-2012\" \"04-2012\" \"04-2012\" \"04-2012\" \"04-2012\" \"05-2012\" \"05-2012\"\n",
              "[6126] \"05-2012\" \"05-2012\" \"06-2012\" \"06-2012\" \"06-2012\" \"06-2012\" \"06-2012\"\n",
              "[6133] \"07-2012\" \"07-2012\" \"07-2012\" \"07-2012\" \"08-2012\" \"08-2012\" \"08-2012\"\n",
              "[6140] \"08-2012\" \"08-2012\" \"09-2012\" \"09-2012\" \"09-2012\" \"09-2012\" \"10-2012\"\n",
              "[6147] \"10-2012\" \"10-2012\" \"10-2012\" \"02-2010\" \"02-2010\" \"02-2010\" \"02-2010\"\n",
              "[6154] \"03-2010\" \"03-2010\" \"03-2010\" \"03-2010\" \"04-2010\" \"04-2010\" \"04-2010\"\n",
              "[6161] \"04-2010\" \"04-2010\" \"05-2010\" \"05-2010\" \"05-2010\" \"05-2010\" \"06-2010\"\n",
              "[6168] \"06-2010\" \"06-2010\" \"06-2010\" \"07-2010\" \"07-2010\" \"07-2010\" \"07-2010\"\n",
              "[6175] \"07-2010\" \"08-2010\" \"08-2010\" \"08-2010\" \"08-2010\" \"09-2010\" \"09-2010\"\n",
              "[6182] \"09-2010\" \"09-2010\" \"10-2010\" \"10-2010\" \"10-2010\" \"10-2010\" \"10-2010\"\n",
              "[6189] \"11-2010\" \"11-2010\" \"11-2010\" \"11-2010\" \"12-2010\" \"12-2010\" \"12-2010\"\n",
              "[6196] \"12-2010\" \"12-2010\" \"01-2011\" \"01-2011\" \"01-2011\" \"01-2011\" \"02-2011\"\n",
              "[6203] \"02-2011\" \"02-2011\" \"02-2011\" \"03-2011\" \"03-2011\" \"03-2011\" \"03-2011\"\n",
              "[6210] \"04-2011\" \"04-2011\" \"04-2011\" \"04-2011\" \"04-2011\" \"05-2011\" \"05-2011\"\n",
              "[6217] \"05-2011\" \"05-2011\" \"06-2011\" \"06-2011\" \"06-2011\" \"06-2011\" \"07-2011\"\n",
              "[6224] \"07-2011\" \"07-2011\" \"07-2011\" \"07-2011\" \"08-2011\" \"08-2011\" \"08-2011\"\n",
              "[6231] \"08-2011\" \"09-2011\" \"09-2011\" \"09-2011\" \"09-2011\" \"09-2011\" \"10-2011\"\n",
              "[6238] \"10-2011\" \"10-2011\" \"10-2011\" \"11-2011\" \"11-2011\" \"11-2011\" \"11-2011\"\n",
              "[6245] \"12-2011\" \"12-2011\" \"12-2011\" \"12-2011\" \"12-2011\" \"01-2012\" \"01-2012\"\n",
              "[6252] \"01-2012\" \"01-2012\" \"02-2012\" \"02-2012\" \"02-2012\" \"02-2012\" \"03-2012\"\n",
              "[6259] \"03-2012\" \"03-2012\" \"03-2012\" \"03-2012\" \"04-2012\" \"04-2012\" \"04-2012\"\n",
              "[6266] \"04-2012\" \"05-2012\" \"05-2012\" \"05-2012\" \"05-2012\" \"06-2012\" \"06-2012\"\n",
              "[6273] \"06-2012\" \"06-2012\" \"06-2012\" \"07-2012\" \"07-2012\" \"07-2012\" \"07-2012\"\n",
              "[6280] \"08-2012\" \"08-2012\" \"08-2012\" \"08-2012\" \"08-2012\" \"09-2012\" \"09-2012\"\n",
              "[6287] \"09-2012\" \"09-2012\" \"10-2012\" \"10-2012\" \"10-2012\" \"10-2012\" \"02-2010\"\n",
              "[6294] \"02-2010\" \"02-2010\" \"02-2010\" \"03-2010\" \"03-2010\" \"03-2010\" \"03-2010\"\n",
              "[6301] \"04-2010\" \"04-2010\" \"04-2010\" \"04-2010\" \"04-2010\" \"05-2010\" \"05-2010\"\n",
              "[6308] \"05-2010\" \"05-2010\" \"06-2010\" \"06-2010\" \"06-2010\" \"06-2010\" \"07-2010\"\n",
              "[6315] \"07-2010\" \"07-2010\" \"07-2010\" \"07-2010\" \"08-2010\" \"08-2010\" \"08-2010\"\n",
              "[6322] \"08-2010\" \"09-2010\" \"09-2010\" \"09-2010\" \"09-2010\" \"10-2010\" \"10-2010\"\n",
              "[6329] \"10-2010\" \"10-2010\" \"10-2010\" \"11-2010\" \"11-2010\" \"11-2010\" \"11-2010\"\n",
              "[6336] \"12-2010\" \"12-2010\" \"12-2010\" \"12-2010\" \"12-2010\" \"01-2011\" \"01-2011\"\n",
              "[6343] \"01-2011\" \"01-2011\" \"02-2011\" \"02-2011\" \"02-2011\" \"02-2011\" \"03-2011\"\n",
              "[6350] \"03-2011\" \"03-2011\" \"03-2011\" \"04-2011\" \"04-2011\" \"04-2011\" \"04-2011\"\n",
              "[6357] \"04-2011\" \"05-2011\" \"05-2011\" \"05-2011\" \"05-2011\" \"06-2011\" \"06-2011\"\n",
              "[6364] \"06-2011\" \"06-2011\" \"07-2011\" \"07-2011\" \"07-2011\" \"07-2011\" \"07-2011\"\n",
              "[6371] \"08-2011\" \"08-2011\" \"08-2011\" \"08-2011\" \"09-2011\" \"09-2011\" \"09-2011\"\n",
              "[6378] \"09-2011\" \"09-2011\" \"10-2011\" \"10-2011\" \"10-2011\" \"10-2011\" \"11-2011\"\n",
              "[6385] \"11-2011\" \"11-2011\" \"11-2011\" \"12-2011\" \"12-2011\" \"12-2011\" \"12-2011\"\n",
              "[6392] \"12-2011\" \"01-2012\" \"01-2012\" \"01-2012\" \"01-2012\" \"02-2012\" \"02-2012\"\n",
              "[6399] \"02-2012\" \"02-2012\" \"03-2012\" \"03-2012\" \"03-2012\" \"03-2012\" \"03-2012\"\n",
              "[6406] \"04-2012\" \"04-2012\" \"04-2012\" \"04-2012\" \"05-2012\" \"05-2012\" \"05-2012\"\n",
              "[6413] \"05-2012\" \"06-2012\" \"06-2012\" \"06-2012\" \"06-2012\" \"06-2012\" \"07-2012\"\n",
              "[6420] \"07-2012\" \"07-2012\" \"07-2012\" \"08-2012\" \"08-2012\" \"08-2012\" \"08-2012\"\n",
              "[6427] \"08-2012\" \"09-2012\" \"09-2012\" \"09-2012\" \"09-2012\" \"10-2012\" \"10-2012\"\n",
              "[6434] \"10-2012\" \"10-2012\""
            ]
          },
          "metadata": {}
        }
      ]
    },
    {
      "cell_type": "code",
      "source": [
        "Q3_2012<-filter(df2,month_Year==\"07-2012\" | month_Year==\"08-2012\" | month_Year==\"09-2012\")\n",
        "Q2_2012<-filter(df2,month_Year==\"04-2012\" | month_Year==\"05-2012\" | month_Year==\"06-2012\")"
      ],
      "metadata": {
        "id": "VuWnlz7LRSiV"
      },
      "execution_count": 25,
      "outputs": []
    },
    {
      "cell_type": "code",
      "source": [
        "Q3_2012_Sales<-summarise(group_by(Q3_2012, Store), sum(Weekly_Sales))\n",
        "Q3_2012_Sales"
      ],
      "metadata": {
        "colab": {
          "base_uri": "https://localhost:8080/",
          "height": 1000
        },
        "id": "g1KAvizpRSk_",
        "outputId": "16415856-b74b-455f-bd48-288365426603"
      },
      "execution_count": 26,
      "outputs": [
        {
          "output_type": "display_data",
          "data": {
            "text/html": [
              "<table class=\"dataframe\">\n",
              "<caption>A tibble: 45 × 2</caption>\n",
              "<thead>\n",
              "\t<tr><th scope=col>Store</th><th scope=col>sum(Weekly_Sales)</th></tr>\n",
              "\t<tr><th scope=col>&lt;fct&gt;</th><th scope=col>&lt;dbl&gt;</th></tr>\n",
              "</thead>\n",
              "<tbody>\n",
              "\t<tr><td>1 </td><td>20253948</td></tr>\n",
              "\t<tr><td>2 </td><td>24303355</td></tr>\n",
              "\t<tr><td>3 </td><td> 5298005</td></tr>\n",
              "\t<tr><td>4 </td><td>27796792</td></tr>\n",
              "\t<tr><td>5 </td><td> 4163791</td></tr>\n",
              "\t<tr><td>6 </td><td>20167312</td></tr>\n",
              "\t<tr><td>7 </td><td> 8262787</td></tr>\n",
              "\t<tr><td>8 </td><td>11748953</td></tr>\n",
              "\t<tr><td>9 </td><td> 7022150</td></tr>\n",
              "\t<tr><td>10</td><td>23037259</td></tr>\n",
              "\t<tr><td>11</td><td>17516081</td></tr>\n",
              "\t<tr><td>12</td><td>12536324</td></tr>\n",
              "\t<tr><td>13</td><td>26421259</td></tr>\n",
              "\t<tr><td>14</td><td>21187561</td></tr>\n",
              "\t<tr><td>15</td><td> 7612081</td></tr>\n",
              "\t<tr><td>16</td><td> 7121542</td></tr>\n",
              "\t<tr><td>17</td><td>12459453</td></tr>\n",
              "\t<tr><td>18</td><td>13489765</td></tr>\n",
              "\t<tr><td>19</td><td>18203555</td></tr>\n",
              "\t<tr><td>20</td><td>26891527</td></tr>\n",
              "\t<tr><td>21</td><td> 9027599</td></tr>\n",
              "\t<tr><td>22</td><td>12845140</td></tr>\n",
              "\t<tr><td>23</td><td>18641489</td></tr>\n",
              "\t<tr><td>24</td><td>17976378</td></tr>\n",
              "\t<tr><td>25</td><td> 9109082</td></tr>\n",
              "\t<tr><td>26</td><td>13675692</td></tr>\n",
              "\t<tr><td>27</td><td>22307711</td></tr>\n",
              "\t<tr><td>28</td><td>16080705</td></tr>\n",
              "\t<tr><td>29</td><td> 6671234</td></tr>\n",
              "\t<tr><td>30</td><td> 5594702</td></tr>\n",
              "\t<tr><td>31</td><td>17806714</td></tr>\n",
              "\t<tr><td>32</td><td>15396529</td></tr>\n",
              "\t<tr><td>33</td><td> 3433620</td></tr>\n",
              "\t<tr><td>34</td><td>12485996</td></tr>\n",
              "\t<tr><td>35</td><td>11322421</td></tr>\n",
              "\t<tr><td>36</td><td> 3831692</td></tr>\n",
              "\t<tr><td>37</td><td> 6728068</td></tr>\n",
              "\t<tr><td>38</td><td> 5605482</td></tr>\n",
              "\t<tr><td>39</td><td>20715116</td></tr>\n",
              "\t<tr><td>40</td><td>12873195</td></tr>\n",
              "\t<tr><td>41</td><td>18093844</td></tr>\n",
              "\t<tr><td>42</td><td> 7296759</td></tr>\n",
              "\t<tr><td>43</td><td> 8000572</td></tr>\n",
              "\t<tr><td>44</td><td> 4411251</td></tr>\n",
              "\t<tr><td>45</td><td> 9581268</td></tr>\n",
              "</tbody>\n",
              "</table>\n"
            ],
            "text/markdown": "\nA tibble: 45 × 2\n\n| Store &lt;fct&gt; | sum(Weekly_Sales) &lt;dbl&gt; |\n|---|---|\n| 1  | 20253948 |\n| 2  | 24303355 |\n| 3  |  5298005 |\n| 4  | 27796792 |\n| 5  |  4163791 |\n| 6  | 20167312 |\n| 7  |  8262787 |\n| 8  | 11748953 |\n| 9  |  7022150 |\n| 10 | 23037259 |\n| 11 | 17516081 |\n| 12 | 12536324 |\n| 13 | 26421259 |\n| 14 | 21187561 |\n| 15 |  7612081 |\n| 16 |  7121542 |\n| 17 | 12459453 |\n| 18 | 13489765 |\n| 19 | 18203555 |\n| 20 | 26891527 |\n| 21 |  9027599 |\n| 22 | 12845140 |\n| 23 | 18641489 |\n| 24 | 17976378 |\n| 25 |  9109082 |\n| 26 | 13675692 |\n| 27 | 22307711 |\n| 28 | 16080705 |\n| 29 |  6671234 |\n| 30 |  5594702 |\n| 31 | 17806714 |\n| 32 | 15396529 |\n| 33 |  3433620 |\n| 34 | 12485996 |\n| 35 | 11322421 |\n| 36 |  3831692 |\n| 37 |  6728068 |\n| 38 |  5605482 |\n| 39 | 20715116 |\n| 40 | 12873195 |\n| 41 | 18093844 |\n| 42 |  7296759 |\n| 43 |  8000572 |\n| 44 |  4411251 |\n| 45 |  9581268 |\n\n",
            "text/latex": "A tibble: 45 × 2\n\\begin{tabular}{ll}\n Store & sum(Weekly\\_Sales)\\\\\n <fct> & <dbl>\\\\\n\\hline\n\t 1  & 20253948\\\\\n\t 2  & 24303355\\\\\n\t 3  &  5298005\\\\\n\t 4  & 27796792\\\\\n\t 5  &  4163791\\\\\n\t 6  & 20167312\\\\\n\t 7  &  8262787\\\\\n\t 8  & 11748953\\\\\n\t 9  &  7022150\\\\\n\t 10 & 23037259\\\\\n\t 11 & 17516081\\\\\n\t 12 & 12536324\\\\\n\t 13 & 26421259\\\\\n\t 14 & 21187561\\\\\n\t 15 &  7612081\\\\\n\t 16 &  7121542\\\\\n\t 17 & 12459453\\\\\n\t 18 & 13489765\\\\\n\t 19 & 18203555\\\\\n\t 20 & 26891527\\\\\n\t 21 &  9027599\\\\\n\t 22 & 12845140\\\\\n\t 23 & 18641489\\\\\n\t 24 & 17976378\\\\\n\t 25 &  9109082\\\\\n\t 26 & 13675692\\\\\n\t 27 & 22307711\\\\\n\t 28 & 16080705\\\\\n\t 29 &  6671234\\\\\n\t 30 &  5594702\\\\\n\t 31 & 17806714\\\\\n\t 32 & 15396529\\\\\n\t 33 &  3433620\\\\\n\t 34 & 12485996\\\\\n\t 35 & 11322421\\\\\n\t 36 &  3831692\\\\\n\t 37 &  6728068\\\\\n\t 38 &  5605482\\\\\n\t 39 & 20715116\\\\\n\t 40 & 12873195\\\\\n\t 41 & 18093844\\\\\n\t 42 &  7296759\\\\\n\t 43 &  8000572\\\\\n\t 44 &  4411251\\\\\n\t 45 &  9581268\\\\\n\\end{tabular}\n",
            "text/plain": [
              "   Store sum(Weekly_Sales)\n",
              "1  1     20253948         \n",
              "2  2     24303355         \n",
              "3  3      5298005         \n",
              "4  4     27796792         \n",
              "5  5      4163791         \n",
              "6  6     20167312         \n",
              "7  7      8262787         \n",
              "8  8     11748953         \n",
              "9  9      7022150         \n",
              "10 10    23037259         \n",
              "11 11    17516081         \n",
              "12 12    12536324         \n",
              "13 13    26421259         \n",
              "14 14    21187561         \n",
              "15 15     7612081         \n",
              "16 16     7121542         \n",
              "17 17    12459453         \n",
              "18 18    13489765         \n",
              "19 19    18203555         \n",
              "20 20    26891527         \n",
              "21 21     9027599         \n",
              "22 22    12845140         \n",
              "23 23    18641489         \n",
              "24 24    17976378         \n",
              "25 25     9109082         \n",
              "26 26    13675692         \n",
              "27 27    22307711         \n",
              "28 28    16080705         \n",
              "29 29     6671234         \n",
              "30 30     5594702         \n",
              "31 31    17806714         \n",
              "32 32    15396529         \n",
              "33 33     3433620         \n",
              "34 34    12485996         \n",
              "35 35    11322421         \n",
              "36 36     3831692         \n",
              "37 37     6728068         \n",
              "38 38     5605482         \n",
              "39 39    20715116         \n",
              "40 40    12873195         \n",
              "41 41    18093844         \n",
              "42 42     7296759         \n",
              "43 43     8000572         \n",
              "44 44     4411251         \n",
              "45 45     9581268         "
            ]
          },
          "metadata": {}
        }
      ]
    },
    {
      "cell_type": "code",
      "source": [
        "colnames(Q3_2012_Sales)[2]<-\"Q3_2012_Sales_by_Store\""
      ],
      "metadata": {
        "id": "JiSCF_hCRSnq"
      },
      "execution_count": 27,
      "outputs": []
    },
    {
      "cell_type": "code",
      "source": [
        "Q2_2012_Sales<-summarise(group_by(Q2_2012, Store), sum(Weekly_Sales))\n",
        "Q2_2012_Sales"
      ],
      "metadata": {
        "colab": {
          "base_uri": "https://localhost:8080/",
          "height": 1000
        },
        "id": "zPTNj8gvRSqS",
        "outputId": "7ebc28fd-df14-4d93-f1ab-307e602a97f9"
      },
      "execution_count": 28,
      "outputs": [
        {
          "output_type": "display_data",
          "data": {
            "text/html": [
              "<table class=\"dataframe\">\n",
              "<caption>A tibble: 45 × 2</caption>\n",
              "<thead>\n",
              "\t<tr><th scope=col>Store</th><th scope=col>sum(Weekly_Sales)</th></tr>\n",
              "\t<tr><th scope=col>&lt;fct&gt;</th><th scope=col>&lt;dbl&gt;</th></tr>\n",
              "</thead>\n",
              "<tbody>\n",
              "\t<tr><td>1 </td><td>20978760</td></tr>\n",
              "\t<tr><td>2 </td><td>25083605</td></tr>\n",
              "\t<tr><td>3 </td><td> 5620316</td></tr>\n",
              "\t<tr><td>4 </td><td>28454364</td></tr>\n",
              "\t<tr><td>5 </td><td> 4466364</td></tr>\n",
              "\t<tr><td>6 </td><td>20833910</td></tr>\n",
              "\t<tr><td>7 </td><td> 7290859</td></tr>\n",
              "\t<tr><td>8 </td><td>11919631</td></tr>\n",
              "\t<tr><td>9 </td><td> 7484935</td></tr>\n",
              "\t<tr><td>10</td><td>23750369</td></tr>\n",
              "\t<tr><td>11</td><td>17787372</td></tr>\n",
              "\t<tr><td>12</td><td>13362389</td></tr>\n",
              "\t<tr><td>13</td><td>27009207</td></tr>\n",
              "\t<tr><td>14</td><td>25155535</td></tr>\n",
              "\t<tr><td>15</td><td> 7955243</td></tr>\n",
              "\t<tr><td>16</td><td> 6564336</td></tr>\n",
              "\t<tr><td>17</td><td>12592401</td></tr>\n",
              "\t<tr><td>18</td><td>13896195</td></tr>\n",
              "\t<tr><td>19</td><td>18367300</td></tr>\n",
              "\t<tr><td>20</td><td>27524197</td></tr>\n",
              "\t<tr><td>21</td><td> 9294596</td></tr>\n",
              "\t<tr><td>22</td><td>13487894</td></tr>\n",
              "\t<tr><td>23</td><td>18488883</td></tr>\n",
              "\t<tr><td>24</td><td>17684219</td></tr>\n",
              "\t<tr><td>25</td><td> 9323012</td></tr>\n",
              "\t<tr><td>26</td><td>13155336</td></tr>\n",
              "\t<tr><td>27</td><td>22744013</td></tr>\n",
              "\t<tr><td>28</td><td>16506893</td></tr>\n",
              "\t<tr><td>29</td><td> 7125308</td></tr>\n",
              "\t<tr><td>30</td><td> 5742314</td></tr>\n",
              "\t<tr><td>31</td><td>18267238</td></tr>\n",
              "\t<tr><td>32</td><td>15489271</td></tr>\n",
              "\t<tr><td>33</td><td> 3549000</td></tr>\n",
              "\t<tr><td>34</td><td>12853618</td></tr>\n",
              "\t<tr><td>35</td><td>10838313</td></tr>\n",
              "\t<tr><td>36</td><td> 4151992</td></tr>\n",
              "\t<tr><td>37</td><td> 6824549</td></tr>\n",
              "\t<tr><td>38</td><td> 5637919</td></tr>\n",
              "\t<tr><td>39</td><td>20214128</td></tr>\n",
              "\t<tr><td>40</td><td>12727738</td></tr>\n",
              "\t<tr><td>41</td><td>17659943</td></tr>\n",
              "\t<tr><td>42</td><td> 7568239</td></tr>\n",
              "\t<tr><td>43</td><td> 8168836</td></tr>\n",
              "\t<tr><td>44</td><td> 4306406</td></tr>\n",
              "\t<tr><td>45</td><td>10390768</td></tr>\n",
              "</tbody>\n",
              "</table>\n"
            ],
            "text/markdown": "\nA tibble: 45 × 2\n\n| Store &lt;fct&gt; | sum(Weekly_Sales) &lt;dbl&gt; |\n|---|---|\n| 1  | 20978760 |\n| 2  | 25083605 |\n| 3  |  5620316 |\n| 4  | 28454364 |\n| 5  |  4466364 |\n| 6  | 20833910 |\n| 7  |  7290859 |\n| 8  | 11919631 |\n| 9  |  7484935 |\n| 10 | 23750369 |\n| 11 | 17787372 |\n| 12 | 13362389 |\n| 13 | 27009207 |\n| 14 | 25155535 |\n| 15 |  7955243 |\n| 16 |  6564336 |\n| 17 | 12592401 |\n| 18 | 13896195 |\n| 19 | 18367300 |\n| 20 | 27524197 |\n| 21 |  9294596 |\n| 22 | 13487894 |\n| 23 | 18488883 |\n| 24 | 17684219 |\n| 25 |  9323012 |\n| 26 | 13155336 |\n| 27 | 22744013 |\n| 28 | 16506893 |\n| 29 |  7125308 |\n| 30 |  5742314 |\n| 31 | 18267238 |\n| 32 | 15489271 |\n| 33 |  3549000 |\n| 34 | 12853618 |\n| 35 | 10838313 |\n| 36 |  4151992 |\n| 37 |  6824549 |\n| 38 |  5637919 |\n| 39 | 20214128 |\n| 40 | 12727738 |\n| 41 | 17659943 |\n| 42 |  7568239 |\n| 43 |  8168836 |\n| 44 |  4306406 |\n| 45 | 10390768 |\n\n",
            "text/latex": "A tibble: 45 × 2\n\\begin{tabular}{ll}\n Store & sum(Weekly\\_Sales)\\\\\n <fct> & <dbl>\\\\\n\\hline\n\t 1  & 20978760\\\\\n\t 2  & 25083605\\\\\n\t 3  &  5620316\\\\\n\t 4  & 28454364\\\\\n\t 5  &  4466364\\\\\n\t 6  & 20833910\\\\\n\t 7  &  7290859\\\\\n\t 8  & 11919631\\\\\n\t 9  &  7484935\\\\\n\t 10 & 23750369\\\\\n\t 11 & 17787372\\\\\n\t 12 & 13362389\\\\\n\t 13 & 27009207\\\\\n\t 14 & 25155535\\\\\n\t 15 &  7955243\\\\\n\t 16 &  6564336\\\\\n\t 17 & 12592401\\\\\n\t 18 & 13896195\\\\\n\t 19 & 18367300\\\\\n\t 20 & 27524197\\\\\n\t 21 &  9294596\\\\\n\t 22 & 13487894\\\\\n\t 23 & 18488883\\\\\n\t 24 & 17684219\\\\\n\t 25 &  9323012\\\\\n\t 26 & 13155336\\\\\n\t 27 & 22744013\\\\\n\t 28 & 16506893\\\\\n\t 29 &  7125308\\\\\n\t 30 &  5742314\\\\\n\t 31 & 18267238\\\\\n\t 32 & 15489271\\\\\n\t 33 &  3549000\\\\\n\t 34 & 12853618\\\\\n\t 35 & 10838313\\\\\n\t 36 &  4151992\\\\\n\t 37 &  6824549\\\\\n\t 38 &  5637919\\\\\n\t 39 & 20214128\\\\\n\t 40 & 12727738\\\\\n\t 41 & 17659943\\\\\n\t 42 &  7568239\\\\\n\t 43 &  8168836\\\\\n\t 44 &  4306406\\\\\n\t 45 & 10390768\\\\\n\\end{tabular}\n",
            "text/plain": [
              "   Store sum(Weekly_Sales)\n",
              "1  1     20978760         \n",
              "2  2     25083605         \n",
              "3  3      5620316         \n",
              "4  4     28454364         \n",
              "5  5      4466364         \n",
              "6  6     20833910         \n",
              "7  7      7290859         \n",
              "8  8     11919631         \n",
              "9  9      7484935         \n",
              "10 10    23750369         \n",
              "11 11    17787372         \n",
              "12 12    13362389         \n",
              "13 13    27009207         \n",
              "14 14    25155535         \n",
              "15 15     7955243         \n",
              "16 16     6564336         \n",
              "17 17    12592401         \n",
              "18 18    13896195         \n",
              "19 19    18367300         \n",
              "20 20    27524197         \n",
              "21 21     9294596         \n",
              "22 22    13487894         \n",
              "23 23    18488883         \n",
              "24 24    17684219         \n",
              "25 25     9323012         \n",
              "26 26    13155336         \n",
              "27 27    22744013         \n",
              "28 28    16506893         \n",
              "29 29     7125308         \n",
              "30 30     5742314         \n",
              "31 31    18267238         \n",
              "32 32    15489271         \n",
              "33 33     3549000         \n",
              "34 34    12853618         \n",
              "35 35    10838313         \n",
              "36 36     4151992         \n",
              "37 37     6824549         \n",
              "38 38     5637919         \n",
              "39 39    20214128         \n",
              "40 40    12727738         \n",
              "41 41    17659943         \n",
              "42 42     7568239         \n",
              "43 43     8168836         \n",
              "44 44     4306406         \n",
              "45 45    10390768         "
            ]
          },
          "metadata": {}
        }
      ]
    },
    {
      "cell_type": "code",
      "source": [
        "colnames(Q2_2012_Sales)[2]<-\"Q2_2012_Sales_by_Store\""
      ],
      "metadata": {
        "id": "nsvkBmNaPmTh"
      },
      "execution_count": 29,
      "outputs": []
    },
    {
      "cell_type": "code",
      "source": [
        "Q3_2012_Growthrate<-merge(Q2_2012_Sales,Q3_2012_Sales,by=\"Store\")\n",
        "Q3_2012_Growthrate"
      ],
      "metadata": {
        "colab": {
          "base_uri": "https://localhost:8080/",
          "height": 1000
        },
        "id": "X9y56bY9PmWZ",
        "outputId": "04f50142-253b-4e63-d9ba-5ba31da47e3a"
      },
      "execution_count": 30,
      "outputs": [
        {
          "output_type": "display_data",
          "data": {
            "text/html": [
              "<table class=\"dataframe\">\n",
              "<caption>A data.frame: 45 × 3</caption>\n",
              "<thead>\n",
              "\t<tr><th scope=col>Store</th><th scope=col>Q2_2012_Sales_by_Store</th><th scope=col>Q3_2012_Sales_by_Store</th></tr>\n",
              "\t<tr><th scope=col>&lt;fct&gt;</th><th scope=col>&lt;dbl&gt;</th><th scope=col>&lt;dbl&gt;</th></tr>\n",
              "</thead>\n",
              "<tbody>\n",
              "\t<tr><td>1 </td><td>20978760</td><td>20253948</td></tr>\n",
              "\t<tr><td>10</td><td>23750369</td><td>23037259</td></tr>\n",
              "\t<tr><td>11</td><td>17787372</td><td>17516081</td></tr>\n",
              "\t<tr><td>12</td><td>13362389</td><td>12536324</td></tr>\n",
              "\t<tr><td>13</td><td>27009207</td><td>26421259</td></tr>\n",
              "\t<tr><td>14</td><td>25155535</td><td>21187561</td></tr>\n",
              "\t<tr><td>15</td><td> 7955243</td><td> 7612081</td></tr>\n",
              "\t<tr><td>16</td><td> 6564336</td><td> 7121542</td></tr>\n",
              "\t<tr><td>17</td><td>12592401</td><td>12459453</td></tr>\n",
              "\t<tr><td>18</td><td>13896195</td><td>13489765</td></tr>\n",
              "\t<tr><td>19</td><td>18367300</td><td>18203555</td></tr>\n",
              "\t<tr><td>2 </td><td>25083605</td><td>24303355</td></tr>\n",
              "\t<tr><td>20</td><td>27524197</td><td>26891527</td></tr>\n",
              "\t<tr><td>21</td><td> 9294596</td><td> 9027599</td></tr>\n",
              "\t<tr><td>22</td><td>13487894</td><td>12845140</td></tr>\n",
              "\t<tr><td>23</td><td>18488883</td><td>18641489</td></tr>\n",
              "\t<tr><td>24</td><td>17684219</td><td>17976378</td></tr>\n",
              "\t<tr><td>25</td><td> 9323012</td><td> 9109082</td></tr>\n",
              "\t<tr><td>26</td><td>13155336</td><td>13675692</td></tr>\n",
              "\t<tr><td>27</td><td>22744013</td><td>22307711</td></tr>\n",
              "\t<tr><td>28</td><td>16506893</td><td>16080705</td></tr>\n",
              "\t<tr><td>29</td><td> 7125308</td><td> 6671234</td></tr>\n",
              "\t<tr><td>3 </td><td> 5620316</td><td> 5298005</td></tr>\n",
              "\t<tr><td>30</td><td> 5742314</td><td> 5594702</td></tr>\n",
              "\t<tr><td>31</td><td>18267238</td><td>17806714</td></tr>\n",
              "\t<tr><td>32</td><td>15489271</td><td>15396529</td></tr>\n",
              "\t<tr><td>33</td><td> 3549000</td><td> 3433620</td></tr>\n",
              "\t<tr><td>34</td><td>12853618</td><td>12485996</td></tr>\n",
              "\t<tr><td>35</td><td>10838313</td><td>11322421</td></tr>\n",
              "\t<tr><td>36</td><td> 4151992</td><td> 3831692</td></tr>\n",
              "\t<tr><td>37</td><td> 6824549</td><td> 6728068</td></tr>\n",
              "\t<tr><td>38</td><td> 5637919</td><td> 5605482</td></tr>\n",
              "\t<tr><td>39</td><td>20214128</td><td>20715116</td></tr>\n",
              "\t<tr><td>4 </td><td>28454364</td><td>27796792</td></tr>\n",
              "\t<tr><td>40</td><td>12727738</td><td>12873195</td></tr>\n",
              "\t<tr><td>41</td><td>17659943</td><td>18093844</td></tr>\n",
              "\t<tr><td>42</td><td> 7568239</td><td> 7296759</td></tr>\n",
              "\t<tr><td>43</td><td> 8168836</td><td> 8000572</td></tr>\n",
              "\t<tr><td>44</td><td> 4306406</td><td> 4411251</td></tr>\n",
              "\t<tr><td>45</td><td>10390768</td><td> 9581268</td></tr>\n",
              "\t<tr><td>5 </td><td> 4466364</td><td> 4163791</td></tr>\n",
              "\t<tr><td>6 </td><td>20833910</td><td>20167312</td></tr>\n",
              "\t<tr><td>7 </td><td> 7290859</td><td> 8262787</td></tr>\n",
              "\t<tr><td>8 </td><td>11919631</td><td>11748953</td></tr>\n",
              "\t<tr><td>9 </td><td> 7484935</td><td> 7022150</td></tr>\n",
              "</tbody>\n",
              "</table>\n"
            ],
            "text/markdown": "\nA data.frame: 45 × 3\n\n| Store &lt;fct&gt; | Q2_2012_Sales_by_Store &lt;dbl&gt; | Q3_2012_Sales_by_Store &lt;dbl&gt; |\n|---|---|---|\n| 1  | 20978760 | 20253948 |\n| 10 | 23750369 | 23037259 |\n| 11 | 17787372 | 17516081 |\n| 12 | 13362389 | 12536324 |\n| 13 | 27009207 | 26421259 |\n| 14 | 25155535 | 21187561 |\n| 15 |  7955243 |  7612081 |\n| 16 |  6564336 |  7121542 |\n| 17 | 12592401 | 12459453 |\n| 18 | 13896195 | 13489765 |\n| 19 | 18367300 | 18203555 |\n| 2  | 25083605 | 24303355 |\n| 20 | 27524197 | 26891527 |\n| 21 |  9294596 |  9027599 |\n| 22 | 13487894 | 12845140 |\n| 23 | 18488883 | 18641489 |\n| 24 | 17684219 | 17976378 |\n| 25 |  9323012 |  9109082 |\n| 26 | 13155336 | 13675692 |\n| 27 | 22744013 | 22307711 |\n| 28 | 16506893 | 16080705 |\n| 29 |  7125308 |  6671234 |\n| 3  |  5620316 |  5298005 |\n| 30 |  5742314 |  5594702 |\n| 31 | 18267238 | 17806714 |\n| 32 | 15489271 | 15396529 |\n| 33 |  3549000 |  3433620 |\n| 34 | 12853618 | 12485996 |\n| 35 | 10838313 | 11322421 |\n| 36 |  4151992 |  3831692 |\n| 37 |  6824549 |  6728068 |\n| 38 |  5637919 |  5605482 |\n| 39 | 20214128 | 20715116 |\n| 4  | 28454364 | 27796792 |\n| 40 | 12727738 | 12873195 |\n| 41 | 17659943 | 18093844 |\n| 42 |  7568239 |  7296759 |\n| 43 |  8168836 |  8000572 |\n| 44 |  4306406 |  4411251 |\n| 45 | 10390768 |  9581268 |\n| 5  |  4466364 |  4163791 |\n| 6  | 20833910 | 20167312 |\n| 7  |  7290859 |  8262787 |\n| 8  | 11919631 | 11748953 |\n| 9  |  7484935 |  7022150 |\n\n",
            "text/latex": "A data.frame: 45 × 3\n\\begin{tabular}{lll}\n Store & Q2\\_2012\\_Sales\\_by\\_Store & Q3\\_2012\\_Sales\\_by\\_Store\\\\\n <fct> & <dbl> & <dbl>\\\\\n\\hline\n\t 1  & 20978760 & 20253948\\\\\n\t 10 & 23750369 & 23037259\\\\\n\t 11 & 17787372 & 17516081\\\\\n\t 12 & 13362389 & 12536324\\\\\n\t 13 & 27009207 & 26421259\\\\\n\t 14 & 25155535 & 21187561\\\\\n\t 15 &  7955243 &  7612081\\\\\n\t 16 &  6564336 &  7121542\\\\\n\t 17 & 12592401 & 12459453\\\\\n\t 18 & 13896195 & 13489765\\\\\n\t 19 & 18367300 & 18203555\\\\\n\t 2  & 25083605 & 24303355\\\\\n\t 20 & 27524197 & 26891527\\\\\n\t 21 &  9294596 &  9027599\\\\\n\t 22 & 13487894 & 12845140\\\\\n\t 23 & 18488883 & 18641489\\\\\n\t 24 & 17684219 & 17976378\\\\\n\t 25 &  9323012 &  9109082\\\\\n\t 26 & 13155336 & 13675692\\\\\n\t 27 & 22744013 & 22307711\\\\\n\t 28 & 16506893 & 16080705\\\\\n\t 29 &  7125308 &  6671234\\\\\n\t 3  &  5620316 &  5298005\\\\\n\t 30 &  5742314 &  5594702\\\\\n\t 31 & 18267238 & 17806714\\\\\n\t 32 & 15489271 & 15396529\\\\\n\t 33 &  3549000 &  3433620\\\\\n\t 34 & 12853618 & 12485996\\\\\n\t 35 & 10838313 & 11322421\\\\\n\t 36 &  4151992 &  3831692\\\\\n\t 37 &  6824549 &  6728068\\\\\n\t 38 &  5637919 &  5605482\\\\\n\t 39 & 20214128 & 20715116\\\\\n\t 4  & 28454364 & 27796792\\\\\n\t 40 & 12727738 & 12873195\\\\\n\t 41 & 17659943 & 18093844\\\\\n\t 42 &  7568239 &  7296759\\\\\n\t 43 &  8168836 &  8000572\\\\\n\t 44 &  4306406 &  4411251\\\\\n\t 45 & 10390768 &  9581268\\\\\n\t 5  &  4466364 &  4163791\\\\\n\t 6  & 20833910 & 20167312\\\\\n\t 7  &  7290859 &  8262787\\\\\n\t 8  & 11919631 & 11748953\\\\\n\t 9  &  7484935 &  7022150\\\\\n\\end{tabular}\n",
            "text/plain": [
              "   Store Q2_2012_Sales_by_Store Q3_2012_Sales_by_Store\n",
              "1  1     20978760               20253948              \n",
              "2  10    23750369               23037259              \n",
              "3  11    17787372               17516081              \n",
              "4  12    13362389               12536324              \n",
              "5  13    27009207               26421259              \n",
              "6  14    25155535               21187561              \n",
              "7  15     7955243                7612081              \n",
              "8  16     6564336                7121542              \n",
              "9  17    12592401               12459453              \n",
              "10 18    13896195               13489765              \n",
              "11 19    18367300               18203555              \n",
              "12 2     25083605               24303355              \n",
              "13 20    27524197               26891527              \n",
              "14 21     9294596                9027599              \n",
              "15 22    13487894               12845140              \n",
              "16 23    18488883               18641489              \n",
              "17 24    17684219               17976378              \n",
              "18 25     9323012                9109082              \n",
              "19 26    13155336               13675692              \n",
              "20 27    22744013               22307711              \n",
              "21 28    16506893               16080705              \n",
              "22 29     7125308                6671234              \n",
              "23 3      5620316                5298005              \n",
              "24 30     5742314                5594702              \n",
              "25 31    18267238               17806714              \n",
              "26 32    15489271               15396529              \n",
              "27 33     3549000                3433620              \n",
              "28 34    12853618               12485996              \n",
              "29 35    10838313               11322421              \n",
              "30 36     4151992                3831692              \n",
              "31 37     6824549                6728068              \n",
              "32 38     5637919                5605482              \n",
              "33 39    20214128               20715116              \n",
              "34 4     28454364               27796792              \n",
              "35 40    12727738               12873195              \n",
              "36 41    17659943               18093844              \n",
              "37 42     7568239                7296759              \n",
              "38 43     8168836                8000572              \n",
              "39 44     4306406                4411251              \n",
              "40 45    10390768                9581268              \n",
              "41 5      4466364                4163791              \n",
              "42 6     20833910               20167312              \n",
              "43 7      7290859                8262787              \n",
              "44 8     11919631               11748953              \n",
              "45 9      7484935                7022150              "
            ]
          },
          "metadata": {}
        }
      ]
    },
    {
      "cell_type": "code",
      "source": [
        "Q3_2012_Growthrate<-mutate(Q3_2012_Growthrate, Growth_Rate=((Q3_2012_Sales_by_Store-Q2_2012_Sales_by_Store)*100/Q2_2012_Sales_by_Store))\n",
        "Q3_2012_Growthrate"
      ],
      "metadata": {
        "colab": {
          "base_uri": "https://localhost:8080/",
          "height": 1000
        },
        "id": "w9XNmCuKPmZR",
        "outputId": "560596e3-1274-4121-801d-3e5eb4ed3e5f"
      },
      "execution_count": 31,
      "outputs": [
        {
          "output_type": "display_data",
          "data": {
            "text/html": [
              "<table class=\"dataframe\">\n",
              "<caption>A data.frame: 45 × 4</caption>\n",
              "<thead>\n",
              "\t<tr><th scope=col>Store</th><th scope=col>Q2_2012_Sales_by_Store</th><th scope=col>Q3_2012_Sales_by_Store</th><th scope=col>Growth_Rate</th></tr>\n",
              "\t<tr><th scope=col>&lt;fct&gt;</th><th scope=col>&lt;dbl&gt;</th><th scope=col>&lt;dbl&gt;</th><th scope=col>&lt;dbl&gt;</th></tr>\n",
              "</thead>\n",
              "<tbody>\n",
              "\t<tr><td>1 </td><td>20978760</td><td>20253948</td><td> -3.4549818</td></tr>\n",
              "\t<tr><td>10</td><td>23750369</td><td>23037259</td><td> -3.0025235</td></tr>\n",
              "\t<tr><td>11</td><td>17787372</td><td>17516081</td><td> -1.5251860</td></tr>\n",
              "\t<tr><td>12</td><td>13362389</td><td>12536324</td><td> -6.1820101</td></tr>\n",
              "\t<tr><td>13</td><td>27009207</td><td>26421259</td><td> -2.1768423</td></tr>\n",
              "\t<tr><td>14</td><td>25155535</td><td>21187561</td><td>-15.7737639</td></tr>\n",
              "\t<tr><td>15</td><td> 7955243</td><td> 7612081</td><td> -4.3136588</td></tr>\n",
              "\t<tr><td>16</td><td> 6564336</td><td> 7121542</td><td>  8.4883781</td></tr>\n",
              "\t<tr><td>17</td><td>12592401</td><td>12459453</td><td> -1.0557786</td></tr>\n",
              "\t<tr><td>18</td><td>13896195</td><td>13489765</td><td> -2.9247531</td></tr>\n",
              "\t<tr><td>19</td><td>18367300</td><td>18203555</td><td> -0.8915049</td></tr>\n",
              "\t<tr><td>2 </td><td>25083605</td><td>24303355</td><td> -3.1105976</td></tr>\n",
              "\t<tr><td>20</td><td>27524197</td><td>26891527</td><td> -2.2985969</td></tr>\n",
              "\t<tr><td>21</td><td> 9294596</td><td> 9027599</td><td> -2.8726049</td></tr>\n",
              "\t<tr><td>22</td><td>13487894</td><td>12845140</td><td> -4.7654167</td></tr>\n",
              "\t<tr><td>23</td><td>18488883</td><td>18641489</td><td>  0.8253951</td></tr>\n",
              "\t<tr><td>24</td><td>17684219</td><td>17976378</td><td>  1.6520877</td></tr>\n",
              "\t<tr><td>25</td><td> 9323012</td><td> 9109082</td><td> -2.2946474</td></tr>\n",
              "\t<tr><td>26</td><td>13155336</td><td>13675692</td><td>  3.9554775</td></tr>\n",
              "\t<tr><td>27</td><td>22744013</td><td>22307711</td><td> -1.9183129</td></tr>\n",
              "\t<tr><td>28</td><td>16506893</td><td>16080705</td><td> -2.5818799</td></tr>\n",
              "\t<tr><td>29</td><td> 7125308</td><td> 6671234</td><td> -6.3726844</td></tr>\n",
              "\t<tr><td>3 </td><td> 5620316</td><td> 5298005</td><td> -5.7347486</td></tr>\n",
              "\t<tr><td>30</td><td> 5742314</td><td> 5594702</td><td> -2.5706087</td></tr>\n",
              "\t<tr><td>31</td><td>18267238</td><td>17806714</td><td> -2.5210381</td></tr>\n",
              "\t<tr><td>32</td><td>15489271</td><td>15396529</td><td> -0.5987506</td></tr>\n",
              "\t<tr><td>33</td><td> 3549000</td><td> 3433620</td><td> -3.2510571</td></tr>\n",
              "\t<tr><td>34</td><td>12853618</td><td>12485996</td><td> -2.8600669</td></tr>\n",
              "\t<tr><td>35</td><td>10838313</td><td>11322421</td><td>  4.4666372</td></tr>\n",
              "\t<tr><td>36</td><td> 4151992</td><td> 3831692</td><td> -7.7143687</td></tr>\n",
              "\t<tr><td>37</td><td> 6824549</td><td> 6728068</td><td> -1.4137363</td></tr>\n",
              "\t<tr><td>38</td><td> 5637919</td><td> 5605482</td><td> -0.5753265</td></tr>\n",
              "\t<tr><td>39</td><td>20214128</td><td>20715116</td><td>  2.4784040</td></tr>\n",
              "\t<tr><td>4 </td><td>28454364</td><td>27796792</td><td> -2.3109679</td></tr>\n",
              "\t<tr><td>40</td><td>12727738</td><td>12873195</td><td>  1.1428413</td></tr>\n",
              "\t<tr><td>41</td><td>17659943</td><td>18093844</td><td>  2.4569801</td></tr>\n",
              "\t<tr><td>42</td><td> 7568239</td><td> 7296759</td><td> -3.5870950</td></tr>\n",
              "\t<tr><td>43</td><td> 8168836</td><td> 8000572</td><td> -2.0598306</td></tr>\n",
              "\t<tr><td>44</td><td> 4306406</td><td> 4411251</td><td>  2.4346377</td></tr>\n",
              "\t<tr><td>45</td><td>10390768</td><td> 9581268</td><td> -7.7905643</td></tr>\n",
              "\t<tr><td>5 </td><td> 4466364</td><td> 4163791</td><td> -6.7744752</td></tr>\n",
              "\t<tr><td>6 </td><td>20833910</td><td>20167312</td><td> -3.1995803</td></tr>\n",
              "\t<tr><td>7 </td><td> 7290859</td><td> 8262787</td><td> 13.3307760</td></tr>\n",
              "\t<tr><td>8 </td><td>11919631</td><td>11748953</td><td> -1.4319088</td></tr>\n",
              "\t<tr><td>9 </td><td> 7484935</td><td> 7022150</td><td> -6.1828933</td></tr>\n",
              "</tbody>\n",
              "</table>\n"
            ],
            "text/markdown": "\nA data.frame: 45 × 4\n\n| Store &lt;fct&gt; | Q2_2012_Sales_by_Store &lt;dbl&gt; | Q3_2012_Sales_by_Store &lt;dbl&gt; | Growth_Rate &lt;dbl&gt; |\n|---|---|---|---|\n| 1  | 20978760 | 20253948 |  -3.4549818 |\n| 10 | 23750369 | 23037259 |  -3.0025235 |\n| 11 | 17787372 | 17516081 |  -1.5251860 |\n| 12 | 13362389 | 12536324 |  -6.1820101 |\n| 13 | 27009207 | 26421259 |  -2.1768423 |\n| 14 | 25155535 | 21187561 | -15.7737639 |\n| 15 |  7955243 |  7612081 |  -4.3136588 |\n| 16 |  6564336 |  7121542 |   8.4883781 |\n| 17 | 12592401 | 12459453 |  -1.0557786 |\n| 18 | 13896195 | 13489765 |  -2.9247531 |\n| 19 | 18367300 | 18203555 |  -0.8915049 |\n| 2  | 25083605 | 24303355 |  -3.1105976 |\n| 20 | 27524197 | 26891527 |  -2.2985969 |\n| 21 |  9294596 |  9027599 |  -2.8726049 |\n| 22 | 13487894 | 12845140 |  -4.7654167 |\n| 23 | 18488883 | 18641489 |   0.8253951 |\n| 24 | 17684219 | 17976378 |   1.6520877 |\n| 25 |  9323012 |  9109082 |  -2.2946474 |\n| 26 | 13155336 | 13675692 |   3.9554775 |\n| 27 | 22744013 | 22307711 |  -1.9183129 |\n| 28 | 16506893 | 16080705 |  -2.5818799 |\n| 29 |  7125308 |  6671234 |  -6.3726844 |\n| 3  |  5620316 |  5298005 |  -5.7347486 |\n| 30 |  5742314 |  5594702 |  -2.5706087 |\n| 31 | 18267238 | 17806714 |  -2.5210381 |\n| 32 | 15489271 | 15396529 |  -0.5987506 |\n| 33 |  3549000 |  3433620 |  -3.2510571 |\n| 34 | 12853618 | 12485996 |  -2.8600669 |\n| 35 | 10838313 | 11322421 |   4.4666372 |\n| 36 |  4151992 |  3831692 |  -7.7143687 |\n| 37 |  6824549 |  6728068 |  -1.4137363 |\n| 38 |  5637919 |  5605482 |  -0.5753265 |\n| 39 | 20214128 | 20715116 |   2.4784040 |\n| 4  | 28454364 | 27796792 |  -2.3109679 |\n| 40 | 12727738 | 12873195 |   1.1428413 |\n| 41 | 17659943 | 18093844 |   2.4569801 |\n| 42 |  7568239 |  7296759 |  -3.5870950 |\n| 43 |  8168836 |  8000572 |  -2.0598306 |\n| 44 |  4306406 |  4411251 |   2.4346377 |\n| 45 | 10390768 |  9581268 |  -7.7905643 |\n| 5  |  4466364 |  4163791 |  -6.7744752 |\n| 6  | 20833910 | 20167312 |  -3.1995803 |\n| 7  |  7290859 |  8262787 |  13.3307760 |\n| 8  | 11919631 | 11748953 |  -1.4319088 |\n| 9  |  7484935 |  7022150 |  -6.1828933 |\n\n",
            "text/latex": "A data.frame: 45 × 4\n\\begin{tabular}{llll}\n Store & Q2\\_2012\\_Sales\\_by\\_Store & Q3\\_2012\\_Sales\\_by\\_Store & Growth\\_Rate\\\\\n <fct> & <dbl> & <dbl> & <dbl>\\\\\n\\hline\n\t 1  & 20978760 & 20253948 &  -3.4549818\\\\\n\t 10 & 23750369 & 23037259 &  -3.0025235\\\\\n\t 11 & 17787372 & 17516081 &  -1.5251860\\\\\n\t 12 & 13362389 & 12536324 &  -6.1820101\\\\\n\t 13 & 27009207 & 26421259 &  -2.1768423\\\\\n\t 14 & 25155535 & 21187561 & -15.7737639\\\\\n\t 15 &  7955243 &  7612081 &  -4.3136588\\\\\n\t 16 &  6564336 &  7121542 &   8.4883781\\\\\n\t 17 & 12592401 & 12459453 &  -1.0557786\\\\\n\t 18 & 13896195 & 13489765 &  -2.9247531\\\\\n\t 19 & 18367300 & 18203555 &  -0.8915049\\\\\n\t 2  & 25083605 & 24303355 &  -3.1105976\\\\\n\t 20 & 27524197 & 26891527 &  -2.2985969\\\\\n\t 21 &  9294596 &  9027599 &  -2.8726049\\\\\n\t 22 & 13487894 & 12845140 &  -4.7654167\\\\\n\t 23 & 18488883 & 18641489 &   0.8253951\\\\\n\t 24 & 17684219 & 17976378 &   1.6520877\\\\\n\t 25 &  9323012 &  9109082 &  -2.2946474\\\\\n\t 26 & 13155336 & 13675692 &   3.9554775\\\\\n\t 27 & 22744013 & 22307711 &  -1.9183129\\\\\n\t 28 & 16506893 & 16080705 &  -2.5818799\\\\\n\t 29 &  7125308 &  6671234 &  -6.3726844\\\\\n\t 3  &  5620316 &  5298005 &  -5.7347486\\\\\n\t 30 &  5742314 &  5594702 &  -2.5706087\\\\\n\t 31 & 18267238 & 17806714 &  -2.5210381\\\\\n\t 32 & 15489271 & 15396529 &  -0.5987506\\\\\n\t 33 &  3549000 &  3433620 &  -3.2510571\\\\\n\t 34 & 12853618 & 12485996 &  -2.8600669\\\\\n\t 35 & 10838313 & 11322421 &   4.4666372\\\\\n\t 36 &  4151992 &  3831692 &  -7.7143687\\\\\n\t 37 &  6824549 &  6728068 &  -1.4137363\\\\\n\t 38 &  5637919 &  5605482 &  -0.5753265\\\\\n\t 39 & 20214128 & 20715116 &   2.4784040\\\\\n\t 4  & 28454364 & 27796792 &  -2.3109679\\\\\n\t 40 & 12727738 & 12873195 &   1.1428413\\\\\n\t 41 & 17659943 & 18093844 &   2.4569801\\\\\n\t 42 &  7568239 &  7296759 &  -3.5870950\\\\\n\t 43 &  8168836 &  8000572 &  -2.0598306\\\\\n\t 44 &  4306406 &  4411251 &   2.4346377\\\\\n\t 45 & 10390768 &  9581268 &  -7.7905643\\\\\n\t 5  &  4466364 &  4163791 &  -6.7744752\\\\\n\t 6  & 20833910 & 20167312 &  -3.1995803\\\\\n\t 7  &  7290859 &  8262787 &  13.3307760\\\\\n\t 8  & 11919631 & 11748953 &  -1.4319088\\\\\n\t 9  &  7484935 &  7022150 &  -6.1828933\\\\\n\\end{tabular}\n",
            "text/plain": [
              "   Store Q2_2012_Sales_by_Store Q3_2012_Sales_by_Store Growth_Rate\n",
              "1  1     20978760               20253948                -3.4549818\n",
              "2  10    23750369               23037259                -3.0025235\n",
              "3  11    17787372               17516081                -1.5251860\n",
              "4  12    13362389               12536324                -6.1820101\n",
              "5  13    27009207               26421259                -2.1768423\n",
              "6  14    25155535               21187561               -15.7737639\n",
              "7  15     7955243                7612081                -4.3136588\n",
              "8  16     6564336                7121542                 8.4883781\n",
              "9  17    12592401               12459453                -1.0557786\n",
              "10 18    13896195               13489765                -2.9247531\n",
              "11 19    18367300               18203555                -0.8915049\n",
              "12 2     25083605               24303355                -3.1105976\n",
              "13 20    27524197               26891527                -2.2985969\n",
              "14 21     9294596                9027599                -2.8726049\n",
              "15 22    13487894               12845140                -4.7654167\n",
              "16 23    18488883               18641489                 0.8253951\n",
              "17 24    17684219               17976378                 1.6520877\n",
              "18 25     9323012                9109082                -2.2946474\n",
              "19 26    13155336               13675692                 3.9554775\n",
              "20 27    22744013               22307711                -1.9183129\n",
              "21 28    16506893               16080705                -2.5818799\n",
              "22 29     7125308                6671234                -6.3726844\n",
              "23 3      5620316                5298005                -5.7347486\n",
              "24 30     5742314                5594702                -2.5706087\n",
              "25 31    18267238               17806714                -2.5210381\n",
              "26 32    15489271               15396529                -0.5987506\n",
              "27 33     3549000                3433620                -3.2510571\n",
              "28 34    12853618               12485996                -2.8600669\n",
              "29 35    10838313               11322421                 4.4666372\n",
              "30 36     4151992                3831692                -7.7143687\n",
              "31 37     6824549                6728068                -1.4137363\n",
              "32 38     5637919                5605482                -0.5753265\n",
              "33 39    20214128               20715116                 2.4784040\n",
              "34 4     28454364               27796792                -2.3109679\n",
              "35 40    12727738               12873195                 1.1428413\n",
              "36 41    17659943               18093844                 2.4569801\n",
              "37 42     7568239                7296759                -3.5870950\n",
              "38 43     8168836                8000572                -2.0598306\n",
              "39 44     4306406                4411251                 2.4346377\n",
              "40 45    10390768                9581268                -7.7905643\n",
              "41 5      4466364                4163791                -6.7744752\n",
              "42 6     20833910               20167312                -3.1995803\n",
              "43 7      7290859                8262787                13.3307760\n",
              "44 8     11919631               11748953                -1.4319088\n",
              "45 9      7484935                7022150                -6.1828933"
            ]
          },
          "metadata": {}
        }
      ]
    },
    {
      "cell_type": "code",
      "source": [
        "positive_growthrate<-filter(Q3_2012_Growthrate,Growth_Rate>0)\n",
        "positive_growthrate<-arrange(positive_growthrate,desc(Growth_Rate))\n",
        "View(positive_growthrate)"
      ],
      "metadata": {
        "colab": {
          "base_uri": "https://localhost:8080/",
          "height": 411
        },
        "id": "PaefBMlCPmb8",
        "outputId": "5a504c45-940b-41a2-9f37-4f2f45a70c07"
      },
      "execution_count": 32,
      "outputs": [
        {
          "output_type": "display_data",
          "data": {
            "text/plain": [
              "   Store Q2_2012_Sales_by_Store Q3_2012_Sales_by_Store Growth_Rate\n",
              "1  7      7290859                8262787               13.3307760 \n",
              "2  16     6564336                7121542                8.4883781 \n",
              "3  35    10838313               11322421                4.4666372 \n",
              "4  26    13155336               13675692                3.9554775 \n",
              "5  39    20214128               20715116                2.4784040 \n",
              "6  41    17659943               18093844                2.4569801 \n",
              "7  44     4306406                4411251                2.4346377 \n",
              "8  24    17684219               17976378                1.6520877 \n",
              "9  40    12727738               12873195                1.1428413 \n",
              "10 23    18488883               18641489                0.8253951 "
            ],
            "text/html": [
              "<table class=\"dataframe\">\n",
              "<caption>A data.frame: 10 × 4</caption>\n",
              "<thead>\n",
              "\t<tr><th scope=col>Store</th><th scope=col>Q2_2012_Sales_by_Store</th><th scope=col>Q3_2012_Sales_by_Store</th><th scope=col>Growth_Rate</th></tr>\n",
              "\t<tr><th scope=col>&lt;fct&gt;</th><th scope=col>&lt;dbl&gt;</th><th scope=col>&lt;dbl&gt;</th><th scope=col>&lt;dbl&gt;</th></tr>\n",
              "</thead>\n",
              "<tbody>\n",
              "\t<tr><td>7 </td><td> 7290859</td><td> 8262787</td><td>13.3307760</td></tr>\n",
              "\t<tr><td>16</td><td> 6564336</td><td> 7121542</td><td> 8.4883781</td></tr>\n",
              "\t<tr><td>35</td><td>10838313</td><td>11322421</td><td> 4.4666372</td></tr>\n",
              "\t<tr><td>26</td><td>13155336</td><td>13675692</td><td> 3.9554775</td></tr>\n",
              "\t<tr><td>39</td><td>20214128</td><td>20715116</td><td> 2.4784040</td></tr>\n",
              "\t<tr><td>41</td><td>17659943</td><td>18093844</td><td> 2.4569801</td></tr>\n",
              "\t<tr><td>44</td><td> 4306406</td><td> 4411251</td><td> 2.4346377</td></tr>\n",
              "\t<tr><td>24</td><td>17684219</td><td>17976378</td><td> 1.6520877</td></tr>\n",
              "\t<tr><td>40</td><td>12727738</td><td>12873195</td><td> 1.1428413</td></tr>\n",
              "\t<tr><td>23</td><td>18488883</td><td>18641489</td><td> 0.8253951</td></tr>\n",
              "</tbody>\n",
              "</table>\n"
            ],
            "text/markdown": "\nA data.frame: 10 × 4\n\n| Store &lt;fct&gt; | Q2_2012_Sales_by_Store &lt;dbl&gt; | Q3_2012_Sales_by_Store &lt;dbl&gt; | Growth_Rate &lt;dbl&gt; |\n|---|---|---|---|\n| 7  |  7290859 |  8262787 | 13.3307760 |\n| 16 |  6564336 |  7121542 |  8.4883781 |\n| 35 | 10838313 | 11322421 |  4.4666372 |\n| 26 | 13155336 | 13675692 |  3.9554775 |\n| 39 | 20214128 | 20715116 |  2.4784040 |\n| 41 | 17659943 | 18093844 |  2.4569801 |\n| 44 |  4306406 |  4411251 |  2.4346377 |\n| 24 | 17684219 | 17976378 |  1.6520877 |\n| 40 | 12727738 | 12873195 |  1.1428413 |\n| 23 | 18488883 | 18641489 |  0.8253951 |\n\n",
            "text/latex": "A data.frame: 10 × 4\n\\begin{tabular}{llll}\n Store & Q2\\_2012\\_Sales\\_by\\_Store & Q3\\_2012\\_Sales\\_by\\_Store & Growth\\_Rate\\\\\n <fct> & <dbl> & <dbl> & <dbl>\\\\\n\\hline\n\t 7  &  7290859 &  8262787 & 13.3307760\\\\\n\t 16 &  6564336 &  7121542 &  8.4883781\\\\\n\t 35 & 10838313 & 11322421 &  4.4666372\\\\\n\t 26 & 13155336 & 13675692 &  3.9554775\\\\\n\t 39 & 20214128 & 20715116 &  2.4784040\\\\\n\t 41 & 17659943 & 18093844 &  2.4569801\\\\\n\t 44 &  4306406 &  4411251 &  2.4346377\\\\\n\t 24 & 17684219 & 17976378 &  1.6520877\\\\\n\t 40 & 12727738 & 12873195 &  1.1428413\\\\\n\t 23 & 18488883 & 18641489 &  0.8253951\\\\\n\\end{tabular}\n"
          },
          "metadata": {}
        }
      ]
    },
    {
      "cell_type": "code",
      "source": [
        "ggplot(data=Q3_2012_Growthrate,aes(x=Store, y=Growth_Rate))+\n",
        "  geom_bar(stat=\"identity\",fill=\"Steelblue\")"
      ],
      "metadata": {
        "colab": {
          "base_uri": "https://localhost:8080/",
          "height": 437
        },
        "id": "9bYXj4kTaknx",
        "outputId": "52530b7e-3f15-43cb-bc96-a843d574ee20"
      },
      "execution_count": 33,
      "outputs": [
        {
          "output_type": "display_data",
          "data": {
            "text/plain": [
              "plot without title"
            ],
            "image/png": "[encoded data removed]"
          },
          "metadata": {
            "image/png": {
              "width": 420,
              "height": 420
            }
          }
        }
      ]
    },
    {
      "cell_type": "code",
      "source": [
        "# provide a monthly and semester view of sales in units and give insights\n",
        "\n",
        "x<-as.factor(df2$Date)"
      ],
      "metadata": {
        "id": "qxkxGPNXakrT"
      },
      "execution_count": 34,
      "outputs": []
    },
    {
      "cell_type": "code",
      "source": [
        "abis<-strptime(x,format=\"%d-%m-%Y\")"
      ],
      "metadata": {
        "id": "lg9uuLVSakul"
      },
      "execution_count": 35,
      "outputs": []
    },
    {
      "cell_type": "code",
      "source": [
        "df2$month_Year<-as.Date(abis,format=\"%Y-%m-%d\")"
      ],
      "metadata": {
        "id": "iO4HcP7wak0y"
      },
      "execution_count": 36,
      "outputs": []
    },
    {
      "cell_type": "code",
      "source": [
        "Month_Year_Sales<-summarise(group_by(df2,month_Year),sum(Weekly_Sales))\n",
        "colnames(Month_Year_Sales)[2]<-\"Sales_by_Month\"\n",
        "Month_Year_Sales<-as.data.frame(Month_Year_Sales)\n",
        "Month_Year_Sales"
      ],
      "metadata": {
        "colab": {
          "base_uri": "https://localhost:8080/",
          "height": 1000
        },
        "id": "RkovW4Bqak31",
        "outputId": "d6cae211-8fc8-48ac-c72e-806250a2586f"
      },
      "execution_count": 37,
      "outputs": [
        {
          "output_type": "display_data",
          "data": {
            "text/html": [
              "<table class=\"dataframe\">\n",
              "<caption>A data.frame: 143 × 2</caption>\n",
              "<thead>\n",
              "\t<tr><th scope=col>month_Year</th><th scope=col>Sales_by_Month</th></tr>\n",
              "\t<tr><th scope=col>&lt;date&gt;</th><th scope=col>&lt;dbl&gt;</th></tr>\n",
              "</thead>\n",
              "<tbody>\n",
              "\t<tr><td>2010-02-05</td><td>49750740</td></tr>\n",
              "\t<tr><td>2010-02-12</td><td>48336678</td></tr>\n",
              "\t<tr><td>2010-02-19</td><td>48276994</td></tr>\n",
              "\t<tr><td>2010-02-26</td><td>43968571</td></tr>\n",
              "\t<tr><td>2010-03-05</td><td>46871470</td></tr>\n",
              "\t<tr><td>2010-03-12</td><td>45925397</td></tr>\n",
              "\t<tr><td>2010-03-19</td><td>44988975</td></tr>\n",
              "\t<tr><td>2010-03-26</td><td>44133961</td></tr>\n",
              "\t<tr><td>2010-04-02</td><td>50423831</td></tr>\n",
              "\t<tr><td>2010-04-09</td><td>47365290</td></tr>\n",
              "\t<tr><td>2010-04-16</td><td>45183667</td></tr>\n",
              "\t<tr><td>2010-04-23</td><td>44734453</td></tr>\n",
              "\t<tr><td>2010-04-30</td><td>43705127</td></tr>\n",
              "\t<tr><td>2010-05-07</td><td>48503244</td></tr>\n",
              "\t<tr><td>2010-05-14</td><td>45330080</td></tr>\n",
              "\t<tr><td>2010-05-21</td><td>45120108</td></tr>\n",
              "\t<tr><td>2010-05-28</td><td>47757503</td></tr>\n",
              "\t<tr><td>2010-06-04</td><td>50188543</td></tr>\n",
              "\t<tr><td>2010-06-11</td><td>47826547</td></tr>\n",
              "\t<tr><td>2010-06-18</td><td>47622046</td></tr>\n",
              "\t<tr><td>2010-06-25</td><td>46609036</td></tr>\n",
              "\t<tr><td>2010-07-02</td><td>48917484</td></tr>\n",
              "\t<tr><td>2010-07-09</td><td>47899529</td></tr>\n",
              "\t<tr><td>2010-07-16</td><td>46243900</td></tr>\n",
              "\t<tr><td>2010-07-23</td><td>44888849</td></tr>\n",
              "\t<tr><td>2010-07-30</td><td>44630363</td></tr>\n",
              "\t<tr><td>2010-08-06</td><td>48204999</td></tr>\n",
              "\t<tr><td>2010-08-13</td><td>46464418</td></tr>\n",
              "\t<tr><td>2010-08-20</td><td>47060953</td></tr>\n",
              "\t<tr><td>2010-08-27</td><td>45909740</td></tr>\n",
              "\t<tr><td>⋮</td><td>⋮</td></tr>\n",
              "\t<tr><td>2012-04-06</td><td>53502316</td></tr>\n",
              "\t<tr><td>2012-04-13</td><td>46629261</td></tr>\n",
              "\t<tr><td>2012-04-20</td><td>45072530</td></tr>\n",
              "\t<tr><td>2012-04-27</td><td>43716799</td></tr>\n",
              "\t<tr><td>2012-05-04</td><td>47124198</td></tr>\n",
              "\t<tr><td>2012-05-11</td><td>46925879</td></tr>\n",
              "\t<tr><td>2012-05-18</td><td>46823939</td></tr>\n",
              "\t<tr><td>2012-05-25</td><td>47892463</td></tr>\n",
              "\t<tr><td>2012-06-01</td><td>48281650</td></tr>\n",
              "\t<tr><td>2012-06-08</td><td>49651172</td></tr>\n",
              "\t<tr><td>2012-06-15</td><td>48412111</td></tr>\n",
              "\t<tr><td>2012-06-22</td><td>47668285</td></tr>\n",
              "\t<tr><td>2012-06-29</td><td>46597112</td></tr>\n",
              "\t<tr><td>2012-07-06</td><td>51253022</td></tr>\n",
              "\t<tr><td>2012-07-13</td><td>46099732</td></tr>\n",
              "\t<tr><td>2012-07-20</td><td>46059543</td></tr>\n",
              "\t<tr><td>2012-07-27</td><td>44097155</td></tr>\n",
              "\t<tr><td>2012-08-03</td><td>47485900</td></tr>\n",
              "\t<tr><td>2012-08-10</td><td>47403451</td></tr>\n",
              "\t<tr><td>2012-08-17</td><td>47354452</td></tr>\n",
              "\t<tr><td>2012-08-24</td><td>47447324</td></tr>\n",
              "\t<tr><td>2012-08-31</td><td>47159639</td></tr>\n",
              "\t<tr><td>2012-09-07</td><td>48330059</td></tr>\n",
              "\t<tr><td>2012-09-14</td><td>44226039</td></tr>\n",
              "\t<tr><td>2012-09-21</td><td>44354547</td></tr>\n",
              "\t<tr><td>2012-09-28</td><td>43734899</td></tr>\n",
              "\t<tr><td>2012-10-05</td><td>47566639</td></tr>\n",
              "\t<tr><td>2012-10-12</td><td>46128514</td></tr>\n",
              "\t<tr><td>2012-10-19</td><td>45122411</td></tr>\n",
              "\t<tr><td>2012-10-26</td><td>45544116</td></tr>\n",
              "</tbody>\n",
              "</table>\n"
            ],
            "text/markdown": "\nA data.frame: 143 × 2\n\n| month_Year &lt;date&gt; | Sales_by_Month &lt;dbl&gt; |\n|---|---|\n| 2010-02-05 | 49750740 |\n| 2010-02-12 | 48336678 |\n| 2010-02-19 | 48276994 |\n| 2010-02-26 | 43968571 |\n| 2010-03-05 | 46871470 |\n| 2010-03-12 | 45925397 |\n| 2010-03-19 | 44988975 |\n| 2010-03-26 | 44133961 |\n| 2010-04-02 | 50423831 |\n| 2010-04-09 | 47365290 |\n| 2010-04-16 | 45183667 |\n| 2010-04-23 | 44734453 |\n| 2010-04-30 | 43705127 |\n| 2010-05-07 | 48503244 |\n| 2010-05-14 | 45330080 |\n| 2010-05-21 | 45120108 |\n| 2010-05-28 | 47757503 |\n| 2010-06-04 | 50188543 |\n| 2010-06-11 | 47826547 |\n| 2010-06-18 | 47622046 |\n| 2010-06-25 | 46609036 |\n| 2010-07-02 | 48917484 |\n| 2010-07-09 | 47899529 |\n| 2010-07-16 | 46243900 |\n| 2010-07-23 | 44888849 |\n| 2010-07-30 | 44630363 |\n| 2010-08-06 | 48204999 |\n| 2010-08-13 | 46464418 |\n| 2010-08-20 | 47060953 |\n| 2010-08-27 | 45909740 |\n| ⋮ | ⋮ |\n| 2012-04-06 | 53502316 |\n| 2012-04-13 | 46629261 |\n| 2012-04-20 | 45072530 |\n| 2012-04-27 | 43716799 |\n| 2012-05-04 | 47124198 |\n| 2012-05-11 | 46925879 |\n| 2012-05-18 | 46823939 |\n| 2012-05-25 | 47892463 |\n| 2012-06-01 | 48281650 |\n| 2012-06-08 | 49651172 |\n| 2012-06-15 | 48412111 |\n| 2012-06-22 | 47668285 |\n| 2012-06-29 | 46597112 |\n| 2012-07-06 | 51253022 |\n| 2012-07-13 | 46099732 |\n| 2012-07-20 | 46059543 |\n| 2012-07-27 | 44097155 |\n| 2012-08-03 | 47485900 |\n| 2012-08-10 | 47403451 |\n| 2012-08-17 | 47354452 |\n| 2012-08-24 | 47447324 |\n| 2012-08-31 | 47159639 |\n| 2012-09-07 | 48330059 |\n| 2012-09-14 | 44226039 |\n| 2012-09-21 | 44354547 |\n| 2012-09-28 | 43734899 |\n| 2012-10-05 | 47566639 |\n| 2012-10-12 | 46128514 |\n| 2012-10-19 | 45122411 |\n| 2012-10-26 | 45544116 |\n\n",
            "text/latex": "A data.frame: 143 × 2\n\\begin{tabular}{ll}\n month\\_Year & Sales\\_by\\_Month\\\\\n <date> & <dbl>\\\\\n\\hline\n\t 2010-02-05 & 49750740\\\\\n\t 2010-02-12 & 48336678\\\\\n\t 2010-02-19 & 48276994\\\\\n\t 2010-02-26 & 43968571\\\\\n\t 2010-03-05 & 46871470\\\\\n\t 2010-03-12 & 45925397\\\\\n\t 2010-03-19 & 44988975\\\\\n\t 2010-03-26 & 44133961\\\\\n\t 2010-04-02 & 50423831\\\\\n\t 2010-04-09 & 47365290\\\\\n\t 2010-04-16 & 45183667\\\\\n\t 2010-04-23 & 44734453\\\\\n\t 2010-04-30 & 43705127\\\\\n\t 2010-05-07 & 48503244\\\\\n\t 2010-05-14 & 45330080\\\\\n\t 2010-05-21 & 45120108\\\\\n\t 2010-05-28 & 47757503\\\\\n\t 2010-06-04 & 50188543\\\\\n\t 2010-06-11 & 47826547\\\\\n\t 2010-06-18 & 47622046\\\\\n\t 2010-06-25 & 46609036\\\\\n\t 2010-07-02 & 48917484\\\\\n\t 2010-07-09 & 47899529\\\\\n\t 2010-07-16 & 46243900\\\\\n\t 2010-07-23 & 44888849\\\\\n\t 2010-07-30 & 44630363\\\\\n\t 2010-08-06 & 48204999\\\\\n\t 2010-08-13 & 46464418\\\\\n\t 2010-08-20 & 47060953\\\\\n\t 2010-08-27 & 45909740\\\\\n\t ⋮ & ⋮\\\\\n\t 2012-04-06 & 53502316\\\\\n\t 2012-04-13 & 46629261\\\\\n\t 2012-04-20 & 45072530\\\\\n\t 2012-04-27 & 43716799\\\\\n\t 2012-05-04 & 47124198\\\\\n\t 2012-05-11 & 46925879\\\\\n\t 2012-05-18 & 46823939\\\\\n\t 2012-05-25 & 47892463\\\\\n\t 2012-06-01 & 48281650\\\\\n\t 2012-06-08 & 49651172\\\\\n\t 2012-06-15 & 48412111\\\\\n\t 2012-06-22 & 47668285\\\\\n\t 2012-06-29 & 46597112\\\\\n\t 2012-07-06 & 51253022\\\\\n\t 2012-07-13 & 46099732\\\\\n\t 2012-07-20 & 46059543\\\\\n\t 2012-07-27 & 44097155\\\\\n\t 2012-08-03 & 47485900\\\\\n\t 2012-08-10 & 47403451\\\\\n\t 2012-08-17 & 47354452\\\\\n\t 2012-08-24 & 47447324\\\\\n\t 2012-08-31 & 47159639\\\\\n\t 2012-09-07 & 48330059\\\\\n\t 2012-09-14 & 44226039\\\\\n\t 2012-09-21 & 44354547\\\\\n\t 2012-09-28 & 43734899\\\\\n\t 2012-10-05 & 47566639\\\\\n\t 2012-10-12 & 46128514\\\\\n\t 2012-10-19 & 45122411\\\\\n\t 2012-10-26 & 45544116\\\\\n\\end{tabular}\n",
            "text/plain": [
              "    month_Year Sales_by_Month\n",
              "1   2010-02-05 49750740      \n",
              "2   2010-02-12 48336678      \n",
              "3   2010-02-19 48276994      \n",
              "4   2010-02-26 43968571      \n",
              "5   2010-03-05 46871470      \n",
              "6   2010-03-12 45925397      \n",
              "7   2010-03-19 44988975      \n",
              "8   2010-03-26 44133961      \n",
              "9   2010-04-02 50423831      \n",
              "10  2010-04-09 47365290      \n",
              "11  2010-04-16 45183667      \n",
              "12  2010-04-23 44734453      \n",
              "13  2010-04-30 43705127      \n",
              "14  2010-05-07 48503244      \n",
              "15  2010-05-14 45330080      \n",
              "16  2010-05-21 45120108      \n",
              "17  2010-05-28 47757503      \n",
              "18  2010-06-04 50188543      \n",
              "19  2010-06-11 47826547      \n",
              "20  2010-06-18 47622046      \n",
              "21  2010-06-25 46609036      \n",
              "22  2010-07-02 48917484      \n",
              "23  2010-07-09 47899529      \n",
              "24  2010-07-16 46243900      \n",
              "25  2010-07-23 44888849      \n",
              "26  2010-07-30 44630363      \n",
              "27  2010-08-06 48204999      \n",
              "28  2010-08-13 46464418      \n",
              "29  2010-08-20 47060953      \n",
              "30  2010-08-27 45909740      \n",
              "⋮   ⋮          ⋮             \n",
              "114 2012-04-06 53502316      \n",
              "115 2012-04-13 46629261      \n",
              "116 2012-04-20 45072530      \n",
              "117 2012-04-27 43716799      \n",
              "118 2012-05-04 47124198      \n",
              "119 2012-05-11 46925879      \n",
              "120 2012-05-18 46823939      \n",
              "121 2012-05-25 47892463      \n",
              "122 2012-06-01 48281650      \n",
              "123 2012-06-08 49651172      \n",
              "124 2012-06-15 48412111      \n",
              "125 2012-06-22 47668285      \n",
              "126 2012-06-29 46597112      \n",
              "127 2012-07-06 51253022      \n",
              "128 2012-07-13 46099732      \n",
              "129 2012-07-20 46059543      \n",
              "130 2012-07-27 44097155      \n",
              "131 2012-08-03 47485900      \n",
              "132 2012-08-10 47403451      \n",
              "133 2012-08-17 47354452      \n",
              "134 2012-08-24 47447324      \n",
              "135 2012-08-31 47159639      \n",
              "136 2012-09-07 48330059      \n",
              "137 2012-09-14 44226039      \n",
              "138 2012-09-21 44354547      \n",
              "139 2012-09-28 43734899      \n",
              "140 2012-10-05 47566639      \n",
              "141 2012-10-12 46128514      \n",
              "142 2012-10-19 45122411      \n",
              "143 2012-10-26 45544116      "
            ]
          },
          "metadata": {}
        }
      ]
    },
    {
      "cell_type": "code",
      "source": [
        "Month_Year_Sales$month_Year<-as.character(Month_Year_Sales$month_Year)\n",
        "Month_Year_Sales$month_Year<-factor(Month_Year_Sales$month_Year,levels=Month_Year_Sales$month_Year)\n",
        "Month_Year_Sales$month_Year"
      ],
      "metadata": {
        "colab": {
          "base_uri": "https://localhost:8080/",
          "height": 191
        },
        "id": "MGS7H0OHak67",
        "outputId": "60fb087b-683b-45f6-dad8-2f69b1318f0b"
      },
      "execution_count": 38,
      "outputs": [
        {
          "output_type": "display_data",
          "data": {
            "text/html": [
              "<style>\n",
              ".list-inline {list-style: none; margin:0; padding: 0}\n",
              ".list-inline>li {display: inline-block}\n",
              ".list-inline>li:not(:last-child)::after {content: \"\\00b7\"; padding: 0 .5ex}\n",
              "</style>\n",
              "<ol class=list-inline><li>2010-02-05</li><li>2010-02-12</li><li>2010-02-19</li><li>2010-02-26</li><li>2010-03-05</li><li>2010-03-12</li><li>2010-03-19</li><li>2010-03-26</li><li>2010-04-02</li><li>2010-04-09</li><li>2010-04-16</li><li>2010-04-23</li><li>2010-04-30</li><li>2010-05-07</li><li>2010-05-14</li><li>2010-05-21</li><li>2010-05-28</li><li>2010-06-04</li><li>2010-06-11</li><li>2010-06-18</li><li>2010-06-25</li><li>2010-07-02</li><li>2010-07-09</li><li>2010-07-16</li><li>2010-07-23</li><li>2010-07-30</li><li>2010-08-06</li><li>2010-08-13</li><li>2010-08-20</li><li>2010-08-27</li><li>2010-09-03</li><li>2010-09-10</li><li>2010-09-17</li><li>2010-09-24</li><li>2010-10-01</li><li>2010-10-08</li><li>2010-10-15</li><li>2010-10-22</li><li>2010-10-29</li><li>2010-11-05</li><li>2010-11-12</li><li>2010-11-19</li><li>2010-11-26</li><li>2010-12-03</li><li>2010-12-10</li><li>2010-12-17</li><li>2010-12-24</li><li>2010-12-31</li><li>2011-01-07</li><li>2011-01-14</li><li>2011-01-21</li><li>2011-01-28</li><li>2011-02-04</li><li>2011-02-11</li><li>2011-02-18</li><li>2011-02-25</li><li>2011-03-04</li><li>2011-03-11</li><li>2011-03-18</li><li>2011-03-25</li><li>2011-04-01</li><li>2011-04-08</li><li>2011-04-15</li><li>2011-04-22</li><li>2011-04-29</li><li>2011-05-06</li><li>2011-05-13</li><li>2011-05-20</li><li>2011-05-27</li><li>2011-06-03</li><li>2011-06-10</li><li>2011-06-17</li><li>2011-06-24</li><li>2011-07-01</li><li>2011-07-08</li><li>2011-07-15</li><li>2011-07-22</li><li>2011-07-29</li><li>2011-08-05</li><li>2011-08-12</li><li>2011-08-19</li><li>2011-08-26</li><li>2011-09-02</li><li>2011-09-09</li><li>2011-09-16</li><li>2011-09-23</li><li>2011-09-30</li><li>2011-10-07</li><li>2011-10-14</li><li>2011-10-21</li><li>2011-10-28</li><li>2011-11-04</li><li>2011-11-11</li><li>2011-11-18</li><li>2011-11-25</li><li>2011-12-02</li><li>2011-12-09</li><li>2011-12-16</li><li>2011-12-23</li><li>2011-12-30</li><li>2012-01-06</li><li>2012-01-13</li><li>2012-01-20</li><li>2012-01-27</li><li>2012-02-03</li><li>2012-02-10</li><li>2012-02-17</li><li>2012-02-24</li><li>2012-03-02</li><li>2012-03-09</li><li>2012-03-16</li><li>2012-03-23</li><li>2012-03-30</li><li>2012-04-06</li><li>2012-04-13</li><li>2012-04-20</li><li>2012-04-27</li><li>2012-05-04</li><li>2012-05-11</li><li>2012-05-18</li><li>2012-05-25</li><li>2012-06-01</li><li>2012-06-08</li><li>2012-06-15</li><li>2012-06-22</li><li>2012-06-29</li><li>2012-07-06</li><li>2012-07-13</li><li>2012-07-20</li><li>2012-07-27</li><li>2012-08-03</li><li>2012-08-10</li><li>2012-08-17</li><li>2012-08-24</li><li>2012-08-31</li><li>2012-09-07</li><li>2012-09-14</li><li>2012-09-21</li><li>2012-09-28</li><li>2012-10-05</li><li>2012-10-12</li><li>2012-10-19</li><li>2012-10-26</li></ol>\n",
              "\n",
              "<details>\n",
              "\t<summary style=display:list-item;cursor:pointer>\n",
              "\t\t<strong>Levels</strong>:\n",
              "\t</summary>\n",
              "\t<style>\n",
              "\t.list-inline {list-style: none; margin:0; padding: 0}\n",
              "\t.list-inline>li {display: inline-block}\n",
              "\t.list-inline>li:not(:last-child)::after {content: \"\\00b7\"; padding: 0 .5ex}\n",
              "\t</style>\n",
              "\t<ol class=list-inline><li>'2010-02-05'</li><li>'2010-02-12'</li><li>'2010-02-19'</li><li>'2010-02-26'</li><li>'2010-03-05'</li><li>'2010-03-12'</li><li>'2010-03-19'</li><li>'2010-03-26'</li><li>'2010-04-02'</li><li>'2010-04-09'</li><li>'2010-04-16'</li><li>'2010-04-23'</li><li>'2010-04-30'</li><li>'2010-05-07'</li><li>'2010-05-14'</li><li>'2010-05-21'</li><li>'2010-05-28'</li><li>'2010-06-04'</li><li>'2010-06-11'</li><li>'2010-06-18'</li><li>'2010-06-25'</li><li>'2010-07-02'</li><li>'2010-07-09'</li><li>'2010-07-16'</li><li>'2010-07-23'</li><li>'2010-07-30'</li><li>'2010-08-06'</li><li>'2010-08-13'</li><li>'2010-08-20'</li><li>'2010-08-27'</li><li>'2010-09-03'</li><li>'2010-09-10'</li><li>'2010-09-17'</li><li>'2010-09-24'</li><li>'2010-10-01'</li><li>'2010-10-08'</li><li>'2010-10-15'</li><li>'2010-10-22'</li><li>'2010-10-29'</li><li>'2010-11-05'</li><li>'2010-11-12'</li><li>'2010-11-19'</li><li>'2010-11-26'</li><li>'2010-12-03'</li><li>'2010-12-10'</li><li>'2010-12-17'</li><li>'2010-12-24'</li><li>'2010-12-31'</li><li>'2011-01-07'</li><li>'2011-01-14'</li><li>'2011-01-21'</li><li>'2011-01-28'</li><li>'2011-02-04'</li><li>'2011-02-11'</li><li>'2011-02-18'</li><li>'2011-02-25'</li><li>'2011-03-04'</li><li>'2011-03-11'</li><li>'2011-03-18'</li><li>'2011-03-25'</li><li>'2011-04-01'</li><li>'2011-04-08'</li><li>'2011-04-15'</li><li>'2011-04-22'</li><li>'2011-04-29'</li><li>'2011-05-06'</li><li>'2011-05-13'</li><li>'2011-05-20'</li><li>'2011-05-27'</li><li>'2011-06-03'</li><li>'2011-06-10'</li><li>'2011-06-17'</li><li>'2011-06-24'</li><li>'2011-07-01'</li><li>'2011-07-08'</li><li>'2011-07-15'</li><li>'2011-07-22'</li><li>'2011-07-29'</li><li>'2011-08-05'</li><li>'2011-08-12'</li><li>'2011-08-19'</li><li>'2011-08-26'</li><li>'2011-09-02'</li><li>'2011-09-09'</li><li>'2011-09-16'</li><li>'2011-09-23'</li><li>'2011-09-30'</li><li>'2011-10-07'</li><li>'2011-10-14'</li><li>'2011-10-21'</li><li>'2011-10-28'</li><li>'2011-11-04'</li><li>'2011-11-11'</li><li>'2011-11-18'</li><li>'2011-11-25'</li><li>'2011-12-02'</li><li>'2011-12-09'</li><li>'2011-12-16'</li><li>'2011-12-23'</li><li>'2011-12-30'</li><li>'2012-01-06'</li><li>'2012-01-13'</li><li>'2012-01-20'</li><li>'2012-01-27'</li><li>'2012-02-03'</li><li>'2012-02-10'</li><li>'2012-02-17'</li><li>'2012-02-24'</li><li>'2012-03-02'</li><li>'2012-03-09'</li><li>'2012-03-16'</li><li>'2012-03-23'</li><li>'2012-03-30'</li><li>'2012-04-06'</li><li>'2012-04-13'</li><li>'2012-04-20'</li><li>'2012-04-27'</li><li>'2012-05-04'</li><li>'2012-05-11'</li><li>'2012-05-18'</li><li>'2012-05-25'</li><li>'2012-06-01'</li><li>'2012-06-08'</li><li>'2012-06-15'</li><li>'2012-06-22'</li><li>'2012-06-29'</li><li>'2012-07-06'</li><li>'2012-07-13'</li><li>'2012-07-20'</li><li>'2012-07-27'</li><li>'2012-08-03'</li><li>'2012-08-10'</li><li>'2012-08-17'</li><li>'2012-08-24'</li><li>'2012-08-31'</li><li>'2012-09-07'</li><li>'2012-09-14'</li><li>'2012-09-21'</li><li>'2012-09-28'</li><li>'2012-10-05'</li><li>'2012-10-12'</li><li>'2012-10-19'</li><li>'2012-10-26'</li></ol>\n",
              "</details>"
            ],
            "text/markdown": "1. 2010-02-05\n2. 2010-02-12\n3. 2010-02-19\n4. 2010-02-26\n5. 2010-03-05\n6. 2010-03-12\n7. 2010-03-19\n8. 2010-03-26\n9. 2010-04-02\n10. 2010-04-09\n11. 2010-04-16\n12. 2010-04-23\n13. 2010-04-30\n14. 2010-05-07\n15. 2010-05-14\n16. 2010-05-21\n17. 2010-05-28\n18. 2010-06-04\n19. 2010-06-11\n20. 2010-06-18\n21. 2010-06-25\n22. 2010-07-02\n23. 2010-07-09\n24. 2010-07-16\n25. 2010-07-23\n26. 2010-07-30\n27. 2010-08-06\n28. 2010-08-13\n29. 2010-08-20\n30. 2010-08-27\n31. 2010-09-03\n32. 2010-09-10\n33. 2010-09-17\n34. 2010-09-24\n35. 2010-10-01\n36. 2010-10-08\n37. 2010-10-15\n38. 2010-10-22\n39. 2010-10-29\n40. 2010-11-05\n41. 2010-11-12\n42. 2010-11-19\n43. 2010-11-26\n44. 2010-12-03\n45. 2010-12-10\n46. 2010-12-17\n47. 2010-12-24\n48. 2010-12-31\n49. 2011-01-07\n50. 2011-01-14\n51. 2011-01-21\n52. 2011-01-28\n53. 2011-02-04\n54. 2011-02-11\n55. 2011-02-18\n56. 2011-02-25\n57. 2011-03-04\n58. 2011-03-11\n59. 2011-03-18\n60. 2011-03-25\n61. 2011-04-01\n62. 2011-04-08\n63. 2011-04-15\n64. 2011-04-22\n65. 2011-04-29\n66. 2011-05-06\n67. 2011-05-13\n68. 2011-05-20\n69. 2011-05-27\n70. 2011-06-03\n71. 2011-06-10\n72. 2011-06-17\n73. 2011-06-24\n74. 2011-07-01\n75. 2011-07-08\n76. 2011-07-15\n77. 2011-07-22\n78. 2011-07-29\n79. 2011-08-05\n80. 2011-08-12\n81. 2011-08-19\n82. 2011-08-26\n83. 2011-09-02\n84. 2011-09-09\n85. 2011-09-16\n86. 2011-09-23\n87. 2011-09-30\n88. 2011-10-07\n89. 2011-10-14\n90. 2011-10-21\n91. 2011-10-28\n92. 2011-11-04\n93. 2011-11-11\n94. 2011-11-18\n95. 2011-11-25\n96. 2011-12-02\n97. 2011-12-09\n98. 2011-12-16\n99. 2011-12-23\n100. 2011-12-30\n101. 2012-01-06\n102. 2012-01-13\n103. 2012-01-20\n104. 2012-01-27\n105. 2012-02-03\n106. 2012-02-10\n107. 2012-02-17\n108. 2012-02-24\n109. 2012-03-02\n110. 2012-03-09\n111. 2012-03-16\n112. 2012-03-23\n113. 2012-03-30\n114. 2012-04-06\n115. 2012-04-13\n116. 2012-04-20\n117. 2012-04-27\n118. 2012-05-04\n119. 2012-05-11\n120. 2012-05-18\n121. 2012-05-25\n122. 2012-06-01\n123. 2012-06-08\n124. 2012-06-15\n125. 2012-06-22\n126. 2012-06-29\n127. 2012-07-06\n128. 2012-07-13\n129. 2012-07-20\n130. 2012-07-27\n131. 2012-08-03\n132. 2012-08-10\n133. 2012-08-17\n134. 2012-08-24\n135. 2012-08-31\n136. 2012-09-07\n137. 2012-09-14\n138. 2012-09-21\n139. 2012-09-28\n140. 2012-10-05\n141. 2012-10-12\n142. 2012-10-19\n143. 2012-10-26\n\n\n\n**Levels**: 1. '2010-02-05'\n2. '2010-02-12'\n3. '2010-02-19'\n4. '2010-02-26'\n5. '2010-03-05'\n6. '2010-03-12'\n7. '2010-03-19'\n8. '2010-03-26'\n9. '2010-04-02'\n10. '2010-04-09'\n11. '2010-04-16'\n12. '2010-04-23'\n13. '2010-04-30'\n14. '2010-05-07'\n15. '2010-05-14'\n16. '2010-05-21'\n17. '2010-05-28'\n18. '2010-06-04'\n19. '2010-06-11'\n20. '2010-06-18'\n21. '2010-06-25'\n22. '2010-07-02'\n23. '2010-07-09'\n24. '2010-07-16'\n25. '2010-07-23'\n26. '2010-07-30'\n27. '2010-08-06'\n28. '2010-08-13'\n29. '2010-08-20'\n30. '2010-08-27'\n31. '2010-09-03'\n32. '2010-09-10'\n33. '2010-09-17'\n34. '2010-09-24'\n35. '2010-10-01'\n36. '2010-10-08'\n37. '2010-10-15'\n38. '2010-10-22'\n39. '2010-10-29'\n40. '2010-11-05'\n41. '2010-11-12'\n42. '2010-11-19'\n43. '2010-11-26'\n44. '2010-12-03'\n45. '2010-12-10'\n46. '2010-12-17'\n47. '2010-12-24'\n48. '2010-12-31'\n49. '2011-01-07'\n50. '2011-01-14'\n51. '2011-01-21'\n52. '2011-01-28'\n53. '2011-02-04'\n54. '2011-02-11'\n55. '2011-02-18'\n56. '2011-02-25'\n57. '2011-03-04'\n58. '2011-03-11'\n59. '2011-03-18'\n60. '2011-03-25'\n61. '2011-04-01'\n62. '2011-04-08'\n63. '2011-04-15'\n64. '2011-04-22'\n65. '2011-04-29'\n66. '2011-05-06'\n67. '2011-05-13'\n68. '2011-05-20'\n69. '2011-05-27'\n70. '2011-06-03'\n71. '2011-06-10'\n72. '2011-06-17'\n73. '2011-06-24'\n74. '2011-07-01'\n75. '2011-07-08'\n76. '2011-07-15'\n77. '2011-07-22'\n78. '2011-07-29'\n79. '2011-08-05'\n80. '2011-08-12'\n81. '2011-08-19'\n82. '2011-08-26'\n83. '2011-09-02'\n84. '2011-09-09'\n85. '2011-09-16'\n86. '2011-09-23'\n87. '2011-09-30'\n88. '2011-10-07'\n89. '2011-10-14'\n90. '2011-10-21'\n91. '2011-10-28'\n92. '2011-11-04'\n93. '2011-11-11'\n94. '2011-11-18'\n95. '2011-11-25'\n96. '2011-12-02'\n97. '2011-12-09'\n98. '2011-12-16'\n99. '2011-12-23'\n100. '2011-12-30'\n101. '2012-01-06'\n102. '2012-01-13'\n103. '2012-01-20'\n104. '2012-01-27'\n105. '2012-02-03'\n106. '2012-02-10'\n107. '2012-02-17'\n108. '2012-02-24'\n109. '2012-03-02'\n110. '2012-03-09'\n111. '2012-03-16'\n112. '2012-03-23'\n113. '2012-03-30'\n114. '2012-04-06'\n115. '2012-04-13'\n116. '2012-04-20'\n117. '2012-04-27'\n118. '2012-05-04'\n119. '2012-05-11'\n120. '2012-05-18'\n121. '2012-05-25'\n122. '2012-06-01'\n123. '2012-06-08'\n124. '2012-06-15'\n125. '2012-06-22'\n126. '2012-06-29'\n127. '2012-07-06'\n128. '2012-07-13'\n129. '2012-07-20'\n130. '2012-07-27'\n131. '2012-08-03'\n132. '2012-08-10'\n133. '2012-08-17'\n134. '2012-08-24'\n135. '2012-08-31'\n136. '2012-09-07'\n137. '2012-09-14'\n138. '2012-09-21'\n139. '2012-09-28'\n140. '2012-10-05'\n141. '2012-10-12'\n142. '2012-10-19'\n143. '2012-10-26'\n\n\n",
            "text/latex": "\\begin{enumerate*}\n\\item 2010-02-05\n\\item 2010-02-12\n\\item 2010-02-19\n\\item 2010-02-26\n\\item 2010-03-05\n\\item 2010-03-12\n\\item 2010-03-19\n\\item 2010-03-26\n\\item 2010-04-02\n\\item 2010-04-09\n\\item 2010-04-16\n\\item 2010-04-23\n\\item 2010-04-30\n\\item 2010-05-07\n\\item 2010-05-14\n\\item 2010-05-21\n\\item 2010-05-28\n\\item 2010-06-04\n\\item 2010-06-11\n\\item 2010-06-18\n\\item 2010-06-25\n\\item 2010-07-02\n\\item 2010-07-09\n\\item 2010-07-16\n\\item 2010-07-23\n\\item 2010-07-30\n\\item 2010-08-06\n\\item 2010-08-13\n\\item 2010-08-20\n\\item 2010-08-27\n\\item 2010-09-03\n\\item 2010-09-10\n\\item 2010-09-17\n\\item 2010-09-24\n\\item 2010-10-01\n\\item 2010-10-08\n\\item 2010-10-15\n\\item 2010-10-22\n\\item 2010-10-29\n\\item 2010-11-05\n\\item 2010-11-12\n\\item 2010-11-19\n\\item 2010-11-26\n\\item 2010-12-03\n\\item 2010-12-10\n\\item 2010-12-17\n\\item 2010-12-24\n\\item 2010-12-31\n\\item 2011-01-07\n\\item 2011-01-14\n\\item 2011-01-21\n\\item 2011-01-28\n\\item 2011-02-04\n\\item 2011-02-11\n\\item 2011-02-18\n\\item 2011-02-25\n\\item 2011-03-04\n\\item 2011-03-11\n\\item 2011-03-18\n\\item 2011-03-25\n\\item 2011-04-01\n\\item 2011-04-08\n\\item 2011-04-15\n\\item 2011-04-22\n\\item 2011-04-29\n\\item 2011-05-06\n\\item 2011-05-13\n\\item 2011-05-20\n\\item 2011-05-27\n\\item 2011-06-03\n\\item 2011-06-10\n\\item 2011-06-17\n\\item 2011-06-24\n\\item 2011-07-01\n\\item 2011-07-08\n\\item 2011-07-15\n\\item 2011-07-22\n\\item 2011-07-29\n\\item 2011-08-05\n\\item 2011-08-12\n\\item 2011-08-19\n\\item 2011-08-26\n\\item 2011-09-02\n\\item 2011-09-09\n\\item 2011-09-16\n\\item 2011-09-23\n\\item 2011-09-30\n\\item 2011-10-07\n\\item 2011-10-14\n\\item 2011-10-21\n\\item 2011-10-28\n\\item 2011-11-04\n\\item 2011-11-11\n\\item 2011-11-18\n\\item 2011-11-25\n\\item 2011-12-02\n\\item 2011-12-09\n\\item 2011-12-16\n\\item 2011-12-23\n\\item 2011-12-30\n\\item 2012-01-06\n\\item 2012-01-13\n\\item 2012-01-20\n\\item 2012-01-27\n\\item 2012-02-03\n\\item 2012-02-10\n\\item 2012-02-17\n\\item 2012-02-24\n\\item 2012-03-02\n\\item 2012-03-09\n\\item 2012-03-16\n\\item 2012-03-23\n\\item 2012-03-30\n\\item 2012-04-06\n\\item 2012-04-13\n\\item 2012-04-20\n\\item 2012-04-27\n\\item 2012-05-04\n\\item 2012-05-11\n\\item 2012-05-18\n\\item 2012-05-25\n\\item 2012-06-01\n\\item 2012-06-08\n\\item 2012-06-15\n\\item 2012-06-22\n\\item 2012-06-29\n\\item 2012-07-06\n\\item 2012-07-13\n\\item 2012-07-20\n\\item 2012-07-27\n\\item 2012-08-03\n\\item 2012-08-10\n\\item 2012-08-17\n\\item 2012-08-24\n\\item 2012-08-31\n\\item 2012-09-07\n\\item 2012-09-14\n\\item 2012-09-21\n\\item 2012-09-28\n\\item 2012-10-05\n\\item 2012-10-12\n\\item 2012-10-19\n\\item 2012-10-26\n\\end{enumerate*}\n\n\\emph{Levels}: \\begin{enumerate*}\n\\item '2010-02-05'\n\\item '2010-02-12'\n\\item '2010-02-19'\n\\item '2010-02-26'\n\\item '2010-03-05'\n\\item '2010-03-12'\n\\item '2010-03-19'\n\\item '2010-03-26'\n\\item '2010-04-02'\n\\item '2010-04-09'\n\\item '2010-04-16'\n\\item '2010-04-23'\n\\item '2010-04-30'\n\\item '2010-05-07'\n\\item '2010-05-14'\n\\item '2010-05-21'\n\\item '2010-05-28'\n\\item '2010-06-04'\n\\item '2010-06-11'\n\\item '2010-06-18'\n\\item '2010-06-25'\n\\item '2010-07-02'\n\\item '2010-07-09'\n\\item '2010-07-16'\n\\item '2010-07-23'\n\\item '2010-07-30'\n\\item '2010-08-06'\n\\item '2010-08-13'\n\\item '2010-08-20'\n\\item '2010-08-27'\n\\item '2010-09-03'\n\\item '2010-09-10'\n\\item '2010-09-17'\n\\item '2010-09-24'\n\\item '2010-10-01'\n\\item '2010-10-08'\n\\item '2010-10-15'\n\\item '2010-10-22'\n\\item '2010-10-29'\n\\item '2010-11-05'\n\\item '2010-11-12'\n\\item '2010-11-19'\n\\item '2010-11-26'\n\\item '2010-12-03'\n\\item '2010-12-10'\n\\item '2010-12-17'\n\\item '2010-12-24'\n\\item '2010-12-31'\n\\item '2011-01-07'\n\\item '2011-01-14'\n\\item '2011-01-21'\n\\item '2011-01-28'\n\\item '2011-02-04'\n\\item '2011-02-11'\n\\item '2011-02-18'\n\\item '2011-02-25'\n\\item '2011-03-04'\n\\item '2011-03-11'\n\\item '2011-03-18'\n\\item '2011-03-25'\n\\item '2011-04-01'\n\\item '2011-04-08'\n\\item '2011-04-15'\n\\item '2011-04-22'\n\\item '2011-04-29'\n\\item '2011-05-06'\n\\item '2011-05-13'\n\\item '2011-05-20'\n\\item '2011-05-27'\n\\item '2011-06-03'\n\\item '2011-06-10'\n\\item '2011-06-17'\n\\item '2011-06-24'\n\\item '2011-07-01'\n\\item '2011-07-08'\n\\item '2011-07-15'\n\\item '2011-07-22'\n\\item '2011-07-29'\n\\item '2011-08-05'\n\\item '2011-08-12'\n\\item '2011-08-19'\n\\item '2011-08-26'\n\\item '2011-09-02'\n\\item '2011-09-09'\n\\item '2011-09-16'\n\\item '2011-09-23'\n\\item '2011-09-30'\n\\item '2011-10-07'\n\\item '2011-10-14'\n\\item '2011-10-21'\n\\item '2011-10-28'\n\\item '2011-11-04'\n\\item '2011-11-11'\n\\item '2011-11-18'\n\\item '2011-11-25'\n\\item '2011-12-02'\n\\item '2011-12-09'\n\\item '2011-12-16'\n\\item '2011-12-23'\n\\item '2011-12-30'\n\\item '2012-01-06'\n\\item '2012-01-13'\n\\item '2012-01-20'\n\\item '2012-01-27'\n\\item '2012-02-03'\n\\item '2012-02-10'\n\\item '2012-02-17'\n\\item '2012-02-24'\n\\item '2012-03-02'\n\\item '2012-03-09'\n\\item '2012-03-16'\n\\item '2012-03-23'\n\\item '2012-03-30'\n\\item '2012-04-06'\n\\item '2012-04-13'\n\\item '2012-04-20'\n\\item '2012-04-27'\n\\item '2012-05-04'\n\\item '2012-05-11'\n\\item '2012-05-18'\n\\item '2012-05-25'\n\\item '2012-06-01'\n\\item '2012-06-08'\n\\item '2012-06-15'\n\\item '2012-06-22'\n\\item '2012-06-29'\n\\item '2012-07-06'\n\\item '2012-07-13'\n\\item '2012-07-20'\n\\item '2012-07-27'\n\\item '2012-08-03'\n\\item '2012-08-10'\n\\item '2012-08-17'\n\\item '2012-08-24'\n\\item '2012-08-31'\n\\item '2012-09-07'\n\\item '2012-09-14'\n\\item '2012-09-21'\n\\item '2012-09-28'\n\\item '2012-10-05'\n\\item '2012-10-12'\n\\item '2012-10-19'\n\\item '2012-10-26'\n\\end{enumerate*}\n",
            "text/plain": [
              "  [1] 2010-02-05 2010-02-12 2010-02-19 2010-02-26 2010-03-05 2010-03-12\n",
              "  [7] 2010-03-19 2010-03-26 2010-04-02 2010-04-09 2010-04-16 2010-04-23\n",
              " [13] 2010-04-30 2010-05-07 2010-05-14 2010-05-21 2010-05-28 2010-06-04\n",
              " [19] 2010-06-11 2010-06-18 2010-06-25 2010-07-02 2010-07-09 2010-07-16\n",
              " [25] 2010-07-23 2010-07-30 2010-08-06 2010-08-13 2010-08-20 2010-08-27\n",
              " [31] 2010-09-03 2010-09-10 2010-09-17 2010-09-24 2010-10-01 2010-10-08\n",
              " [37] 2010-10-15 2010-10-22 2010-10-29 2010-11-05 2010-11-12 2010-11-19\n",
              " [43] 2010-11-26 2010-12-03 2010-12-10 2010-12-17 2010-12-24 2010-12-31\n",
              " [49] 2011-01-07 2011-01-14 2011-01-21 2011-01-28 2011-02-04 2011-02-11\n",
              " [55] 2011-02-18 2011-02-25 2011-03-04 2011-03-11 2011-03-18 2011-03-25\n",
              " [61] 2011-04-01 2011-04-08 2011-04-15 2011-04-22 2011-04-29 2011-05-06\n",
              " [67] 2011-05-13 2011-05-20 2011-05-27 2011-06-03 2011-06-10 2011-06-17\n",
              " [73] 2011-06-24 2011-07-01 2011-07-08 2011-07-15 2011-07-22 2011-07-29\n",
              " [79] 2011-08-05 2011-08-12 2011-08-19 2011-08-26 2011-09-02 2011-09-09\n",
              " [85] 2011-09-16 2011-09-23 2011-09-30 2011-10-07 2011-10-14 2011-10-21\n",
              " [91] 2011-10-28 2011-11-04 2011-11-11 2011-11-18 2011-11-25 2011-12-02\n",
              " [97] 2011-12-09 2011-12-16 2011-12-23 2011-12-30 2012-01-06 2012-01-13\n",
              "[103] 2012-01-20 2012-01-27 2012-02-03 2012-02-10 2012-02-17 2012-02-24\n",
              "[109] 2012-03-02 2012-03-09 2012-03-16 2012-03-23 2012-03-30 2012-04-06\n",
              "[115] 2012-04-13 2012-04-20 2012-04-27 2012-05-04 2012-05-11 2012-05-18\n",
              "[121] 2012-05-25 2012-06-01 2012-06-08 2012-06-15 2012-06-22 2012-06-29\n",
              "[127] 2012-07-06 2012-07-13 2012-07-20 2012-07-27 2012-08-03 2012-08-10\n",
              "[133] 2012-08-17 2012-08-24 2012-08-31 2012-09-07 2012-09-14 2012-09-21\n",
              "[139] 2012-09-28 2012-10-05 2012-10-12 2012-10-19 2012-10-26\n",
              "143 Levels: 2010-02-05 2010-02-12 2010-02-19 2010-02-26 ... 2012-10-26"
            ]
          },
          "metadata": {}
        }
      ]
    },
    {
      "cell_type": "code",
      "source": [
        "ggplot(data=Month_Year_Sales,aes(x=month_Year,y=Sales_by_Month,group=1))+\n",
        "  geom_line(color=\"Steelblue\")+\n",
        "  geom_point()"
      ],
      "metadata": {
        "colab": {
          "base_uri": "https://localhost:8080/",
          "height": 437
        },
        "id": "NwZnXhG8alKJ",
        "outputId": "942e31a6-7324-4197-cbb0-3b22bd15001f"
      },
      "execution_count": 39,
      "outputs": [
        {
          "output_type": "display_data",
          "data": {
            "text/plain": [
              "plot without title"
            ],
            "image/png": "[encoded data removed]"
          },
          "metadata": {
            "image/png": {
              "width": 420,
              "height": 420
            }
          }
        }
      ]
    },
    {
      "cell_type": "code",
      "source": [
        "df2$Date<-dmy(df2$Date)"
      ],
      "metadata": {
        "id": "55kA1k3RalNZ"
      },
      "execution_count": 40,
      "outputs": []
    },
    {
      "cell_type": "code",
      "source": [
        "df2$sem<-semester(df2$Date, with_year=TRUE)"
      ],
      "metadata": {
        "id": "RLVhIYR5alRi"
      },
      "execution_count": 41,
      "outputs": []
    },
    {
      "cell_type": "code",
      "source": [
        "s<-aggregate(Weekly_Sales~sem,data=df2,sum)\n",
        "s"
      ],
      "metadata": {
        "colab": {
          "base_uri": "https://localhost:8080/",
          "height": 286
        },
        "id": "DD9BdbVoalX9",
        "outputId": "87e81f16-1e6e-42de-fadb-1d04fcfa7c74"
      },
      "execution_count": 42,
      "outputs": [
        {
          "output_type": "display_data",
          "data": {
            "text/html": [
              "<table class=\"dataframe\">\n",
              "<caption>A data.frame: 6 × 2</caption>\n",
              "<thead>\n",
              "\t<tr><th scope=col>sem</th><th scope=col>Weekly_Sales</th></tr>\n",
              "\t<tr><th scope=col>&lt;dbl&gt;</th><th scope=col>&lt;dbl&gt;</th></tr>\n",
              "</thead>\n",
              "<tbody>\n",
              "\t<tr><td>2010.1</td><td> 982622260</td></tr>\n",
              "\t<tr><td>2010.2</td><td>1306263860</td></tr>\n",
              "\t<tr><td>2011.1</td><td>1127339797</td></tr>\n",
              "\t<tr><td>2011.2</td><td>1320860210</td></tr>\n",
              "\t<tr><td>2012.1</td><td>1210765416</td></tr>\n",
              "\t<tr><td>2012.2</td><td> 789367443</td></tr>\n",
              "</tbody>\n",
              "</table>\n"
            ],
            "text/markdown": "\nA data.frame: 6 × 2\n\n| sem &lt;dbl&gt; | Weekly_Sales &lt;dbl&gt; |\n|---|---|\n| 2010.1 |  982622260 |\n| 2010.2 | 1306263860 |\n| 2011.1 | 1127339797 |\n| 2011.2 | 1320860210 |\n| 2012.1 | 1210765416 |\n| 2012.2 |  789367443 |\n\n",
            "text/latex": "A data.frame: 6 × 2\n\\begin{tabular}{ll}\n sem & Weekly\\_Sales\\\\\n <dbl> & <dbl>\\\\\n\\hline\n\t 2010.1 &  982622260\\\\\n\t 2010.2 & 1306263860\\\\\n\t 2011.1 & 1127339797\\\\\n\t 2011.2 & 1320860210\\\\\n\t 2012.1 & 1210765416\\\\\n\t 2012.2 &  789367443\\\\\n\\end{tabular}\n",
            "text/plain": [
              "  sem    Weekly_Sales\n",
              "1 2010.1  982622260  \n",
              "2 2010.2 1306263860  \n",
              "3 2011.1 1127339797  \n",
              "4 2011.2 1320860210  \n",
              "5 2012.1 1210765416  \n",
              "6 2012.2  789367443  "
            ]
          },
          "metadata": {}
        }
      ]
    },
    {
      "cell_type": "code",
      "source": [
        "s$sem_year<-paste(substr(s$sem,1,4),\"-s\",substr(s$sem,6,6),sep=\" \")\n",
        "s$sem_year"
      ],
      "metadata": {
        "colab": {
          "base_uri": "https://localhost:8080/",
          "height": 34
        },
        "id": "XZEBWlIGPme9",
        "outputId": "307780f6-d469-421e-e0ad-560c3432fb44"
      },
      "execution_count": 43,
      "outputs": [
        {
          "output_type": "display_data",
          "data": {
            "text/html": [
              "<style>\n",
              ".list-inline {list-style: none; margin:0; padding: 0}\n",
              ".list-inline>li {display: inline-block}\n",
              ".list-inline>li:not(:last-child)::after {content: \"\\00b7\"; padding: 0 .5ex}\n",
              "</style>\n",
              "<ol class=list-inline><li>'2010 -s 1'</li><li>'2010 -s 2'</li><li>'2011 -s 1'</li><li>'2011 -s 2'</li><li>'2012 -s 1'</li><li>'2012 -s 2'</li></ol>\n"
            ],
            "text/markdown": "1. '2010 -s 1'\n2. '2010 -s 2'\n3. '2011 -s 1'\n4. '2011 -s 2'\n5. '2012 -s 1'\n6. '2012 -s 2'\n\n\n",
            "text/latex": "\\begin{enumerate*}\n\\item '2010 -s 1'\n\\item '2010 -s 2'\n\\item '2011 -s 1'\n\\item '2011 -s 2'\n\\item '2012 -s 1'\n\\item '2012 -s 2'\n\\end{enumerate*}\n",
            "text/plain": [
              "[1] \"2010 -s 1\" \"2010 -s 2\" \"2011 -s 1\" \"2011 -s 2\" \"2012 -s 1\" \"2012 -s 2\""
            ]
          },
          "metadata": {}
        }
      ]
    },
    {
      "cell_type": "code",
      "source": [
        "ggplot(data=s,aes(x=sem_year,y=Weekly_Sales,group=1))+\n",
        "  geom_line(color=\"Steelblue\")+\n",
        "  geom_point()"
      ],
      "metadata": {
        "colab": {
          "base_uri": "https://localhost:8080/",
          "height": 437
        },
        "id": "NXoGuJAHPmhd",
        "outputId": "65e013f4-4947-4f27-df40-f9536cddb434"
      },
      "execution_count": 44,
      "outputs": [
        {
          "output_type": "display_data",
          "data": {
            "text/plain": [
              "plot without title"
            ],
            "image/png": "[encoded data removed]"
          },
          "metadata": {
            "image/png": {
              "width": 420,
              "height": 420
            }
          }
        }
      ]
    },
    {
      "cell_type": "code",
      "source": [],
      "metadata": {
        "id": "2Duci3FDPmkk"
      },
      "execution_count": 45,
      "outputs": []
    }
  ]
}